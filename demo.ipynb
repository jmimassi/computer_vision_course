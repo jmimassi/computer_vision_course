{
 "cells": [
  {
   "cell_type": "code",
   "execution_count": 43,
   "id": "f46744da",
   "metadata": {},
   "outputs": [
    {
     "data": {
      "application/vnd.plotly.v1+json": {
       "config": {
        "plotlyServerURL": "https://plot.ly"
       },
       "data": [
        {
         "marker": {
          "color": "black",
          "size": 8,
          "symbol": "circle"
         },
         "mode": "markers",
         "name": "Origin",
         "scene": "scene",
         "showlegend": true,
         "type": "scatter3d",
         "x": [
          0
         ],
         "y": [
          0
         ],
         "z": [
          0
         ]
        },
        {
         "line": {
          "color": "red",
          "width": 8
         },
         "mode": "lines",
         "name": "World X Axis",
         "scene": "scene",
         "type": "scatter3d",
         "x": [
          0,
          2
         ],
         "y": [
          0,
          0
         ],
         "z": [
          0,
          0
         ]
        },
        {
         "line": {
          "color": "green",
          "width": 8
         },
         "mode": "lines",
         "name": "World Y Axis",
         "scene": "scene",
         "type": "scatter3d",
         "x": [
          0,
          0
         ],
         "y": [
          0,
          2
         ],
         "z": [
          0,
          0
         ]
        },
        {
         "line": {
          "color": "blue",
          "width": 8
         },
         "mode": "lines",
         "name": "World Z Axis",
         "scene": "scene",
         "type": "scatter3d",
         "x": [
          0,
          0
         ],
         "y": [
          0,
          0
         ],
         "z": [
          0,
          2
         ]
        },
        {
         "marker": {
          "color": "red",
          "size": 6,
          "symbol": "circle"
         },
         "mode": "markers",
         "name": "Point",
         "scene": "scene",
         "showlegend": true,
         "type": "scatter3d",
         "x": [
          3
         ],
         "y": [
          1
         ],
         "z": [
          2
         ]
        },
        {
         "marker": {
          "color": "blue",
          "size": 5,
          "symbol": "diamond"
         },
         "mode": "markers",
         "name": "Caméra Origin",
         "scene": "scene",
         "showlegend": true,
         "type": "scatter3d",
         "x": [
          -2
         ],
         "y": [
          0
         ],
         "z": [
          0
         ]
        },
        {
         "line": {
          "color": "blue",
          "width": 4
         },
         "mode": "lines",
         "name": "Caméra Z Axis",
         "scene": "scene",
         "showlegend": false,
         "type": "scatter3d",
         "x": [
          -2,
          -1.7878679656440357
         ],
         "y": [
          0,
          0
         ],
         "z": [
          0,
          0.21213203435596426
         ]
        },
        {
         "line": {
          "color": "red",
          "width": 4
         },
         "mode": "lines",
         "name": "Caméra X Axis",
         "scene": "scene",
         "showlegend": false,
         "type": "scatter3d",
         "x": [
          -2,
          -1.7878679656440357
         ],
         "y": [
          0,
          0
         ],
         "z": [
          0,
          -0.21213203435596423
         ]
        },
        {
         "line": {
          "color": "#00CC00",
          "width": 4
         },
         "mode": "lines",
         "name": "Caméra Y Axis",
         "scene": "scene",
         "showlegend": false,
         "type": "scatter3d",
         "x": [
          -2,
          -2
         ],
         "y": [
          0,
          0.3
         ],
         "z": [
          0,
          0
         ]
        },
        {
         "color": "blue",
         "flatshading": true,
         "i": [
          0,
          0
         ],
         "j": [
          1,
          2
         ],
         "k": [
          2,
          3
         ],
         "name": "Caméra Image Plane",
         "opacity": 0.15,
         "scene": "scene",
         "showlegend": true,
         "type": "mesh3d",
         "x": [
          -1.6464466094067263,
          -0.9393398282201788,
          -0.9393398282201788,
          -1.6464466094067263
         ],
         "y": [
          -0.5,
          -0.5,
          0.5,
          0.5
         ],
         "z": [
          1.0606601717798214,
          0.35355339059327384,
          0.35355339059327384,
          1.0606601717798214
         ]
        },
        {
         "line": {
          "color": "blue",
          "dash": "dash",
          "width": 2
         },
         "mode": "lines",
         "name": "Caméra Optical Axis",
         "scene": "scene",
         "showlegend": false,
         "type": "scatter3d",
         "x": [
          -2,
          -1.2928932188134525
         ],
         "y": [
          0,
          0
         ],
         "z": [
          0,
          0.7071067811865476
         ]
        },
        {
         "marker": {
          "color": "green",
          "size": 5,
          "symbol": "diamond"
         },
         "mode": "markers",
         "name": "Avec Coordonnées Origin",
         "scene": "scene",
         "showlegend": true,
         "type": "scatter3d",
         "x": [
          2
         ],
         "y": [
          1
         ],
         "z": [
          0
         ]
        },
        {
         "line": {
          "color": "blue",
          "width": 4
         },
         "mode": "lines",
         "name": "Avec Coordonnées Z Axis",
         "scene": "scene",
         "showlegend": false,
         "type": "scatter3d",
         "x": [
          2,
          2
         ],
         "y": [
          1,
          1
         ],
         "z": [
          0,
          0.3
         ]
        },
        {
         "line": {
          "color": "red",
          "width": 4
         },
         "mode": "lines",
         "name": "Avec Coordonnées X Axis",
         "scene": "scene",
         "showlegend": false,
         "type": "scatter3d",
         "x": [
          2,
          2.3
         ],
         "y": [
          1,
          1
         ],
         "z": [
          0,
          0
         ]
        },
        {
         "line": {
          "color": "#00CC00",
          "width": 4
         },
         "mode": "lines",
         "name": "Avec Coordonnées Y Axis",
         "scene": "scene",
         "showlegend": false,
         "type": "scatter3d",
         "x": [
          2,
          2
         ],
         "y": [
          1,
          1.3
         ],
         "z": [
          0,
          0
         ]
        },
        {
         "marker": {
          "color": "red",
          "size": 5,
          "symbol": "circle"
         },
         "mode": "markers",
         "name": "Point (Caméra)",
         "scene": "scene",
         "showlegend": true,
         "type": "scatter3d",
         "x": [
          3
         ],
         "y": [
          1
         ],
         "z": [
          2
         ]
        },
        {
         "marker": {
          "color": "red",
          "size": 5,
          "symbol": "x"
         },
         "mode": "markers",
         "name": "Point (Caméra) Projection",
         "scene": "scene",
         "showlegend": true,
         "type": "scatter3d",
         "x": [
          -0.9898474554477894
         ],
         "y": [
          0.20203050891044214
         ],
         "z": [
          0.40406101782088427
         ]
        },
        {
         "line": {
          "color": "red",
          "dash": "dash",
          "width": 2
         },
         "mode": "lines",
         "name": "Point (Caméra) Ray",
         "scene": "scene",
         "showlegend": false,
         "type": "scatter3d",
         "x": [
          -2,
          3
         ],
         "y": [
          0,
          1
         ],
         "z": [
          0,
          2
         ]
        },
        {
         "marker": {
          "color": "red",
          "size": 10,
          "symbol": "x"
         },
         "mode": "markers+text",
         "name": "Point (Caméra)",
         "showlegend": false,
         "text": [
          "(0.43, 0.20)"
         ],
         "textposition": "top center",
         "type": "scatter",
         "x": [
          0.4285714285714286
         ],
         "xaxis": "x",
         "y": [
          0.20203050891044214
         ],
         "yaxis": "y"
        }
       ],
       "layout": {
        "annotations": [
         {
          "font": {
           "size": 16
          },
          "showarrow": false,
          "text": "3D Scene",
          "x": 0.5,
          "xanchor": "center",
          "xref": "paper",
          "y": 1,
          "yanchor": "bottom",
          "yref": "paper"
         },
         {
          "font": {
           "size": 16
          },
          "showarrow": false,
          "text": "Caméra View",
          "x": 0.5,
          "xanchor": "center",
          "xref": "paper",
          "y": 0.45,
          "yanchor": "bottom",
          "yref": "paper"
         }
        ],
        "height": 900,
        "scene": {
         "annotations": [
          {
           "align": "left",
           "arrowcolor": "red",
           "arrowhead": 1,
           "ax": 30,
           "ay": -30,
           "font": {
            "color": "red",
            "size": 10
           },
           "showarrow": true,
           "text": "Point (Caméra) (-0.99, 0.20, 0.40)",
           "x": -0.9898474554477894,
           "xanchor": "center",
           "y": 0.20203050891044214,
           "yanchor": "bottom",
           "z": 0.40406101782088427
          }
         ],
         "aspectmode": "manual",
         "aspectratio": {
          "x": 1,
          "y": 1,
          "z": 1
         },
         "domain": {
          "x": [
           0,
           1
          ],
          "y": [
           0.55,
           1
          ]
         },
         "xaxis": {
          "backgroundcolor": "rgb(230, 230, 230)",
          "gridcolor": "white",
          "range": [
           -3,
           4
          ],
          "title": {
           "text": "X"
          }
         },
         "yaxis": {
          "backgroundcolor": "rgb(230, 230, 230)",
          "gridcolor": "white",
          "range": [
           -1.5,
           2
          ],
          "title": {
           "text": "Y"
          }
         },
         "zaxis": {
          "backgroundcolor": "rgb(230, 230, 230)",
          "gridcolor": "white",
          "range": [
           -1,
           3
          ],
          "title": {
           "text": "Z"
          }
         }
        },
        "shapes": [
         {
          "fillcolor": "rgba(255, 255, 255, 0.0)",
          "line": {
           "color": "black",
           "width": 2
          },
          "type": "rect",
          "x0": -0.5,
          "x1": 0.5,
          "xref": "x",
          "y0": -0.5,
          "y1": 0.5,
          "yref": "y"
         },
         {
          "line": {
           "color": "gray",
           "dash": "dash",
           "width": 1
          },
          "type": "line",
          "x0": -0.5,
          "x1": 0.5,
          "xref": "x",
          "y0": 0,
          "y1": 0,
          "yref": "y"
         },
         {
          "line": {
           "color": "gray",
           "dash": "dash",
           "width": 1
          },
          "type": "line",
          "x0": 0,
          "x1": 0,
          "xref": "x",
          "y0": -0.5,
          "y1": 0.5,
          "yref": "y"
         }
        ],
        "template": {
         "data": {
          "bar": [
           {
            "error_x": {
             "color": "#2a3f5f"
            },
            "error_y": {
             "color": "#2a3f5f"
            },
            "marker": {
             "line": {
              "color": "#E5ECF6",
              "width": 0.5
             },
             "pattern": {
              "fillmode": "overlay",
              "size": 10,
              "solidity": 0.2
             }
            },
            "type": "bar"
           }
          ],
          "barpolar": [
           {
            "marker": {
             "line": {
              "color": "#E5ECF6",
              "width": 0.5
             },
             "pattern": {
              "fillmode": "overlay",
              "size": 10,
              "solidity": 0.2
             }
            },
            "type": "barpolar"
           }
          ],
          "carpet": [
           {
            "aaxis": {
             "endlinecolor": "#2a3f5f",
             "gridcolor": "white",
             "linecolor": "white",
             "minorgridcolor": "white",
             "startlinecolor": "#2a3f5f"
            },
            "baxis": {
             "endlinecolor": "#2a3f5f",
             "gridcolor": "white",
             "linecolor": "white",
             "minorgridcolor": "white",
             "startlinecolor": "#2a3f5f"
            },
            "type": "carpet"
           }
          ],
          "choropleth": [
           {
            "colorbar": {
             "outlinewidth": 0,
             "ticks": ""
            },
            "type": "choropleth"
           }
          ],
          "contour": [
           {
            "colorbar": {
             "outlinewidth": 0,
             "ticks": ""
            },
            "colorscale": [
             [
              0,
              "#0d0887"
             ],
             [
              0.1111111111111111,
              "#46039f"
             ],
             [
              0.2222222222222222,
              "#7201a8"
             ],
             [
              0.3333333333333333,
              "#9c179e"
             ],
             [
              0.4444444444444444,
              "#bd3786"
             ],
             [
              0.5555555555555556,
              "#d8576b"
             ],
             [
              0.6666666666666666,
              "#ed7953"
             ],
             [
              0.7777777777777778,
              "#fb9f3a"
             ],
             [
              0.8888888888888888,
              "#fdca26"
             ],
             [
              1,
              "#f0f921"
             ]
            ],
            "type": "contour"
           }
          ],
          "contourcarpet": [
           {
            "colorbar": {
             "outlinewidth": 0,
             "ticks": ""
            },
            "type": "contourcarpet"
           }
          ],
          "heatmap": [
           {
            "colorbar": {
             "outlinewidth": 0,
             "ticks": ""
            },
            "colorscale": [
             [
              0,
              "#0d0887"
             ],
             [
              0.1111111111111111,
              "#46039f"
             ],
             [
              0.2222222222222222,
              "#7201a8"
             ],
             [
              0.3333333333333333,
              "#9c179e"
             ],
             [
              0.4444444444444444,
              "#bd3786"
             ],
             [
              0.5555555555555556,
              "#d8576b"
             ],
             [
              0.6666666666666666,
              "#ed7953"
             ],
             [
              0.7777777777777778,
              "#fb9f3a"
             ],
             [
              0.8888888888888888,
              "#fdca26"
             ],
             [
              1,
              "#f0f921"
             ]
            ],
            "type": "heatmap"
           }
          ],
          "histogram": [
           {
            "marker": {
             "pattern": {
              "fillmode": "overlay",
              "size": 10,
              "solidity": 0.2
             }
            },
            "type": "histogram"
           }
          ],
          "histogram2d": [
           {
            "colorbar": {
             "outlinewidth": 0,
             "ticks": ""
            },
            "colorscale": [
             [
              0,
              "#0d0887"
             ],
             [
              0.1111111111111111,
              "#46039f"
             ],
             [
              0.2222222222222222,
              "#7201a8"
             ],
             [
              0.3333333333333333,
              "#9c179e"
             ],
             [
              0.4444444444444444,
              "#bd3786"
             ],
             [
              0.5555555555555556,
              "#d8576b"
             ],
             [
              0.6666666666666666,
              "#ed7953"
             ],
             [
              0.7777777777777778,
              "#fb9f3a"
             ],
             [
              0.8888888888888888,
              "#fdca26"
             ],
             [
              1,
              "#f0f921"
             ]
            ],
            "type": "histogram2d"
           }
          ],
          "histogram2dcontour": [
           {
            "colorbar": {
             "outlinewidth": 0,
             "ticks": ""
            },
            "colorscale": [
             [
              0,
              "#0d0887"
             ],
             [
              0.1111111111111111,
              "#46039f"
             ],
             [
              0.2222222222222222,
              "#7201a8"
             ],
             [
              0.3333333333333333,
              "#9c179e"
             ],
             [
              0.4444444444444444,
              "#bd3786"
             ],
             [
              0.5555555555555556,
              "#d8576b"
             ],
             [
              0.6666666666666666,
              "#ed7953"
             ],
             [
              0.7777777777777778,
              "#fb9f3a"
             ],
             [
              0.8888888888888888,
              "#fdca26"
             ],
             [
              1,
              "#f0f921"
             ]
            ],
            "type": "histogram2dcontour"
           }
          ],
          "mesh3d": [
           {
            "colorbar": {
             "outlinewidth": 0,
             "ticks": ""
            },
            "type": "mesh3d"
           }
          ],
          "parcoords": [
           {
            "line": {
             "colorbar": {
              "outlinewidth": 0,
              "ticks": ""
             }
            },
            "type": "parcoords"
           }
          ],
          "pie": [
           {
            "automargin": true,
            "type": "pie"
           }
          ],
          "scatter": [
           {
            "fillpattern": {
             "fillmode": "overlay",
             "size": 10,
             "solidity": 0.2
            },
            "type": "scatter"
           }
          ],
          "scatter3d": [
           {
            "line": {
             "colorbar": {
              "outlinewidth": 0,
              "ticks": ""
             }
            },
            "marker": {
             "colorbar": {
              "outlinewidth": 0,
              "ticks": ""
             }
            },
            "type": "scatter3d"
           }
          ],
          "scattercarpet": [
           {
            "marker": {
             "colorbar": {
              "outlinewidth": 0,
              "ticks": ""
             }
            },
            "type": "scattercarpet"
           }
          ],
          "scattergeo": [
           {
            "marker": {
             "colorbar": {
              "outlinewidth": 0,
              "ticks": ""
             }
            },
            "type": "scattergeo"
           }
          ],
          "scattergl": [
           {
            "marker": {
             "colorbar": {
              "outlinewidth": 0,
              "ticks": ""
             }
            },
            "type": "scattergl"
           }
          ],
          "scattermap": [
           {
            "marker": {
             "colorbar": {
              "outlinewidth": 0,
              "ticks": ""
             }
            },
            "type": "scattermap"
           }
          ],
          "scattermapbox": [
           {
            "marker": {
             "colorbar": {
              "outlinewidth": 0,
              "ticks": ""
             }
            },
            "type": "scattermapbox"
           }
          ],
          "scatterpolar": [
           {
            "marker": {
             "colorbar": {
              "outlinewidth": 0,
              "ticks": ""
             }
            },
            "type": "scatterpolar"
           }
          ],
          "scatterpolargl": [
           {
            "marker": {
             "colorbar": {
              "outlinewidth": 0,
              "ticks": ""
             }
            },
            "type": "scatterpolargl"
           }
          ],
          "scatterternary": [
           {
            "marker": {
             "colorbar": {
              "outlinewidth": 0,
              "ticks": ""
             }
            },
            "type": "scatterternary"
           }
          ],
          "surface": [
           {
            "colorbar": {
             "outlinewidth": 0,
             "ticks": ""
            },
            "colorscale": [
             [
              0,
              "#0d0887"
             ],
             [
              0.1111111111111111,
              "#46039f"
             ],
             [
              0.2222222222222222,
              "#7201a8"
             ],
             [
              0.3333333333333333,
              "#9c179e"
             ],
             [
              0.4444444444444444,
              "#bd3786"
             ],
             [
              0.5555555555555556,
              "#d8576b"
             ],
             [
              0.6666666666666666,
              "#ed7953"
             ],
             [
              0.7777777777777778,
              "#fb9f3a"
             ],
             [
              0.8888888888888888,
              "#fdca26"
             ],
             [
              1,
              "#f0f921"
             ]
            ],
            "type": "surface"
           }
          ],
          "table": [
           {
            "cells": {
             "fill": {
              "color": "#EBF0F8"
             },
             "line": {
              "color": "white"
             }
            },
            "header": {
             "fill": {
              "color": "#C8D4E3"
             },
             "line": {
              "color": "white"
             }
            },
            "type": "table"
           }
          ]
         },
         "layout": {
          "annotationdefaults": {
           "arrowcolor": "#2a3f5f",
           "arrowhead": 0,
           "arrowwidth": 1
          },
          "autotypenumbers": "strict",
          "coloraxis": {
           "colorbar": {
            "outlinewidth": 0,
            "ticks": ""
           }
          },
          "colorscale": {
           "diverging": [
            [
             0,
             "#8e0152"
            ],
            [
             0.1,
             "#c51b7d"
            ],
            [
             0.2,
             "#de77ae"
            ],
            [
             0.3,
             "#f1b6da"
            ],
            [
             0.4,
             "#fde0ef"
            ],
            [
             0.5,
             "#f7f7f7"
            ],
            [
             0.6,
             "#e6f5d0"
            ],
            [
             0.7,
             "#b8e186"
            ],
            [
             0.8,
             "#7fbc41"
            ],
            [
             0.9,
             "#4d9221"
            ],
            [
             1,
             "#276419"
            ]
           ],
           "sequential": [
            [
             0,
             "#0d0887"
            ],
            [
             0.1111111111111111,
             "#46039f"
            ],
            [
             0.2222222222222222,
             "#7201a8"
            ],
            [
             0.3333333333333333,
             "#9c179e"
            ],
            [
             0.4444444444444444,
             "#bd3786"
            ],
            [
             0.5555555555555556,
             "#d8576b"
            ],
            [
             0.6666666666666666,
             "#ed7953"
            ],
            [
             0.7777777777777778,
             "#fb9f3a"
            ],
            [
             0.8888888888888888,
             "#fdca26"
            ],
            [
             1,
             "#f0f921"
            ]
           ],
           "sequentialminus": [
            [
             0,
             "#0d0887"
            ],
            [
             0.1111111111111111,
             "#46039f"
            ],
            [
             0.2222222222222222,
             "#7201a8"
            ],
            [
             0.3333333333333333,
             "#9c179e"
            ],
            [
             0.4444444444444444,
             "#bd3786"
            ],
            [
             0.5555555555555556,
             "#d8576b"
            ],
            [
             0.6666666666666666,
             "#ed7953"
            ],
            [
             0.7777777777777778,
             "#fb9f3a"
            ],
            [
             0.8888888888888888,
             "#fdca26"
            ],
            [
             1,
             "#f0f921"
            ]
           ]
          },
          "colorway": [
           "#636efa",
           "#EF553B",
           "#00cc96",
           "#ab63fa",
           "#FFA15A",
           "#19d3f3",
           "#FF6692",
           "#B6E880",
           "#FF97FF",
           "#FECB52"
          ],
          "font": {
           "color": "#2a3f5f"
          },
          "geo": {
           "bgcolor": "white",
           "lakecolor": "white",
           "landcolor": "#E5ECF6",
           "showlakes": true,
           "showland": true,
           "subunitcolor": "white"
          },
          "hoverlabel": {
           "align": "left"
          },
          "hovermode": "closest",
          "mapbox": {
           "style": "light"
          },
          "paper_bgcolor": "white",
          "plot_bgcolor": "#E5ECF6",
          "polar": {
           "angularaxis": {
            "gridcolor": "white",
            "linecolor": "white",
            "ticks": ""
           },
           "bgcolor": "#E5ECF6",
           "radialaxis": {
            "gridcolor": "white",
            "linecolor": "white",
            "ticks": ""
           }
          },
          "scene": {
           "xaxis": {
            "backgroundcolor": "#E5ECF6",
            "gridcolor": "white",
            "gridwidth": 2,
            "linecolor": "white",
            "showbackground": true,
            "ticks": "",
            "zerolinecolor": "white"
           },
           "yaxis": {
            "backgroundcolor": "#E5ECF6",
            "gridcolor": "white",
            "gridwidth": 2,
            "linecolor": "white",
            "showbackground": true,
            "ticks": "",
            "zerolinecolor": "white"
           },
           "zaxis": {
            "backgroundcolor": "#E5ECF6",
            "gridcolor": "white",
            "gridwidth": 2,
            "linecolor": "white",
            "showbackground": true,
            "ticks": "",
            "zerolinecolor": "white"
           }
          },
          "shapedefaults": {
           "line": {
            "color": "#2a3f5f"
           }
          },
          "ternary": {
           "aaxis": {
            "gridcolor": "white",
            "linecolor": "white",
            "ticks": ""
           },
           "baxis": {
            "gridcolor": "white",
            "linecolor": "white",
            "ticks": ""
           },
           "bgcolor": "#E5ECF6",
           "caxis": {
            "gridcolor": "white",
            "linecolor": "white",
            "ticks": ""
           }
          },
          "title": {
           "x": 0.05
          },
          "xaxis": {
           "automargin": true,
           "gridcolor": "white",
           "linecolor": "white",
           "ticks": "",
           "title": {
            "standoff": 15
           },
           "zerolinecolor": "white",
           "zerolinewidth": 2
          },
          "yaxis": {
           "automargin": true,
           "gridcolor": "white",
           "linecolor": "white",
           "ticks": "",
           "title": {
            "standoff": 15
           },
           "zerolinecolor": "white",
           "zerolinewidth": 2
          }
         }
        },
        "title": {
         "text": "Visualization with 3D and 2D Views"
        },
        "xaxis": {
         "anchor": "y",
         "domain": [
          0,
          1
         ],
         "title": {
          "text": "u (horizontal)"
         }
        },
        "yaxis": {
         "anchor": "x",
         "domain": [
          0,
          0.45
         ],
         "scaleanchor": "x",
         "scaleratio": 1,
         "title": {
          "text": "v (vertical)"
         }
        }
       }
      }
     },
     "metadata": {},
     "output_type": "display_data"
    }
   ],
   "source": [
    "import plotly.graph_objects as go\n",
    "import numpy as np\n",
    "from plotly.subplots import make_subplots\n",
    "\n",
    "# Import de notre bibliothèque - importation directe pour assurer le rechargement\n",
    "from plotcv.camera import create_frame\n",
    "from plotcv.visualization import add_camera_to_plot, create_visualization_3d_2d, add_camera_connections\n",
    "from plotcv.projection import project_point_to_camera\n",
    "\n",
    "# Points 3D à visualiser\n",
    "point_1 = np.array([3, 1, 2])\n",
    "point_2 = np.array([1, 2, 3])\n",
    "\n",
    "# Exemple avec plusieurs frames et paramètres show_coordinates différents\n",
    "# 1. Créer une caméra avec affichage des coordonnées\n",
    "camera = create_frame(\n",
    "    rotation_angles=(0, 45, 0),    # Rotation de 45° autour de Y\n",
    "    translation=(-2, 0, 0),        # À gauche\n",
    "    focal_length=1.0,              # Distance focale\n",
    "    plane_size=(0.5, 0.5),         # Taille du plan image\n",
    "    optical_center=(0.0, 0),       # Centre optique légèrement décalé\n",
    "    color='blue',                  # Couleur bleue\n",
    "    name='Caméra',                 # Nom explicite\n",
    "    is_camera=True,                # C'est une caméra (avec plan image et projection)\n",
    "    show_coordinates=True          # Afficher les coordonnées des points par rapport à ce frame\n",
    ")\n",
    "\n",
    "# 2. Créer un simple repère qui n'affiche PAS les coordonnées\n",
    "simple_frame = create_frame(\n",
    "    rotation_angles=(0, 0, 0),     # Sans rotation \n",
    "    translation=(0, 2, 0),         # En haut\n",
    "    color='red',                   # Couleur rouge\n",
    "    name='Sans Coordonnées',       # Nom explicite\n",
    "    is_camera=False,               # Simple repère, pas une caméra\n",
    "    show_coordinates=False,         # Ne pas afficher les coordonnées des points  \n",
    ")\n",
    "\n",
    "# 3. Créer un autre repère qui affiche les coordonnées\n",
    "frame_with_coords = create_frame(\n",
    "    rotation_angles=(0, 0, 0),   # Rotation de -30° autour de Y\n",
    "    translation=(2, 1, 0),         # À droite\n",
    "    color='green',                 # Couleur verte\n",
    "    name='Avec Coordonnées',       # Nom explicite\n",
    "    is_camera=False,               # Simple repère, pas une caméra\n",
    "    show_coordinates=True,          # Afficher les coordonnées des points\n",
    "    connect_to_parent=True,  # Connecter au parent\n",
    ")\n",
    "\n",
    "fig = create_visualization_3d_2d(\n",
    "    cameras=[camera, frame_with_coords],  # Utilisons seulement deux caméras pour simplifier\n",
    "    points_3d=[point_1],            # Un seul point\n",
    "    show_point_coordinates=False,   # Désactiver les coordonnées pour plus de clarté\n",
    "    show_camera_connections=True,   # Montrer les connexions entre caméras\n",
    "    connection_color='black',       # Couleur des lignes\n",
    "    connection_width=2,             # Épaisseur des lignes\n",
    "    connection_style='solid',         # Style de ligne testé\n",
    "    connect_to_world=False           # Connecter les caméras au monde\n",
    ")\n",
    "\n",
    "fig.show()"
   ]
  }
 ],
 "metadata": {
  "kernelspec": {
   "display_name": "3.10.13",
   "language": "python",
   "name": "python3"
  },
  "language_info": {
   "codemirror_mode": {
    "name": "ipython",
    "version": 3
   },
   "file_extension": ".py",
   "mimetype": "text/x-python",
   "name": "python",
   "nbconvert_exporter": "python",
   "pygments_lexer": "ipython3",
   "version": "3.10.13"
  }
 },
 "nbformat": 4,
 "nbformat_minor": 5
}
