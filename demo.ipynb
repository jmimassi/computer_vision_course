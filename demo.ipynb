{
 "cells": [
  {
   "cell_type": "markdown",
   "id": "dce03557",
   "metadata": {},
   "source": [
    "# Démonstration de base: Repères et Points en 2D\n",
    "\n",
    "Dans cette démonstration simple, nous allons:\n",
    "1. Créer un repère de base à l'origine\n",
    "2. Afficher un point en 2D\n",
    "3. Visualiser leurs relations"
   ]
  },
  {
   "cell_type": "code",
   "execution_count": 1,
   "id": "f46744da",
   "metadata": {},
   "outputs": [
    {
     "data": {
      "application/vnd.plotly.v1+json": {
       "config": {
        "plotlyServerURL": "https://plot.ly"
       },
       "data": [
        {
         "marker": {
          "color": "black",
          "size": 8,
          "symbol": "circle"
         },
         "mode": "markers",
         "name": "Origin",
         "scene": "scene",
         "showlegend": true,
         "type": "scatter3d",
         "x": [
          0
         ],
         "y": [
          0
         ],
         "z": [
          0
         ]
        },
        {
         "line": {
          "color": "red",
          "width": 8
         },
         "mode": "lines",
         "name": "World X Axis",
         "scene": "scene",
         "type": "scatter3d",
         "x": [
          0,
          2
         ],
         "y": [
          0,
          0
         ],
         "z": [
          0,
          0
         ]
        },
        {
         "line": {
          "color": "green",
          "width": 8
         },
         "mode": "lines",
         "name": "World Y Axis",
         "scene": "scene",
         "type": "scatter3d",
         "x": [
          0,
          0
         ],
         "y": [
          0,
          2
         ],
         "z": [
          0,
          0
         ]
        },
        {
         "line": {
          "color": "blue",
          "width": 8
         },
         "mode": "lines",
         "name": "World Z Axis",
         "scene": "scene",
         "type": "scatter3d",
         "x": [
          0,
          0
         ],
         "y": [
          0,
          0
         ],
         "z": [
          0,
          2
         ]
        },
        {
         "marker": {
          "color": "green",
          "size": 8,
          "symbol": "circle"
         },
         "mode": "markers",
         "name": "Point avec connexions",
         "scene": "scene",
         "showlegend": true,
         "type": "scatter3d",
         "x": [
          3
         ],
         "y": [
          1
         ],
         "z": [
          2
         ]
        },
        {
         "marker": {
          "color": "purple",
          "size": 10,
          "symbol": "circle"
         },
         "mode": "markers",
         "name": "Point sans connexions",
         "scene": "scene",
         "showlegend": true,
         "type": "scatter3d",
         "x": [
          -1
         ],
         "y": [
          3
         ],
         "z": [
          4
         ]
        },
        {
         "marker": {
          "color": "blue",
          "size": 5,
          "symbol": "diamond"
         },
         "mode": "markers",
         "name": "Caméra HD Origin",
         "scene": "scene",
         "showlegend": true,
         "type": "scatter3d",
         "x": [
          2
         ],
         "y": [
          1
         ],
         "z": [
          3
         ]
        },
        {
         "line": {
          "color": "blue",
          "width": 4
         },
         "mode": "lines",
         "name": "Caméra HD Z Axis",
         "scene": "scene",
         "showlegend": false,
         "type": "scatter3d",
         "x": [
          2,
          2.2121320343559643
         ],
         "y": [
          1,
          1
         ],
         "z": [
          3,
          3.2121320343559643
         ]
        },
        {
         "line": {
          "color": "red",
          "width": 4
         },
         "mode": "lines",
         "name": "Caméra HD X Axis",
         "scene": "scene",
         "showlegend": false,
         "type": "scatter3d",
         "x": [
          2,
          2.2121320343559643
         ],
         "y": [
          1,
          1
         ],
         "z": [
          3,
          2.7878679656440357
         ]
        },
        {
         "line": {
          "color": "#00CC00",
          "width": 4
         },
         "mode": "lines",
         "name": "Caméra HD Y Axis",
         "scene": "scene",
         "showlegend": false,
         "type": "scatter3d",
         "x": [
          2,
          2
         ],
         "y": [
          1,
          1.3
         ],
         "z": [
          3,
          3
         ]
        },
        {
         "color": "blue",
         "flatshading": true,
         "i": [
          0,
          0
         ],
         "j": [
          1,
          2
         ],
         "k": [
          2,
          3
         ],
         "name": "Caméra HD Image Plane",
         "opacity": 0.15,
         "scene": "scene",
         "showlegend": true,
         "type": "mesh3d",
         "x": [
          2.5656854249492373,
          3.697056274847714,
          3.697056274847714,
          2.5656854249492373
         ],
         "y": [
          0.35,
          0.35,
          1.5499999999999998,
          1.5499999999999998
         ],
         "z": [
          4.555634918610404,
          3.4242640687119286,
          3.4242640687119286,
          4.555634918610404
         ]
        },
        {
         "line": {
          "color": "blue",
          "dash": "dash",
          "width": 2
         },
         "mode": "lines",
         "name": "Caméra HD Optical Axis",
         "scene": "scene",
         "showlegend": false,
         "type": "scatter3d",
         "x": [
          2,
          3.1313708498984756
         ],
         "y": [
          1,
          0.95
         ],
         "z": [
          3,
          3.9899494936611664
         ]
        },
        {
         "marker": {
          "color": "red",
          "size": 5,
          "symbol": "diamond"
         },
         "mode": "markers",
         "name": "Repère de référence Origin",
         "scene": "scene",
         "showlegend": true,
         "type": "scatter3d",
         "x": [
          -1
         ],
         "y": [
          2
         ],
         "z": [
          0
         ]
        },
        {
         "line": {
          "color": "blue",
          "width": 4
         },
         "mode": "lines",
         "name": "Repère de référence Z Axis",
         "scene": "scene",
         "showlegend": false,
         "type": "scatter3d",
         "x": [
          -1,
          -0.9611771432346219
         ],
         "y": [
          2,
          1.8551111260566397
         ],
         "z": [
          0,
          0.2598076211353316
         ]
        },
        {
         "line": {
          "color": "red",
          "width": 4
         },
         "mode": "lines",
         "name": "Repère de référence X Axis",
         "scene": "scene",
         "showlegend": false,
         "type": "scatter3d",
         "x": [
          -1,
          -0.7102222521132795
         ],
         "y": [
          2,
          2.077645713530756
         ],
         "z": [
          0,
          0
         ]
        },
        {
         "line": {
          "color": "#00CC00",
          "width": 4
         },
         "mode": "lines",
         "name": "Repère de référence Y Axis",
         "scene": "scene",
         "showlegend": false,
         "type": "scatter3d",
         "x": [
          -1,
          -1.067243160412604
         ],
         "y": [
          2,
          2.250954891121342
         ],
         "z": [
          0,
          0.14999999999999997
         ]
        },
        {
         "line": {
          "color": "black",
          "dash": "dash",
          "width": 2
         },
         "mode": "lines",
         "name": "Caméra HD -> Point avec connexions",
         "scene": "scene",
         "showlegend": false,
         "type": "scatter3d",
         "x": [
          2,
          3
         ],
         "y": [
          1,
          1
         ],
         "z": [
          3,
          2
         ]
        },
        {
         "mode": "text",
         "name": "Caméra HD -> Point avec connexions coords",
         "scene": "scene",
         "showlegend": false,
         "text": [
          "(1.41, 0.00, -0.00)"
         ],
         "textposition": "middle center",
         "type": "scatter3d",
         "x": [
          2.5
         ],
         "y": [
          1
         ],
         "z": [
          2.5
         ]
        },
        {
         "line": {
          "color": "black",
          "dash": "dash",
          "width": 2
         },
         "mode": "lines",
         "name": "Repère de référence -> Point avec connexions",
         "scene": "scene",
         "showlegend": false,
         "type": "scatter3d",
         "x": [
          -1,
          3
         ],
         "y": [
          2,
          1
         ],
         "z": [
          0,
          2
         ]
        },
        {
         "mode": "text",
         "name": "Repère de référence -> Point avec connexions coords",
         "scene": "scene",
         "showlegend": false,
         "text": [
          "(3.60, -0.73, 2.73)"
         ],
         "textposition": "middle center",
         "type": "scatter3d",
         "x": [
          1
         ],
         "y": [
          1.5
         ],
         "z": [
          1
         ]
        },
        {
         "marker": {
          "color": "green",
          "size": 5,
          "symbol": "circle"
         },
         "mode": "markers",
         "name": "Point avec connexions (Caméra HD)",
         "scene": "scene",
         "showlegend": true,
         "type": "scatter3d",
         "x": [
          3
         ],
         "y": [
          1
         ],
         "z": [
          2
         ]
        },
        {
         "marker": {
          "color": "purple",
          "size": 5,
          "symbol": "circle"
         },
         "mode": "markers",
         "name": "Point sans connexions (Caméra HD)",
         "scene": "scene",
         "showlegend": true,
         "type": "scatter3d",
         "x": [
          -1
         ],
         "y": [
          3
         ],
         "z": [
          4
         ]
        }
       ],
       "layout": {
        "annotations": [
         {
          "font": {
           "size": 16
          },
          "showarrow": false,
          "text": "3D Scene",
          "x": 0.5,
          "xanchor": "center",
          "xref": "paper",
          "y": 1,
          "yanchor": "bottom",
          "yref": "paper"
         },
         {
          "font": {
           "size": 16
          },
          "showarrow": false,
          "text": "Caméra HD View",
          "x": 0.5,
          "xanchor": "center",
          "xref": "paper",
          "y": 0.45,
          "yanchor": "bottom",
          "yref": "paper"
         }
        ],
        "height": 800,
        "scene": {
         "aspectmode": "manual",
         "aspectratio": {
          "x": 1,
          "y": 1,
          "z": 1
         },
         "domain": {
          "x": [
           0,
           1
          ],
          "y": [
           0.55,
           1
          ]
         },
         "xaxis": {
          "backgroundcolor": "rgb(230, 230, 230)",
          "gridcolor": "white",
          "range": [
           -2,
           4.697056274847714
          ],
          "title": {
           "text": "X"
          }
         },
         "yaxis": {
          "backgroundcolor": "rgb(230, 230, 230)",
          "gridcolor": "white",
          "range": [
           -1,
           4
          ],
          "title": {
           "text": "Y"
          }
         },
         "zaxis": {
          "backgroundcolor": "rgb(230, 230, 230)",
          "gridcolor": "white",
          "range": [
           -1,
           5.555634918610404
          ],
          "title": {
           "text": "Z"
          }
         }
        },
        "shapes": [
         {
          "fillcolor": "rgba(255, 255, 255, 0.0)",
          "line": {
           "color": "black",
           "width": 2
          },
          "type": "rect",
          "x0": -0.8,
          "x1": 0.8,
          "xref": "x",
          "y0": -0.6,
          "y1": 0.6,
          "yref": "y"
         },
         {
          "line": {
           "color": "gray",
           "dash": "dash",
           "width": 1
          },
          "type": "line",
          "x0": -0.8,
          "x1": 0.8,
          "xref": "x",
          "y0": 0,
          "y1": 0,
          "yref": "y"
         },
         {
          "line": {
           "color": "gray",
           "dash": "dash",
           "width": 1
          },
          "type": "line",
          "x0": 0,
          "x1": 0,
          "xref": "x",
          "y0": -0.6,
          "y1": 0.6,
          "yref": "y"
         }
        ],
        "template": {
         "data": {
          "bar": [
           {
            "error_x": {
             "color": "#2a3f5f"
            },
            "error_y": {
             "color": "#2a3f5f"
            },
            "marker": {
             "line": {
              "color": "#E5ECF6",
              "width": 0.5
             },
             "pattern": {
              "fillmode": "overlay",
              "size": 10,
              "solidity": 0.2
             }
            },
            "type": "bar"
           }
          ],
          "barpolar": [
           {
            "marker": {
             "line": {
              "color": "#E5ECF6",
              "width": 0.5
             },
             "pattern": {
              "fillmode": "overlay",
              "size": 10,
              "solidity": 0.2
             }
            },
            "type": "barpolar"
           }
          ],
          "carpet": [
           {
            "aaxis": {
             "endlinecolor": "#2a3f5f",
             "gridcolor": "white",
             "linecolor": "white",
             "minorgridcolor": "white",
             "startlinecolor": "#2a3f5f"
            },
            "baxis": {
             "endlinecolor": "#2a3f5f",
             "gridcolor": "white",
             "linecolor": "white",
             "minorgridcolor": "white",
             "startlinecolor": "#2a3f5f"
            },
            "type": "carpet"
           }
          ],
          "choropleth": [
           {
            "colorbar": {
             "outlinewidth": 0,
             "ticks": ""
            },
            "type": "choropleth"
           }
          ],
          "contour": [
           {
            "colorbar": {
             "outlinewidth": 0,
             "ticks": ""
            },
            "colorscale": [
             [
              0,
              "#0d0887"
             ],
             [
              0.1111111111111111,
              "#46039f"
             ],
             [
              0.2222222222222222,
              "#7201a8"
             ],
             [
              0.3333333333333333,
              "#9c179e"
             ],
             [
              0.4444444444444444,
              "#bd3786"
             ],
             [
              0.5555555555555556,
              "#d8576b"
             ],
             [
              0.6666666666666666,
              "#ed7953"
             ],
             [
              0.7777777777777778,
              "#fb9f3a"
             ],
             [
              0.8888888888888888,
              "#fdca26"
             ],
             [
              1,
              "#f0f921"
             ]
            ],
            "type": "contour"
           }
          ],
          "contourcarpet": [
           {
            "colorbar": {
             "outlinewidth": 0,
             "ticks": ""
            },
            "type": "contourcarpet"
           }
          ],
          "heatmap": [
           {
            "colorbar": {
             "outlinewidth": 0,
             "ticks": ""
            },
            "colorscale": [
             [
              0,
              "#0d0887"
             ],
             [
              0.1111111111111111,
              "#46039f"
             ],
             [
              0.2222222222222222,
              "#7201a8"
             ],
             [
              0.3333333333333333,
              "#9c179e"
             ],
             [
              0.4444444444444444,
              "#bd3786"
             ],
             [
              0.5555555555555556,
              "#d8576b"
             ],
             [
              0.6666666666666666,
              "#ed7953"
             ],
             [
              0.7777777777777778,
              "#fb9f3a"
             ],
             [
              0.8888888888888888,
              "#fdca26"
             ],
             [
              1,
              "#f0f921"
             ]
            ],
            "type": "heatmap"
           }
          ],
          "histogram": [
           {
            "marker": {
             "pattern": {
              "fillmode": "overlay",
              "size": 10,
              "solidity": 0.2
             }
            },
            "type": "histogram"
           }
          ],
          "histogram2d": [
           {
            "colorbar": {
             "outlinewidth": 0,
             "ticks": ""
            },
            "colorscale": [
             [
              0,
              "#0d0887"
             ],
             [
              0.1111111111111111,
              "#46039f"
             ],
             [
              0.2222222222222222,
              "#7201a8"
             ],
             [
              0.3333333333333333,
              "#9c179e"
             ],
             [
              0.4444444444444444,
              "#bd3786"
             ],
             [
              0.5555555555555556,
              "#d8576b"
             ],
             [
              0.6666666666666666,
              "#ed7953"
             ],
             [
              0.7777777777777778,
              "#fb9f3a"
             ],
             [
              0.8888888888888888,
              "#fdca26"
             ],
             [
              1,
              "#f0f921"
             ]
            ],
            "type": "histogram2d"
           }
          ],
          "histogram2dcontour": [
           {
            "colorbar": {
             "outlinewidth": 0,
             "ticks": ""
            },
            "colorscale": [
             [
              0,
              "#0d0887"
             ],
             [
              0.1111111111111111,
              "#46039f"
             ],
             [
              0.2222222222222222,
              "#7201a8"
             ],
             [
              0.3333333333333333,
              "#9c179e"
             ],
             [
              0.4444444444444444,
              "#bd3786"
             ],
             [
              0.5555555555555556,
              "#d8576b"
             ],
             [
              0.6666666666666666,
              "#ed7953"
             ],
             [
              0.7777777777777778,
              "#fb9f3a"
             ],
             [
              0.8888888888888888,
              "#fdca26"
             ],
             [
              1,
              "#f0f921"
             ]
            ],
            "type": "histogram2dcontour"
           }
          ],
          "mesh3d": [
           {
            "colorbar": {
             "outlinewidth": 0,
             "ticks": ""
            },
            "type": "mesh3d"
           }
          ],
          "parcoords": [
           {
            "line": {
             "colorbar": {
              "outlinewidth": 0,
              "ticks": ""
             }
            },
            "type": "parcoords"
           }
          ],
          "pie": [
           {
            "automargin": true,
            "type": "pie"
           }
          ],
          "scatter": [
           {
            "fillpattern": {
             "fillmode": "overlay",
             "size": 10,
             "solidity": 0.2
            },
            "type": "scatter"
           }
          ],
          "scatter3d": [
           {
            "line": {
             "colorbar": {
              "outlinewidth": 0,
              "ticks": ""
             }
            },
            "marker": {
             "colorbar": {
              "outlinewidth": 0,
              "ticks": ""
             }
            },
            "type": "scatter3d"
           }
          ],
          "scattercarpet": [
           {
            "marker": {
             "colorbar": {
              "outlinewidth": 0,
              "ticks": ""
             }
            },
            "type": "scattercarpet"
           }
          ],
          "scattergeo": [
           {
            "marker": {
             "colorbar": {
              "outlinewidth": 0,
              "ticks": ""
             }
            },
            "type": "scattergeo"
           }
          ],
          "scattergl": [
           {
            "marker": {
             "colorbar": {
              "outlinewidth": 0,
              "ticks": ""
             }
            },
            "type": "scattergl"
           }
          ],
          "scattermap": [
           {
            "marker": {
             "colorbar": {
              "outlinewidth": 0,
              "ticks": ""
             }
            },
            "type": "scattermap"
           }
          ],
          "scattermapbox": [
           {
            "marker": {
             "colorbar": {
              "outlinewidth": 0,
              "ticks": ""
             }
            },
            "type": "scattermapbox"
           }
          ],
          "scatterpolar": [
           {
            "marker": {
             "colorbar": {
              "outlinewidth": 0,
              "ticks": ""
             }
            },
            "type": "scatterpolar"
           }
          ],
          "scatterpolargl": [
           {
            "marker": {
             "colorbar": {
              "outlinewidth": 0,
              "ticks": ""
             }
            },
            "type": "scatterpolargl"
           }
          ],
          "scatterternary": [
           {
            "marker": {
             "colorbar": {
              "outlinewidth": 0,
              "ticks": ""
             }
            },
            "type": "scatterternary"
           }
          ],
          "surface": [
           {
            "colorbar": {
             "outlinewidth": 0,
             "ticks": ""
            },
            "colorscale": [
             [
              0,
              "#0d0887"
             ],
             [
              0.1111111111111111,
              "#46039f"
             ],
             [
              0.2222222222222222,
              "#7201a8"
             ],
             [
              0.3333333333333333,
              "#9c179e"
             ],
             [
              0.4444444444444444,
              "#bd3786"
             ],
             [
              0.5555555555555556,
              "#d8576b"
             ],
             [
              0.6666666666666666,
              "#ed7953"
             ],
             [
              0.7777777777777778,
              "#fb9f3a"
             ],
             [
              0.8888888888888888,
              "#fdca26"
             ],
             [
              1,
              "#f0f921"
             ]
            ],
            "type": "surface"
           }
          ],
          "table": [
           {
            "cells": {
             "fill": {
              "color": "#EBF0F8"
             },
             "line": {
              "color": "white"
             }
            },
            "header": {
             "fill": {
              "color": "#C8D4E3"
             },
             "line": {
              "color": "white"
             }
            },
            "type": "table"
           }
          ]
         },
         "layout": {
          "annotationdefaults": {
           "arrowcolor": "#2a3f5f",
           "arrowhead": 0,
           "arrowwidth": 1
          },
          "autotypenumbers": "strict",
          "coloraxis": {
           "colorbar": {
            "outlinewidth": 0,
            "ticks": ""
           }
          },
          "colorscale": {
           "diverging": [
            [
             0,
             "#8e0152"
            ],
            [
             0.1,
             "#c51b7d"
            ],
            [
             0.2,
             "#de77ae"
            ],
            [
             0.3,
             "#f1b6da"
            ],
            [
             0.4,
             "#fde0ef"
            ],
            [
             0.5,
             "#f7f7f7"
            ],
            [
             0.6,
             "#e6f5d0"
            ],
            [
             0.7,
             "#b8e186"
            ],
            [
             0.8,
             "#7fbc41"
            ],
            [
             0.9,
             "#4d9221"
            ],
            [
             1,
             "#276419"
            ]
           ],
           "sequential": [
            [
             0,
             "#0d0887"
            ],
            [
             0.1111111111111111,
             "#46039f"
            ],
            [
             0.2222222222222222,
             "#7201a8"
            ],
            [
             0.3333333333333333,
             "#9c179e"
            ],
            [
             0.4444444444444444,
             "#bd3786"
            ],
            [
             0.5555555555555556,
             "#d8576b"
            ],
            [
             0.6666666666666666,
             "#ed7953"
            ],
            [
             0.7777777777777778,
             "#fb9f3a"
            ],
            [
             0.8888888888888888,
             "#fdca26"
            ],
            [
             1,
             "#f0f921"
            ]
           ],
           "sequentialminus": [
            [
             0,
             "#0d0887"
            ],
            [
             0.1111111111111111,
             "#46039f"
            ],
            [
             0.2222222222222222,
             "#7201a8"
            ],
            [
             0.3333333333333333,
             "#9c179e"
            ],
            [
             0.4444444444444444,
             "#bd3786"
            ],
            [
             0.5555555555555556,
             "#d8576b"
            ],
            [
             0.6666666666666666,
             "#ed7953"
            ],
            [
             0.7777777777777778,
             "#fb9f3a"
            ],
            [
             0.8888888888888888,
             "#fdca26"
            ],
            [
             1,
             "#f0f921"
            ]
           ]
          },
          "colorway": [
           "#636efa",
           "#EF553B",
           "#00cc96",
           "#ab63fa",
           "#FFA15A",
           "#19d3f3",
           "#FF6692",
           "#B6E880",
           "#FF97FF",
           "#FECB52"
          ],
          "font": {
           "color": "#2a3f5f"
          },
          "geo": {
           "bgcolor": "white",
           "lakecolor": "white",
           "landcolor": "#E5ECF6",
           "showlakes": true,
           "showland": true,
           "subunitcolor": "white"
          },
          "hoverlabel": {
           "align": "left"
          },
          "hovermode": "closest",
          "mapbox": {
           "style": "light"
          },
          "paper_bgcolor": "white",
          "plot_bgcolor": "#E5ECF6",
          "polar": {
           "angularaxis": {
            "gridcolor": "white",
            "linecolor": "white",
            "ticks": ""
           },
           "bgcolor": "#E5ECF6",
           "radialaxis": {
            "gridcolor": "white",
            "linecolor": "white",
            "ticks": ""
           }
          },
          "scene": {
           "xaxis": {
            "backgroundcolor": "#E5ECF6",
            "gridcolor": "white",
            "gridwidth": 2,
            "linecolor": "white",
            "showbackground": true,
            "ticks": "",
            "zerolinecolor": "white"
           },
           "yaxis": {
            "backgroundcolor": "#E5ECF6",
            "gridcolor": "white",
            "gridwidth": 2,
            "linecolor": "white",
            "showbackground": true,
            "ticks": "",
            "zerolinecolor": "white"
           },
           "zaxis": {
            "backgroundcolor": "#E5ECF6",
            "gridcolor": "white",
            "gridwidth": 2,
            "linecolor": "white",
            "showbackground": true,
            "ticks": "",
            "zerolinecolor": "white"
           }
          },
          "shapedefaults": {
           "line": {
            "color": "#2a3f5f"
           }
          },
          "ternary": {
           "aaxis": {
            "gridcolor": "white",
            "linecolor": "white",
            "ticks": ""
           },
           "baxis": {
            "gridcolor": "white",
            "linecolor": "white",
            "ticks": ""
           },
           "bgcolor": "#E5ECF6",
           "caxis": {
            "gridcolor": "white",
            "linecolor": "white",
            "ticks": ""
           }
          },
          "title": {
           "x": 0.05
          },
          "xaxis": {
           "automargin": true,
           "gridcolor": "white",
           "linecolor": "white",
           "ticks": "",
           "title": {
            "standoff": 15
           },
           "zerolinecolor": "white",
           "zerolinewidth": 2
          },
          "yaxis": {
           "automargin": true,
           "gridcolor": "white",
           "linecolor": "white",
           "ticks": "",
           "title": {
            "standoff": 15
           },
           "zerolinecolor": "white",
           "zerolinewidth": 2
          }
         }
        },
        "title": {
         "text": "Visualisation complète"
        },
        "xaxis": {
         "anchor": "y",
         "domain": [
          0,
          1
         ],
         "title": {
          "text": "u (horizontal)"
         }
        },
        "yaxis": {
         "anchor": "x",
         "domain": [
          0,
          0.45
         ],
         "scaleanchor": "x",
         "scaleratio": 1,
         "title": {
          "text": "v (vertical)"
         }
        }
       }
      }
     },
     "metadata": {},
     "output_type": "display_data"
    }
   ],
   "source": [
    "import numpy as np\n",
    "import plotly.graph_objects as go\n",
    "from plotly.subplots import make_subplots\n",
    "\n",
    "# Import de notre bibliothèque\n",
    "from plotcv.camera import create_frame, create_point\n",
    "from plotcv.visualization import create_visualization_3d_2d\n",
    "from plotcv.projection import project_point_to_camera\n",
    "\n",
    "# 1. Création d'une caméra (frame avec is_camera=True)\n",
    "camera = create_frame(\n",
    "    rotation_angles=(0, 45, 0),      # Rotation en degrés autour des axes X, Y, Z\n",
    "    translation=(2, 1, 3),           # Position de l'origine du repère dans le monde\n",
    "    focal_length=1.5,                # Distance focale (ou tuple pour fx, fy différents)\n",
    "    plane_size=(0.8, 0.6),           # Demi-largeur et demi-hauteur du plan image\n",
    "    optical_center=(0.1, -0.05),     # Décalage du centre optique (cx, cy)\n",
    "    color='blue',                    # Couleur pour la visualisation\n",
    "    name='Caméra HD',                # Nom du repère\n",
    "    parent=None,                     # Repère parent (None = repère mondial)\n",
    "    is_camera=True,                  # Indique que c'est une caméra avec plan image\n",
    "    show_coordinates=True            # Afficher les coordonnées des points par rapport à ce repère\n",
    ")\n",
    "\n",
    "# 2. Création d'un simple repère (frame avec is_camera=False)\n",
    "simple_frame = create_frame(\n",
    "    rotation_angles=(30, 0, 15),     # Rotation en degrés autour des axes X, Y, Z\n",
    "    translation=(-1, 2, 0),          # Position de l'origine du repère dans le monde\n",
    "    focal_length=None,               # Non utilisé pour un simple repère\n",
    "    plane_size=None,                 # Non utilisé pour un simple repère\n",
    "    optical_center=None,             # Non utilisé pour un simple repère\n",
    "    color='red',                     # Couleur pour la visualisation\n",
    "    name='Repère de référence',      # Nom du repère\n",
    "    parent=None,                     # Repère parent (None = repère mondial)\n",
    "    is_camera=False,                 # Indique que ce n'est pas une caméra\n",
    "    show_coordinates=True            # Afficher les coordonnées des points par rapport à ce repère\n",
    ")\n",
    "\n",
    "# 3. Création d'un point avec connexions activées\n",
    "point_1 = create_point(\n",
    "    coords=[3, 1, 2],                # Coordonnées 3D du point\n",
    "    color='green',                   # Couleur pour la visualisation\n",
    "    name='Point avec connexions',    # Nom du point\n",
    "    size=8,                          # Taille du marqueur du point\n",
    "    show_connections=True            # Connecter ce point aux repères et afficher les coordonnées\n",
    ")\n",
    "\n",
    "# 4. Création d'un point sans connexions\n",
    "point_2 = create_point(\n",
    "    coords=[-1, 3, 4],               # Coordonnées 3D du point\n",
    "    color='purple',                  # Couleur pour la visualisation\n",
    "    name='Point sans connexions',    # Nom du point\n",
    "    size=10,                         # Taille du marqueur du point\n",
    "    show_connections=False           # Ne pas connecter ce point aux repères ni afficher les coordonnées\n",
    ")\n",
    "\n",
    "# Création de la visualisation complète avec tous les paramètres disponibles\n",
    "fig = create_visualization_3d_2d(\n",
    "    cameras=[camera, simple_frame],         # Liste des caméras et repères à afficher\n",
    "    points_3d=[point_1, point_2],           # Liste des points à afficher\n",
    "    figure_title=\"Visualisation complète\",   # Titre de la figure\n",
    "    show_world_frame=True,                  # Afficher le repère monde (0,0,0)\n",
    "    height=800                              # Hauteur de la figure en pixels\n",
    ")\n",
    "\n",
    "# Afficher la figure\n",
    "fig.show()"
   ]
  },
  {
   "cell_type": "markdown",
   "id": "8ff52f61",
   "metadata": {},
   "source": [
    "## Explication\n",
    "\n",
    "Dans ce graphique simple, nous avons:\n",
    "- Un **repère cartésien 2D** avec son origine (0, 0) en noir\n",
    "- L'**axe X** en rouge et l'**axe Y** en vert\n",
    "- Un **point P** à la position (1, 1) en bleu\n",
    "- Une ligne pointillée représentant le **vecteur** allant de l'origine au point P\n",
    "\n",
    "Ce type de visualisation est fondamental pour comprendre les repères et les coordonnées en vision par ordinateur."
   ]
  }
 ],
 "metadata": {
  "kernelspec": {
   "display_name": "3.10.13",
   "language": "python",
   "name": "python3"
  },
  "language_info": {
   "codemirror_mode": {
    "name": "ipython",
    "version": 3
   },
   "file_extension": ".py",
   "mimetype": "text/x-python",
   "name": "python",
   "nbconvert_exporter": "python",
   "pygments_lexer": "ipython3",
   "version": "3.10.13"
  }
 },
 "nbformat": 4,
 "nbformat_minor": 5
}
