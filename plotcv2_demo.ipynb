{
 "cells": [
  {
   "cell_type": "markdown",
   "id": "f61e9bfa",
   "metadata": {},
   "source": [
    "# Démonstration de plotcv2\n",
    "\n",
    "Ce notebook démontre l'utilisation de la bibliothèque plotcv2, une version orientée objet pour la visualisation 3D en vision par ordinateur."
   ]
  },
  {
   "cell_type": "code",
   "execution_count": 18,
   "id": "9e6ab510",
   "metadata": {},
   "outputs": [],
   "source": [
    "# Importation des modules nécessaires\n",
    "import numpy as np\n",
    "import matplotlib.pyplot as plt\n",
    "\n",
    "# Import de notre bibliothèque orientée objet\n",
    "from plotcv2 import World, Frame, Camera, Point3D"
   ]
  },
  {
   "cell_type": "markdown",
   "id": "9a56ce59",
   "metadata": {},
   "source": [
    "## 1. Création d'un monde et ajout d'objets simples\n",
    "\n",
    "Nous allons créer un monde 3D et y ajouter quelques points et un repère."
   ]
  },
  {
   "cell_type": "code",
   "execution_count": 19,
   "id": "ae080bb3",
   "metadata": {},
   "outputs": [
    {
     "data": {
      "application/vnd.plotly.v1+json": {
       "config": {
        "plotlyServerURL": "https://plot.ly"
       },
       "data": [
        {
         "marker": {
          "color": "black",
          "size": 8,
          "symbol": "circle"
         },
         "mode": "markers",
         "name": "Origine",
         "scene": "scene",
         "showlegend": true,
         "type": "scatter3d",
         "x": [
          0
         ],
         "y": [
          0
         ],
         "z": [
          0
         ]
        },
        {
         "line": {
          "color": "red",
          "width": 8
         },
         "mode": "lines",
         "name": "Axe X monde",
         "scene": "scene",
         "type": "scatter3d",
         "x": [
          0,
          2
         ],
         "y": [
          0,
          0
         ],
         "z": [
          0,
          0
         ]
        },
        {
         "line": {
          "color": "green",
          "width": 8
         },
         "mode": "lines",
         "name": "Axe Y monde",
         "scene": "scene",
         "type": "scatter3d",
         "x": [
          0,
          0
         ],
         "y": [
          0,
          2
         ],
         "z": [
          0,
          0
         ]
        },
        {
         "line": {
          "color": "blue",
          "width": 8
         },
         "mode": "lines",
         "name": "Axe Z monde",
         "scene": "scene",
         "type": "scatter3d",
         "x": [
          0,
          0
         ],
         "y": [
          0,
          0
         ],
         "z": [
          0,
          2
         ]
        },
        {
         "marker": {
          "color": "purple",
          "size": 8,
          "symbol": "circle"
         },
         "mode": "markers",
         "name": "Point XYZ",
         "scene": "scene",
         "showlegend": true,
         "type": "scatter3d",
         "x": [
          1
         ],
         "y": [
          1
         ],
         "z": [
          1
         ]
        },
        {
         "marker": {
          "color": "red",
          "size": 5,
          "symbol": "diamond"
         },
         "mode": "markers",
         "name": "Repère incliné Origine",
         "scene": "scene",
         "showlegend": true,
         "type": "scatter3d",
         "x": [
          2
         ],
         "y": [
          1
         ],
         "z": [
          0
         ]
        },
        {
         "line": {
          "color": "blue",
          "width": 4
         },
         "mode": "lines",
         "name": "Repère incliné Axe Z",
         "scene": "scene",
         "showlegend": false,
         "type": "scatter3d",
         "x": [
          2,
          2
         ],
         "y": [
          1,
          1
         ],
         "z": [
          0,
          0.3
         ]
        },
        {
         "line": {
          "color": "red",
          "width": 4
         },
         "mode": "lines",
         "name": "Repère incliné Axe X",
         "scene": "scene",
         "showlegend": false,
         "type": "scatter3d",
         "x": [
          2,
          2.3
         ],
         "y": [
          1,
          1
         ],
         "z": [
          0,
          0
         ]
        },
        {
         "line": {
          "color": "#00CC00",
          "width": 4
         },
         "mode": "lines",
         "name": "Repère incliné Axe Y",
         "scene": "scene",
         "showlegend": false,
         "type": "scatter3d",
         "x": [
          2,
          2
         ],
         "y": [
          1,
          1.3
         ],
         "z": [
          0,
          0
         ]
        },
        {
         "line": {
          "color": "black",
          "dash": "dash",
          "width": 2
         },
         "mode": "lines",
         "name": "Hiérarchie",
         "scene": "scene",
         "showlegend": false,
         "type": "scatter3d",
         "x": [
          0,
          1.8
         ],
         "y": [
          0,
          0.9
         ],
         "z": [
          0,
          0
         ]
        },
        {
         "line": {
          "color": "black",
          "width": 4
         },
         "mode": "lines",
         "name": "Tête flèche",
         "scene": "scene",
         "showlegend": false,
         "type": "scatter3d",
         "x": [
          1.8,
          2
         ],
         "y": [
          0.9,
          1
         ],
         "z": [
          0,
          0
         ]
        },
        {
         "line": {
          "color": "black",
          "dash": "dash",
          "width": 2
         },
         "mode": "lines",
         "name": "Repère incliné -> Point XYZ",
         "scene": "scene",
         "showlegend": false,
         "type": "scatter3d",
         "x": [
          2,
          1
         ],
         "y": [
          1,
          1
         ],
         "z": [
          0,
          1
         ]
        },
        {
         "mode": "text",
         "name": "Repère incliné -> Point XYZ coords",
         "scene": "scene",
         "showlegend": false,
         "text": [
          "(-1.00, 0.00, 1.00)"
         ],
         "textposition": "middle center",
         "type": "scatter3d",
         "x": [
          1.5
         ],
         "y": [
          1
         ],
         "z": [
          0.5
         ]
        }
       ],
       "layout": {
        "height": 900,
        "scene": {
         "aspectmode": "manual",
         "aspectratio": {
          "x": 1,
          "y": 1,
          "z": 1
         },
         "domain": {
          "x": [
           0,
           1
          ],
          "y": [
           0,
           1
          ]
         },
         "xaxis": {
          "backgroundcolor": "rgb(230, 230, 230)",
          "gridcolor": "white",
          "range": [
           -1,
           3
          ],
          "title": {
           "text": "X"
          }
         },
         "yaxis": {
          "backgroundcolor": "rgb(230, 230, 230)",
          "gridcolor": "white",
          "range": [
           -1,
           2
          ],
          "title": {
           "text": "Y"
          }
         },
         "zaxis": {
          "backgroundcolor": "rgb(230, 230, 230)",
          "gridcolor": "white",
          "range": [
           -1,
           2
          ],
          "title": {
           "text": "Z"
          }
         }
        },
        "template": {
         "data": {
          "bar": [
           {
            "error_x": {
             "color": "#2a3f5f"
            },
            "error_y": {
             "color": "#2a3f5f"
            },
            "marker": {
             "line": {
              "color": "#E5ECF6",
              "width": 0.5
             },
             "pattern": {
              "fillmode": "overlay",
              "size": 10,
              "solidity": 0.2
             }
            },
            "type": "bar"
           }
          ],
          "barpolar": [
           {
            "marker": {
             "line": {
              "color": "#E5ECF6",
              "width": 0.5
             },
             "pattern": {
              "fillmode": "overlay",
              "size": 10,
              "solidity": 0.2
             }
            },
            "type": "barpolar"
           }
          ],
          "carpet": [
           {
            "aaxis": {
             "endlinecolor": "#2a3f5f",
             "gridcolor": "white",
             "linecolor": "white",
             "minorgridcolor": "white",
             "startlinecolor": "#2a3f5f"
            },
            "baxis": {
             "endlinecolor": "#2a3f5f",
             "gridcolor": "white",
             "linecolor": "white",
             "minorgridcolor": "white",
             "startlinecolor": "#2a3f5f"
            },
            "type": "carpet"
           }
          ],
          "choropleth": [
           {
            "colorbar": {
             "outlinewidth": 0,
             "ticks": ""
            },
            "type": "choropleth"
           }
          ],
          "contour": [
           {
            "colorbar": {
             "outlinewidth": 0,
             "ticks": ""
            },
            "colorscale": [
             [
              0,
              "#0d0887"
             ],
             [
              0.1111111111111111,
              "#46039f"
             ],
             [
              0.2222222222222222,
              "#7201a8"
             ],
             [
              0.3333333333333333,
              "#9c179e"
             ],
             [
              0.4444444444444444,
              "#bd3786"
             ],
             [
              0.5555555555555556,
              "#d8576b"
             ],
             [
              0.6666666666666666,
              "#ed7953"
             ],
             [
              0.7777777777777778,
              "#fb9f3a"
             ],
             [
              0.8888888888888888,
              "#fdca26"
             ],
             [
              1,
              "#f0f921"
             ]
            ],
            "type": "contour"
           }
          ],
          "contourcarpet": [
           {
            "colorbar": {
             "outlinewidth": 0,
             "ticks": ""
            },
            "type": "contourcarpet"
           }
          ],
          "heatmap": [
           {
            "colorbar": {
             "outlinewidth": 0,
             "ticks": ""
            },
            "colorscale": [
             [
              0,
              "#0d0887"
             ],
             [
              0.1111111111111111,
              "#46039f"
             ],
             [
              0.2222222222222222,
              "#7201a8"
             ],
             [
              0.3333333333333333,
              "#9c179e"
             ],
             [
              0.4444444444444444,
              "#bd3786"
             ],
             [
              0.5555555555555556,
              "#d8576b"
             ],
             [
              0.6666666666666666,
              "#ed7953"
             ],
             [
              0.7777777777777778,
              "#fb9f3a"
             ],
             [
              0.8888888888888888,
              "#fdca26"
             ],
             [
              1,
              "#f0f921"
             ]
            ],
            "type": "heatmap"
           }
          ],
          "histogram": [
           {
            "marker": {
             "pattern": {
              "fillmode": "overlay",
              "size": 10,
              "solidity": 0.2
             }
            },
            "type": "histogram"
           }
          ],
          "histogram2d": [
           {
            "colorbar": {
             "outlinewidth": 0,
             "ticks": ""
            },
            "colorscale": [
             [
              0,
              "#0d0887"
             ],
             [
              0.1111111111111111,
              "#46039f"
             ],
             [
              0.2222222222222222,
              "#7201a8"
             ],
             [
              0.3333333333333333,
              "#9c179e"
             ],
             [
              0.4444444444444444,
              "#bd3786"
             ],
             [
              0.5555555555555556,
              "#d8576b"
             ],
             [
              0.6666666666666666,
              "#ed7953"
             ],
             [
              0.7777777777777778,
              "#fb9f3a"
             ],
             [
              0.8888888888888888,
              "#fdca26"
             ],
             [
              1,
              "#f0f921"
             ]
            ],
            "type": "histogram2d"
           }
          ],
          "histogram2dcontour": [
           {
            "colorbar": {
             "outlinewidth": 0,
             "ticks": ""
            },
            "colorscale": [
             [
              0,
              "#0d0887"
             ],
             [
              0.1111111111111111,
              "#46039f"
             ],
             [
              0.2222222222222222,
              "#7201a8"
             ],
             [
              0.3333333333333333,
              "#9c179e"
             ],
             [
              0.4444444444444444,
              "#bd3786"
             ],
             [
              0.5555555555555556,
              "#d8576b"
             ],
             [
              0.6666666666666666,
              "#ed7953"
             ],
             [
              0.7777777777777778,
              "#fb9f3a"
             ],
             [
              0.8888888888888888,
              "#fdca26"
             ],
             [
              1,
              "#f0f921"
             ]
            ],
            "type": "histogram2dcontour"
           }
          ],
          "mesh3d": [
           {
            "colorbar": {
             "outlinewidth": 0,
             "ticks": ""
            },
            "type": "mesh3d"
           }
          ],
          "parcoords": [
           {
            "line": {
             "colorbar": {
              "outlinewidth": 0,
              "ticks": ""
             }
            },
            "type": "parcoords"
           }
          ],
          "pie": [
           {
            "automargin": true,
            "type": "pie"
           }
          ],
          "scatter": [
           {
            "fillpattern": {
             "fillmode": "overlay",
             "size": 10,
             "solidity": 0.2
            },
            "type": "scatter"
           }
          ],
          "scatter3d": [
           {
            "line": {
             "colorbar": {
              "outlinewidth": 0,
              "ticks": ""
             }
            },
            "marker": {
             "colorbar": {
              "outlinewidth": 0,
              "ticks": ""
             }
            },
            "type": "scatter3d"
           }
          ],
          "scattercarpet": [
           {
            "marker": {
             "colorbar": {
              "outlinewidth": 0,
              "ticks": ""
             }
            },
            "type": "scattercarpet"
           }
          ],
          "scattergeo": [
           {
            "marker": {
             "colorbar": {
              "outlinewidth": 0,
              "ticks": ""
             }
            },
            "type": "scattergeo"
           }
          ],
          "scattergl": [
           {
            "marker": {
             "colorbar": {
              "outlinewidth": 0,
              "ticks": ""
             }
            },
            "type": "scattergl"
           }
          ],
          "scattermap": [
           {
            "marker": {
             "colorbar": {
              "outlinewidth": 0,
              "ticks": ""
             }
            },
            "type": "scattermap"
           }
          ],
          "scattermapbox": [
           {
            "marker": {
             "colorbar": {
              "outlinewidth": 0,
              "ticks": ""
             }
            },
            "type": "scattermapbox"
           }
          ],
          "scatterpolar": [
           {
            "marker": {
             "colorbar": {
              "outlinewidth": 0,
              "ticks": ""
             }
            },
            "type": "scatterpolar"
           }
          ],
          "scatterpolargl": [
           {
            "marker": {
             "colorbar": {
              "outlinewidth": 0,
              "ticks": ""
             }
            },
            "type": "scatterpolargl"
           }
          ],
          "scatterternary": [
           {
            "marker": {
             "colorbar": {
              "outlinewidth": 0,
              "ticks": ""
             }
            },
            "type": "scatterternary"
           }
          ],
          "surface": [
           {
            "colorbar": {
             "outlinewidth": 0,
             "ticks": ""
            },
            "colorscale": [
             [
              0,
              "#0d0887"
             ],
             [
              0.1111111111111111,
              "#46039f"
             ],
             [
              0.2222222222222222,
              "#7201a8"
             ],
             [
              0.3333333333333333,
              "#9c179e"
             ],
             [
              0.4444444444444444,
              "#bd3786"
             ],
             [
              0.5555555555555556,
              "#d8576b"
             ],
             [
              0.6666666666666666,
              "#ed7953"
             ],
             [
              0.7777777777777778,
              "#fb9f3a"
             ],
             [
              0.8888888888888888,
              "#fdca26"
             ],
             [
              1,
              "#f0f921"
             ]
            ],
            "type": "surface"
           }
          ],
          "table": [
           {
            "cells": {
             "fill": {
              "color": "#EBF0F8"
             },
             "line": {
              "color": "white"
             }
            },
            "header": {
             "fill": {
              "color": "#C8D4E3"
             },
             "line": {
              "color": "white"
             }
            },
            "type": "table"
           }
          ]
         },
         "layout": {
          "annotationdefaults": {
           "arrowcolor": "#2a3f5f",
           "arrowhead": 0,
           "arrowwidth": 1
          },
          "autotypenumbers": "strict",
          "coloraxis": {
           "colorbar": {
            "outlinewidth": 0,
            "ticks": ""
           }
          },
          "colorscale": {
           "diverging": [
            [
             0,
             "#8e0152"
            ],
            [
             0.1,
             "#c51b7d"
            ],
            [
             0.2,
             "#de77ae"
            ],
            [
             0.3,
             "#f1b6da"
            ],
            [
             0.4,
             "#fde0ef"
            ],
            [
             0.5,
             "#f7f7f7"
            ],
            [
             0.6,
             "#e6f5d0"
            ],
            [
             0.7,
             "#b8e186"
            ],
            [
             0.8,
             "#7fbc41"
            ],
            [
             0.9,
             "#4d9221"
            ],
            [
             1,
             "#276419"
            ]
           ],
           "sequential": [
            [
             0,
             "#0d0887"
            ],
            [
             0.1111111111111111,
             "#46039f"
            ],
            [
             0.2222222222222222,
             "#7201a8"
            ],
            [
             0.3333333333333333,
             "#9c179e"
            ],
            [
             0.4444444444444444,
             "#bd3786"
            ],
            [
             0.5555555555555556,
             "#d8576b"
            ],
            [
             0.6666666666666666,
             "#ed7953"
            ],
            [
             0.7777777777777778,
             "#fb9f3a"
            ],
            [
             0.8888888888888888,
             "#fdca26"
            ],
            [
             1,
             "#f0f921"
            ]
           ],
           "sequentialminus": [
            [
             0,
             "#0d0887"
            ],
            [
             0.1111111111111111,
             "#46039f"
            ],
            [
             0.2222222222222222,
             "#7201a8"
            ],
            [
             0.3333333333333333,
             "#9c179e"
            ],
            [
             0.4444444444444444,
             "#bd3786"
            ],
            [
             0.5555555555555556,
             "#d8576b"
            ],
            [
             0.6666666666666666,
             "#ed7953"
            ],
            [
             0.7777777777777778,
             "#fb9f3a"
            ],
            [
             0.8888888888888888,
             "#fdca26"
            ],
            [
             1,
             "#f0f921"
            ]
           ]
          },
          "colorway": [
           "#636efa",
           "#EF553B",
           "#00cc96",
           "#ab63fa",
           "#FFA15A",
           "#19d3f3",
           "#FF6692",
           "#B6E880",
           "#FF97FF",
           "#FECB52"
          ],
          "font": {
           "color": "#2a3f5f"
          },
          "geo": {
           "bgcolor": "white",
           "lakecolor": "white",
           "landcolor": "#E5ECF6",
           "showlakes": true,
           "showland": true,
           "subunitcolor": "white"
          },
          "hoverlabel": {
           "align": "left"
          },
          "hovermode": "closest",
          "mapbox": {
           "style": "light"
          },
          "paper_bgcolor": "white",
          "plot_bgcolor": "#E5ECF6",
          "polar": {
           "angularaxis": {
            "gridcolor": "white",
            "linecolor": "white",
            "ticks": ""
           },
           "bgcolor": "#E5ECF6",
           "radialaxis": {
            "gridcolor": "white",
            "linecolor": "white",
            "ticks": ""
           }
          },
          "scene": {
           "xaxis": {
            "backgroundcolor": "#E5ECF6",
            "gridcolor": "white",
            "gridwidth": 2,
            "linecolor": "white",
            "showbackground": true,
            "ticks": "",
            "zerolinecolor": "white"
           },
           "yaxis": {
            "backgroundcolor": "#E5ECF6",
            "gridcolor": "white",
            "gridwidth": 2,
            "linecolor": "white",
            "showbackground": true,
            "ticks": "",
            "zerolinecolor": "white"
           },
           "zaxis": {
            "backgroundcolor": "#E5ECF6",
            "gridcolor": "white",
            "gridwidth": 2,
            "linecolor": "white",
            "showbackground": true,
            "ticks": "",
            "zerolinecolor": "white"
           }
          },
          "shapedefaults": {
           "line": {
            "color": "#2a3f5f"
           }
          },
          "ternary": {
           "aaxis": {
            "gridcolor": "white",
            "linecolor": "white",
            "ticks": ""
           },
           "baxis": {
            "gridcolor": "white",
            "linecolor": "white",
            "ticks": ""
           },
           "bgcolor": "#E5ECF6",
           "caxis": {
            "gridcolor": "white",
            "linecolor": "white",
            "ticks": ""
           }
          },
          "title": {
           "x": 0.05
          },
          "xaxis": {
           "automargin": true,
           "gridcolor": "white",
           "linecolor": "white",
           "ticks": "",
           "title": {
            "standoff": 15
           },
           "zerolinecolor": "white",
           "zerolinewidth": 2
          },
          "yaxis": {
           "automargin": true,
           "gridcolor": "white",
           "linecolor": "white",
           "ticks": "",
           "title": {
            "standoff": 15
           },
           "zerolinecolor": "white",
           "zerolinewidth": 2
          }
         }
        },
        "title": {
         "text": "Monde avec points et repère"
        }
       }
      }
     },
     "metadata": {},
     "output_type": "display_data"
    }
   ],
   "source": [
    "# Créer un nouveau monde\n",
    "world = World()\n",
    "\n",
    "# Ajouter quelques points 3D au monde\n",
    "p4 = world.add_object(Point3D([1, 1, 1], name=\"Point XYZ\", color=\"purple\"))\n",
    "\n",
    "# Ajouter un repère incliné\n",
    "frame1 = world.add_object(Frame(rotation=(0, 0, 0), translation=(2, 1, 0), name=\"Repère incliné\"))\n",
    "\n",
    "# Visualiser la scène\n",
    "fig = world.visualize(figure_title=\"Monde avec points et repère\")\n",
    "fig.show()"
   ]
  },
  {
   "cell_type": "markdown",
   "id": "c0e77804",
   "metadata": {},
   "source": [
    "## 2. Ajout d'une caméra et visualisation des projections\n",
    "\n",
    "Nous allons maintenant ajouter une caméra et visualiser la projection des points sur son plan image."
   ]
  },
  {
   "cell_type": "code",
   "execution_count": 20,
   "id": "1c858eb1",
   "metadata": {},
   "outputs": [
    {
     "data": {
      "application/vnd.plotly.v1+json": {
       "config": {
        "plotlyServerURL": "https://plot.ly"
       },
       "data": [
        {
         "marker": {
          "color": "black",
          "size": 8,
          "symbol": "circle"
         },
         "mode": "markers",
         "name": "Origine",
         "scene": "scene",
         "showlegend": true,
         "type": "scatter3d",
         "x": [
          0
         ],
         "y": [
          0
         ],
         "z": [
          0
         ]
        },
        {
         "line": {
          "color": "red",
          "width": 8
         },
         "mode": "lines",
         "name": "Axe X monde",
         "scene": "scene",
         "type": "scatter3d",
         "x": [
          0,
          2
         ],
         "y": [
          0,
          0
         ],
         "z": [
          0,
          0
         ]
        },
        {
         "line": {
          "color": "green",
          "width": 8
         },
         "mode": "lines",
         "name": "Axe Y monde",
         "scene": "scene",
         "type": "scatter3d",
         "x": [
          0,
          0
         ],
         "y": [
          0,
          2
         ],
         "z": [
          0,
          0
         ]
        },
        {
         "line": {
          "color": "blue",
          "width": 8
         },
         "mode": "lines",
         "name": "Axe Z monde",
         "scene": "scene",
         "type": "scatter3d",
         "x": [
          0,
          0
         ],
         "y": [
          0,
          0
         ],
         "z": [
          0,
          2
         ]
        },
        {
         "marker": {
          "color": "purple",
          "size": 8,
          "symbol": "circle"
         },
         "mode": "markers",
         "name": "Point XYZ",
         "scene": "scene",
         "showlegend": true,
         "type": "scatter3d",
         "x": [
          1
         ],
         "y": [
          1
         ],
         "z": [
          1
         ]
        },
        {
         "marker": {
          "color": "blue",
          "size": 5,
          "symbol": "diamond"
         },
         "mode": "markers",
         "name": "Caméra 1 Origine",
         "scene": "scene",
         "showlegend": true,
         "type": "scatter3d",
         "x": [
          1
         ],
         "y": [
          0
         ],
         "z": [
          0
         ]
        },
        {
         "line": {
          "color": "blue",
          "width": 4
         },
         "mode": "lines",
         "name": "Caméra 1 Axe Z",
         "scene": "scene",
         "showlegend": false,
         "type": "scatter3d",
         "x": [
          1,
          1
         ],
         "y": [
          0,
          0
         ],
         "z": [
          0,
          0.3
         ]
        },
        {
         "line": {
          "color": "red",
          "width": 4
         },
         "mode": "lines",
         "name": "Caméra 1 Axe X",
         "scene": "scene",
         "showlegend": false,
         "type": "scatter3d",
         "x": [
          1,
          1.3
         ],
         "y": [
          0,
          0
         ],
         "z": [
          0,
          0
         ]
        },
        {
         "line": {
          "color": "#00CC00",
          "width": 4
         },
         "mode": "lines",
         "name": "Caméra 1 Axe Y",
         "scene": "scene",
         "showlegend": false,
         "type": "scatter3d",
         "x": [
          1,
          1
         ],
         "y": [
          0,
          0.3
         ],
         "z": [
          0,
          0
         ]
        },
        {
         "color": "blue",
         "flatshading": true,
         "i": [
          0,
          0
         ],
         "j": [
          1,
          2
         ],
         "k": [
          2,
          3
         ],
         "name": "Caméra 1 Plan image",
         "opacity": 0.15,
         "scene": "scene",
         "showlegend": true,
         "type": "mesh3d",
         "x": [
          0.19999999999999996,
          1.8,
          1.8,
          0.19999999999999996
         ],
         "y": [
          -0.6,
          -0.6,
          0.6,
          0.6
         ],
         "z": [
          0.2,
          0.2,
          0.2,
          0.2
         ]
        },
        {
         "line": {
          "color": "blue",
          "dash": "dash",
          "width": 2
         },
         "mode": "lines",
         "name": "Caméra 1 Axe optique",
         "scene": "scene",
         "showlegend": false,
         "type": "scatter3d",
         "x": [
          1,
          1
         ],
         "y": [
          0,
          0
         ],
         "z": [
          0,
          0.2
         ]
        },
        {
         "line": {
          "color": "black",
          "dash": "dash",
          "width": 2
         },
         "mode": "lines",
         "name": "Hiérarchie",
         "scene": "scene",
         "showlegend": false,
         "type": "scatter3d",
         "x": [
          0,
          0.9
         ],
         "y": [
          0,
          0
         ],
         "z": [
          0,
          0
         ]
        },
        {
         "line": {
          "color": "black",
          "width": 4
         },
         "mode": "lines",
         "name": "Tête flèche",
         "scene": "scene",
         "showlegend": false,
         "type": "scatter3d",
         "x": [
          0.9,
          1
         ],
         "y": [
          0,
          0
         ],
         "z": [
          0,
          0
         ]
        },
        {
         "line": {
          "color": "black",
          "dash": "dash",
          "width": 2
         },
         "mode": "lines",
         "name": "Caméra 1 -> Point XYZ",
         "scene": "scene",
         "showlegend": false,
         "type": "scatter3d",
         "x": [
          1,
          1
         ],
         "y": [
          0,
          1
         ],
         "z": [
          0,
          1
         ]
        },
        {
         "mode": "text",
         "name": "Caméra 1 -> Point XYZ coords",
         "scene": "scene",
         "showlegend": false,
         "text": [
          "(0.00, 1.00, 1.00)"
         ],
         "textposition": "middle center",
         "type": "scatter3d",
         "x": [
          1
         ],
         "y": [
          0.5
         ],
         "z": [
          0.5
         ]
        },
        {
         "marker": {
          "color": "purple",
          "size": 5,
          "symbol": "x"
         },
         "mode": "markers",
         "name": "Point XYZ (Caméra 1)",
         "scene": "scene",
         "showlegend": true,
         "type": "scatter3d",
         "x": [
          1
         ],
         "y": [
          0.2
         ],
         "z": [
          0.2
         ]
        },
        {
         "line": {
          "color": "purple",
          "dash": "dash",
          "width": 2
         },
         "mode": "lines",
         "name": "Point XYZ (Caméra 1) Rayon",
         "scene": "scene",
         "showlegend": false,
         "type": "scatter3d",
         "x": [
          1,
          1
         ],
         "y": [
          0,
          1
         ],
         "z": [
          0,
          1
         ]
        },
        {
         "marker": {
          "color": "purple",
          "size": 10,
          "symbol": "x"
         },
         "mode": "markers+text",
         "name": "Point XYZ",
         "showlegend": false,
         "text": [
          "(0.00, 0.20)"
         ],
         "textposition": "top center",
         "type": "scatter",
         "x": [
          0
         ],
         "xaxis": "x",
         "y": [
          0.2
         ],
         "yaxis": "y"
        }
       ],
       "layout": {
        "annotations": [
         {
          "font": {
           "size": 16
          },
          "showarrow": false,
          "text": "Scène 3D",
          "x": 0.5,
          "xanchor": "center",
          "xref": "paper",
          "y": 1,
          "yanchor": "bottom",
          "yref": "paper"
         },
         {
          "font": {
           "size": 16
          },
          "showarrow": false,
          "text": "Vue Caméra 1",
          "x": 0.5,
          "xanchor": "center",
          "xref": "paper",
          "y": 0.45,
          "yanchor": "bottom",
          "yref": "paper"
         }
        ],
        "height": 900,
        "scene": {
         "aspectmode": "manual",
         "aspectratio": {
          "x": 1,
          "y": 1,
          "z": 1
         },
         "domain": {
          "x": [
           0,
           1
          ],
          "y": [
           0.55,
           1
          ]
         },
         "xaxis": {
          "backgroundcolor": "rgb(230, 230, 230)",
          "gridcolor": "white",
          "range": [
           -1,
           2.8
          ],
          "title": {
           "text": "X"
          }
         },
         "yaxis": {
          "backgroundcolor": "rgb(230, 230, 230)",
          "gridcolor": "white",
          "range": [
           -1.6,
           2
          ],
          "title": {
           "text": "Y"
          }
         },
         "zaxis": {
          "backgroundcolor": "rgb(230, 230, 230)",
          "gridcolor": "white",
          "range": [
           -1,
           2
          ],
          "title": {
           "text": "Z"
          }
         }
        },
        "shapes": [
         {
          "fillcolor": "rgba(255, 255, 255, 0.0)",
          "line": {
           "color": "black",
           "width": 2
          },
          "type": "rect",
          "x0": -0.8,
          "x1": 0.8,
          "xref": "x",
          "y0": -0.6,
          "y1": 0.6,
          "yref": "y"
         },
         {
          "line": {
           "color": "gray",
           "dash": "dash",
           "width": 1
          },
          "type": "line",
          "x0": -0.8,
          "x1": 0.8,
          "xref": "x",
          "y0": 0,
          "y1": 0,
          "yref": "y"
         },
         {
          "line": {
           "color": "gray",
           "dash": "dash",
           "width": 1
          },
          "type": "line",
          "x0": 0,
          "x1": 0,
          "xref": "x",
          "y0": -0.6,
          "y1": 0.6,
          "yref": "y"
         }
        ],
        "template": {
         "data": {
          "bar": [
           {
            "error_x": {
             "color": "#2a3f5f"
            },
            "error_y": {
             "color": "#2a3f5f"
            },
            "marker": {
             "line": {
              "color": "#E5ECF6",
              "width": 0.5
             },
             "pattern": {
              "fillmode": "overlay",
              "size": 10,
              "solidity": 0.2
             }
            },
            "type": "bar"
           }
          ],
          "barpolar": [
           {
            "marker": {
             "line": {
              "color": "#E5ECF6",
              "width": 0.5
             },
             "pattern": {
              "fillmode": "overlay",
              "size": 10,
              "solidity": 0.2
             }
            },
            "type": "barpolar"
           }
          ],
          "carpet": [
           {
            "aaxis": {
             "endlinecolor": "#2a3f5f",
             "gridcolor": "white",
             "linecolor": "white",
             "minorgridcolor": "white",
             "startlinecolor": "#2a3f5f"
            },
            "baxis": {
             "endlinecolor": "#2a3f5f",
             "gridcolor": "white",
             "linecolor": "white",
             "minorgridcolor": "white",
             "startlinecolor": "#2a3f5f"
            },
            "type": "carpet"
           }
          ],
          "choropleth": [
           {
            "colorbar": {
             "outlinewidth": 0,
             "ticks": ""
            },
            "type": "choropleth"
           }
          ],
          "contour": [
           {
            "colorbar": {
             "outlinewidth": 0,
             "ticks": ""
            },
            "colorscale": [
             [
              0,
              "#0d0887"
             ],
             [
              0.1111111111111111,
              "#46039f"
             ],
             [
              0.2222222222222222,
              "#7201a8"
             ],
             [
              0.3333333333333333,
              "#9c179e"
             ],
             [
              0.4444444444444444,
              "#bd3786"
             ],
             [
              0.5555555555555556,
              "#d8576b"
             ],
             [
              0.6666666666666666,
              "#ed7953"
             ],
             [
              0.7777777777777778,
              "#fb9f3a"
             ],
             [
              0.8888888888888888,
              "#fdca26"
             ],
             [
              1,
              "#f0f921"
             ]
            ],
            "type": "contour"
           }
          ],
          "contourcarpet": [
           {
            "colorbar": {
             "outlinewidth": 0,
             "ticks": ""
            },
            "type": "contourcarpet"
           }
          ],
          "heatmap": [
           {
            "colorbar": {
             "outlinewidth": 0,
             "ticks": ""
            },
            "colorscale": [
             [
              0,
              "#0d0887"
             ],
             [
              0.1111111111111111,
              "#46039f"
             ],
             [
              0.2222222222222222,
              "#7201a8"
             ],
             [
              0.3333333333333333,
              "#9c179e"
             ],
             [
              0.4444444444444444,
              "#bd3786"
             ],
             [
              0.5555555555555556,
              "#d8576b"
             ],
             [
              0.6666666666666666,
              "#ed7953"
             ],
             [
              0.7777777777777778,
              "#fb9f3a"
             ],
             [
              0.8888888888888888,
              "#fdca26"
             ],
             [
              1,
              "#f0f921"
             ]
            ],
            "type": "heatmap"
           }
          ],
          "histogram": [
           {
            "marker": {
             "pattern": {
              "fillmode": "overlay",
              "size": 10,
              "solidity": 0.2
             }
            },
            "type": "histogram"
           }
          ],
          "histogram2d": [
           {
            "colorbar": {
             "outlinewidth": 0,
             "ticks": ""
            },
            "colorscale": [
             [
              0,
              "#0d0887"
             ],
             [
              0.1111111111111111,
              "#46039f"
             ],
             [
              0.2222222222222222,
              "#7201a8"
             ],
             [
              0.3333333333333333,
              "#9c179e"
             ],
             [
              0.4444444444444444,
              "#bd3786"
             ],
             [
              0.5555555555555556,
              "#d8576b"
             ],
             [
              0.6666666666666666,
              "#ed7953"
             ],
             [
              0.7777777777777778,
              "#fb9f3a"
             ],
             [
              0.8888888888888888,
              "#fdca26"
             ],
             [
              1,
              "#f0f921"
             ]
            ],
            "type": "histogram2d"
           }
          ],
          "histogram2dcontour": [
           {
            "colorbar": {
             "outlinewidth": 0,
             "ticks": ""
            },
            "colorscale": [
             [
              0,
              "#0d0887"
             ],
             [
              0.1111111111111111,
              "#46039f"
             ],
             [
              0.2222222222222222,
              "#7201a8"
             ],
             [
              0.3333333333333333,
              "#9c179e"
             ],
             [
              0.4444444444444444,
              "#bd3786"
             ],
             [
              0.5555555555555556,
              "#d8576b"
             ],
             [
              0.6666666666666666,
              "#ed7953"
             ],
             [
              0.7777777777777778,
              "#fb9f3a"
             ],
             [
              0.8888888888888888,
              "#fdca26"
             ],
             [
              1,
              "#f0f921"
             ]
            ],
            "type": "histogram2dcontour"
           }
          ],
          "mesh3d": [
           {
            "colorbar": {
             "outlinewidth": 0,
             "ticks": ""
            },
            "type": "mesh3d"
           }
          ],
          "parcoords": [
           {
            "line": {
             "colorbar": {
              "outlinewidth": 0,
              "ticks": ""
             }
            },
            "type": "parcoords"
           }
          ],
          "pie": [
           {
            "automargin": true,
            "type": "pie"
           }
          ],
          "scatter": [
           {
            "fillpattern": {
             "fillmode": "overlay",
             "size": 10,
             "solidity": 0.2
            },
            "type": "scatter"
           }
          ],
          "scatter3d": [
           {
            "line": {
             "colorbar": {
              "outlinewidth": 0,
              "ticks": ""
             }
            },
            "marker": {
             "colorbar": {
              "outlinewidth": 0,
              "ticks": ""
             }
            },
            "type": "scatter3d"
           }
          ],
          "scattercarpet": [
           {
            "marker": {
             "colorbar": {
              "outlinewidth": 0,
              "ticks": ""
             }
            },
            "type": "scattercarpet"
           }
          ],
          "scattergeo": [
           {
            "marker": {
             "colorbar": {
              "outlinewidth": 0,
              "ticks": ""
             }
            },
            "type": "scattergeo"
           }
          ],
          "scattergl": [
           {
            "marker": {
             "colorbar": {
              "outlinewidth": 0,
              "ticks": ""
             }
            },
            "type": "scattergl"
           }
          ],
          "scattermap": [
           {
            "marker": {
             "colorbar": {
              "outlinewidth": 0,
              "ticks": ""
             }
            },
            "type": "scattermap"
           }
          ],
          "scattermapbox": [
           {
            "marker": {
             "colorbar": {
              "outlinewidth": 0,
              "ticks": ""
             }
            },
            "type": "scattermapbox"
           }
          ],
          "scatterpolar": [
           {
            "marker": {
             "colorbar": {
              "outlinewidth": 0,
              "ticks": ""
             }
            },
            "type": "scatterpolar"
           }
          ],
          "scatterpolargl": [
           {
            "marker": {
             "colorbar": {
              "outlinewidth": 0,
              "ticks": ""
             }
            },
            "type": "scatterpolargl"
           }
          ],
          "scatterternary": [
           {
            "marker": {
             "colorbar": {
              "outlinewidth": 0,
              "ticks": ""
             }
            },
            "type": "scatterternary"
           }
          ],
          "surface": [
           {
            "colorbar": {
             "outlinewidth": 0,
             "ticks": ""
            },
            "colorscale": [
             [
              0,
              "#0d0887"
             ],
             [
              0.1111111111111111,
              "#46039f"
             ],
             [
              0.2222222222222222,
              "#7201a8"
             ],
             [
              0.3333333333333333,
              "#9c179e"
             ],
             [
              0.4444444444444444,
              "#bd3786"
             ],
             [
              0.5555555555555556,
              "#d8576b"
             ],
             [
              0.6666666666666666,
              "#ed7953"
             ],
             [
              0.7777777777777778,
              "#fb9f3a"
             ],
             [
              0.8888888888888888,
              "#fdca26"
             ],
             [
              1,
              "#f0f921"
             ]
            ],
            "type": "surface"
           }
          ],
          "table": [
           {
            "cells": {
             "fill": {
              "color": "#EBF0F8"
             },
             "line": {
              "color": "white"
             }
            },
            "header": {
             "fill": {
              "color": "#C8D4E3"
             },
             "line": {
              "color": "white"
             }
            },
            "type": "table"
           }
          ]
         },
         "layout": {
          "annotationdefaults": {
           "arrowcolor": "#2a3f5f",
           "arrowhead": 0,
           "arrowwidth": 1
          },
          "autotypenumbers": "strict",
          "coloraxis": {
           "colorbar": {
            "outlinewidth": 0,
            "ticks": ""
           }
          },
          "colorscale": {
           "diverging": [
            [
             0,
             "#8e0152"
            ],
            [
             0.1,
             "#c51b7d"
            ],
            [
             0.2,
             "#de77ae"
            ],
            [
             0.3,
             "#f1b6da"
            ],
            [
             0.4,
             "#fde0ef"
            ],
            [
             0.5,
             "#f7f7f7"
            ],
            [
             0.6,
             "#e6f5d0"
            ],
            [
             0.7,
             "#b8e186"
            ],
            [
             0.8,
             "#7fbc41"
            ],
            [
             0.9,
             "#4d9221"
            ],
            [
             1,
             "#276419"
            ]
           ],
           "sequential": [
            [
             0,
             "#0d0887"
            ],
            [
             0.1111111111111111,
             "#46039f"
            ],
            [
             0.2222222222222222,
             "#7201a8"
            ],
            [
             0.3333333333333333,
             "#9c179e"
            ],
            [
             0.4444444444444444,
             "#bd3786"
            ],
            [
             0.5555555555555556,
             "#d8576b"
            ],
            [
             0.6666666666666666,
             "#ed7953"
            ],
            [
             0.7777777777777778,
             "#fb9f3a"
            ],
            [
             0.8888888888888888,
             "#fdca26"
            ],
            [
             1,
             "#f0f921"
            ]
           ],
           "sequentialminus": [
            [
             0,
             "#0d0887"
            ],
            [
             0.1111111111111111,
             "#46039f"
            ],
            [
             0.2222222222222222,
             "#7201a8"
            ],
            [
             0.3333333333333333,
             "#9c179e"
            ],
            [
             0.4444444444444444,
             "#bd3786"
            ],
            [
             0.5555555555555556,
             "#d8576b"
            ],
            [
             0.6666666666666666,
             "#ed7953"
            ],
            [
             0.7777777777777778,
             "#fb9f3a"
            ],
            [
             0.8888888888888888,
             "#fdca26"
            ],
            [
             1,
             "#f0f921"
            ]
           ]
          },
          "colorway": [
           "#636efa",
           "#EF553B",
           "#00cc96",
           "#ab63fa",
           "#FFA15A",
           "#19d3f3",
           "#FF6692",
           "#B6E880",
           "#FF97FF",
           "#FECB52"
          ],
          "font": {
           "color": "#2a3f5f"
          },
          "geo": {
           "bgcolor": "white",
           "lakecolor": "white",
           "landcolor": "#E5ECF6",
           "showlakes": true,
           "showland": true,
           "subunitcolor": "white"
          },
          "hoverlabel": {
           "align": "left"
          },
          "hovermode": "closest",
          "mapbox": {
           "style": "light"
          },
          "paper_bgcolor": "white",
          "plot_bgcolor": "#E5ECF6",
          "polar": {
           "angularaxis": {
            "gridcolor": "white",
            "linecolor": "white",
            "ticks": ""
           },
           "bgcolor": "#E5ECF6",
           "radialaxis": {
            "gridcolor": "white",
            "linecolor": "white",
            "ticks": ""
           }
          },
          "scene": {
           "xaxis": {
            "backgroundcolor": "#E5ECF6",
            "gridcolor": "white",
            "gridwidth": 2,
            "linecolor": "white",
            "showbackground": true,
            "ticks": "",
            "zerolinecolor": "white"
           },
           "yaxis": {
            "backgroundcolor": "#E5ECF6",
            "gridcolor": "white",
            "gridwidth": 2,
            "linecolor": "white",
            "showbackground": true,
            "ticks": "",
            "zerolinecolor": "white"
           },
           "zaxis": {
            "backgroundcolor": "#E5ECF6",
            "gridcolor": "white",
            "gridwidth": 2,
            "linecolor": "white",
            "showbackground": true,
            "ticks": "",
            "zerolinecolor": "white"
           }
          },
          "shapedefaults": {
           "line": {
            "color": "#2a3f5f"
           }
          },
          "ternary": {
           "aaxis": {
            "gridcolor": "white",
            "linecolor": "white",
            "ticks": ""
           },
           "baxis": {
            "gridcolor": "white",
            "linecolor": "white",
            "ticks": ""
           },
           "bgcolor": "#E5ECF6",
           "caxis": {
            "gridcolor": "white",
            "linecolor": "white",
            "ticks": ""
           }
          },
          "title": {
           "x": 0.05
          },
          "xaxis": {
           "automargin": true,
           "gridcolor": "white",
           "linecolor": "white",
           "ticks": "",
           "title": {
            "standoff": 15
           },
           "zerolinecolor": "white",
           "zerolinewidth": 2
          },
          "yaxis": {
           "automargin": true,
           "gridcolor": "white",
           "linecolor": "white",
           "ticks": "",
           "title": {
            "standoff": 15
           },
           "zerolinecolor": "white",
           "zerolinewidth": 2
          }
         }
        },
        "title": {
         "text": "Monde avec caméra"
        },
        "xaxis": {
         "anchor": "y",
         "domain": [
          0,
          1
         ],
         "gridcolor": "lightgray",
         "range": [
          -0.96,
          0.96
         ],
         "title": {
          "text": "u (horizontal)"
         },
         "zeroline": true,
         "zerolinecolor": "black"
        },
        "yaxis": {
         "anchor": "x",
         "domain": [
          0,
          0.45
         ],
         "gridcolor": "lightgray",
         "range": [
          -0.72,
          0.72
         ],
         "scaleanchor": "x",
         "scaleratio": 1,
         "title": {
          "text": "v (vertical)"
         },
         "zeroline": true,
         "zerolinecolor": "black"
        }
       }
      }
     },
     "metadata": {},
     "output_type": "display_data"
    }
   ],
   "source": [
    "# Créer un nouveau monde\n",
    "world_with_camera = World()\n",
    "\n",
    "# Ajouter les mêmes points que précédemment\n",
    "# p1 = world_with_camera.add_object(Point3D([1, 0, 0], name=\"Point X\", color=\"red\"))\n",
    "# p2 = world_with_camera.add_object(Point3D([0, 1, 0], name=\"Point Y\", color=\"green\"))\n",
    "# p3 = world_with_camera.add_object(Point3D([0, 0, 1], name=\"Point Z\", color=\"blue\"))\n",
    "p4 = world_with_camera.add_object(Point3D([1, 1, 1], name=\"Point XYZ\", color=\"purple\"))\n",
    "\n",
    "# Placer la caméra regardant vers l'origine\n",
    "cam1 = world_with_camera.add_object(Camera(\n",
    "    rotation=(0, 0, 0),       # Pas de rotation\n",
    "    translation=(1, 0, 0),    # Position de la caméra\n",
    "    focal_length=0.2,         # Distance focale (valeur unique)\n",
    "    name=\"Caméra 1\"\n",
    "))\n",
    "\n",
    "# Visualiser la scène avec la caméra\n",
    "fig = world_with_camera.visualize(figure_title=\"Monde avec caméra\")\n",
    "fig.show()"
   ]
  },
  {
   "cell_type": "markdown",
   "id": "810c80ae",
   "metadata": {},
   "source": [
    "## 5. Application: Calibrage de caméra\n",
    "\n",
    "Simulons un exemple de calibrage de caméra avec un damier."
   ]
  },
  {
   "cell_type": "code",
   "execution_count": 21,
   "id": "84edf85c",
   "metadata": {},
   "outputs": [
    {
     "data": {
      "application/vnd.plotly.v1+json": {
       "config": {
        "plotlyServerURL": "https://plot.ly"
       },
       "data": [
        {
         "marker": {
          "color": "black",
          "size": 8,
          "symbol": "circle"
         },
         "mode": "markers",
         "name": "Origine",
         "scene": "scene",
         "showlegend": true,
         "type": "scatter3d",
         "x": [
          0
         ],
         "y": [
          0
         ],
         "z": [
          0
         ]
        },
        {
         "line": {
          "color": "red",
          "width": 8
         },
         "mode": "lines",
         "name": "Axe X monde",
         "scene": "scene",
         "type": "scatter3d",
         "x": [
          0,
          2
         ],
         "y": [
          0,
          0
         ],
         "z": [
          0,
          0
         ]
        },
        {
         "line": {
          "color": "green",
          "width": 8
         },
         "mode": "lines",
         "name": "Axe Y monde",
         "scene": "scene",
         "type": "scatter3d",
         "x": [
          0,
          0
         ],
         "y": [
          0,
          2
         ],
         "z": [
          0,
          0
         ]
        },
        {
         "line": {
          "color": "blue",
          "width": 8
         },
         "mode": "lines",
         "name": "Axe Z monde",
         "scene": "scene",
         "type": "scatter3d",
         "x": [
          0,
          0
         ],
         "y": [
          0,
          0
         ],
         "z": [
          0,
          2
         ]
        },
        {
         "marker": {
          "color": "black",
          "size": 5,
          "symbol": "circle"
         },
         "mode": "markers",
         "name": "P(0,0)",
         "scene": "scene",
         "showlegend": true,
         "type": "scatter3d",
         "x": [
          -0.75
         ],
         "y": [
          -0.5
         ],
         "z": [
          0
         ]
        },
        {
         "marker": {
          "color": "white",
          "size": 5,
          "symbol": "circle"
         },
         "mode": "markers",
         "name": "P(0,1)",
         "scene": "scene",
         "showlegend": true,
         "type": "scatter3d",
         "x": [
          -0.5
         ],
         "y": [
          -0.5
         ],
         "z": [
          0
         ]
        },
        {
         "marker": {
          "color": "black",
          "size": 5,
          "symbol": "circle"
         },
         "mode": "markers",
         "name": "P(0,2)",
         "scene": "scene",
         "showlegend": true,
         "type": "scatter3d",
         "x": [
          -0.25
         ],
         "y": [
          -0.5
         ],
         "z": [
          0
         ]
        },
        {
         "marker": {
          "color": "white",
          "size": 5,
          "symbol": "circle"
         },
         "mode": "markers",
         "name": "P(0,3)",
         "scene": "scene",
         "showlegend": true,
         "type": "scatter3d",
         "x": [
          0
         ],
         "y": [
          -0.5
         ],
         "z": [
          0
         ]
        },
        {
         "marker": {
          "color": "black",
          "size": 5,
          "symbol": "circle"
         },
         "mode": "markers",
         "name": "P(0,4)",
         "scene": "scene",
         "showlegend": true,
         "type": "scatter3d",
         "x": [
          0.25
         ],
         "y": [
          -0.5
         ],
         "z": [
          0
         ]
        },
        {
         "marker": {
          "color": "white",
          "size": 5,
          "symbol": "circle"
         },
         "mode": "markers",
         "name": "P(0,5)",
         "scene": "scene",
         "showlegend": true,
         "type": "scatter3d",
         "x": [
          0.5
         ],
         "y": [
          -0.5
         ],
         "z": [
          0
         ]
        },
        {
         "marker": {
          "color": "black",
          "size": 5,
          "symbol": "circle"
         },
         "mode": "markers",
         "name": "P(0,6)",
         "scene": "scene",
         "showlegend": true,
         "type": "scatter3d",
         "x": [
          0.75
         ],
         "y": [
          -0.5
         ],
         "z": [
          0
         ]
        },
        {
         "marker": {
          "color": "white",
          "size": 5,
          "symbol": "circle"
         },
         "mode": "markers",
         "name": "P(1,0)",
         "scene": "scene",
         "showlegend": true,
         "type": "scatter3d",
         "x": [
          -0.75
         ],
         "y": [
          -0.25
         ],
         "z": [
          0
         ]
        },
        {
         "marker": {
          "color": "black",
          "size": 5,
          "symbol": "circle"
         },
         "mode": "markers",
         "name": "P(1,1)",
         "scene": "scene",
         "showlegend": true,
         "type": "scatter3d",
         "x": [
          -0.5
         ],
         "y": [
          -0.25
         ],
         "z": [
          0
         ]
        },
        {
         "marker": {
          "color": "white",
          "size": 5,
          "symbol": "circle"
         },
         "mode": "markers",
         "name": "P(1,2)",
         "scene": "scene",
         "showlegend": true,
         "type": "scatter3d",
         "x": [
          -0.25
         ],
         "y": [
          -0.25
         ],
         "z": [
          0
         ]
        },
        {
         "marker": {
          "color": "black",
          "size": 5,
          "symbol": "circle"
         },
         "mode": "markers",
         "name": "P(1,3)",
         "scene": "scene",
         "showlegend": true,
         "type": "scatter3d",
         "x": [
          0
         ],
         "y": [
          -0.25
         ],
         "z": [
          0
         ]
        },
        {
         "marker": {
          "color": "white",
          "size": 5,
          "symbol": "circle"
         },
         "mode": "markers",
         "name": "P(1,4)",
         "scene": "scene",
         "showlegend": true,
         "type": "scatter3d",
         "x": [
          0.25
         ],
         "y": [
          -0.25
         ],
         "z": [
          0
         ]
        },
        {
         "marker": {
          "color": "black",
          "size": 5,
          "symbol": "circle"
         },
         "mode": "markers",
         "name": "P(1,5)",
         "scene": "scene",
         "showlegend": true,
         "type": "scatter3d",
         "x": [
          0.5
         ],
         "y": [
          -0.25
         ],
         "z": [
          0
         ]
        },
        {
         "marker": {
          "color": "white",
          "size": 5,
          "symbol": "circle"
         },
         "mode": "markers",
         "name": "P(1,6)",
         "scene": "scene",
         "showlegend": true,
         "type": "scatter3d",
         "x": [
          0.75
         ],
         "y": [
          -0.25
         ],
         "z": [
          0
         ]
        },
        {
         "marker": {
          "color": "black",
          "size": 5,
          "symbol": "circle"
         },
         "mode": "markers",
         "name": "P(2,0)",
         "scene": "scene",
         "showlegend": true,
         "type": "scatter3d",
         "x": [
          -0.75
         ],
         "y": [
          0
         ],
         "z": [
          0
         ]
        },
        {
         "marker": {
          "color": "white",
          "size": 5,
          "symbol": "circle"
         },
         "mode": "markers",
         "name": "P(2,1)",
         "scene": "scene",
         "showlegend": true,
         "type": "scatter3d",
         "x": [
          -0.5
         ],
         "y": [
          0
         ],
         "z": [
          0
         ]
        },
        {
         "marker": {
          "color": "black",
          "size": 5,
          "symbol": "circle"
         },
         "mode": "markers",
         "name": "P(2,2)",
         "scene": "scene",
         "showlegend": true,
         "type": "scatter3d",
         "x": [
          -0.25
         ],
         "y": [
          0
         ],
         "z": [
          0
         ]
        },
        {
         "marker": {
          "color": "white",
          "size": 5,
          "symbol": "circle"
         },
         "mode": "markers",
         "name": "P(2,3)",
         "scene": "scene",
         "showlegend": true,
         "type": "scatter3d",
         "x": [
          0
         ],
         "y": [
          0
         ],
         "z": [
          0
         ]
        },
        {
         "marker": {
          "color": "black",
          "size": 5,
          "symbol": "circle"
         },
         "mode": "markers",
         "name": "P(2,4)",
         "scene": "scene",
         "showlegend": true,
         "type": "scatter3d",
         "x": [
          0.25
         ],
         "y": [
          0
         ],
         "z": [
          0
         ]
        },
        {
         "marker": {
          "color": "white",
          "size": 5,
          "symbol": "circle"
         },
         "mode": "markers",
         "name": "P(2,5)",
         "scene": "scene",
         "showlegend": true,
         "type": "scatter3d",
         "x": [
          0.5
         ],
         "y": [
          0
         ],
         "z": [
          0
         ]
        },
        {
         "marker": {
          "color": "black",
          "size": 5,
          "symbol": "circle"
         },
         "mode": "markers",
         "name": "P(2,6)",
         "scene": "scene",
         "showlegend": true,
         "type": "scatter3d",
         "x": [
          0.75
         ],
         "y": [
          0
         ],
         "z": [
          0
         ]
        },
        {
         "marker": {
          "color": "white",
          "size": 5,
          "symbol": "circle"
         },
         "mode": "markers",
         "name": "P(3,0)",
         "scene": "scene",
         "showlegend": true,
         "type": "scatter3d",
         "x": [
          -0.75
         ],
         "y": [
          0.25
         ],
         "z": [
          0
         ]
        },
        {
         "marker": {
          "color": "black",
          "size": 5,
          "symbol": "circle"
         },
         "mode": "markers",
         "name": "P(3,1)",
         "scene": "scene",
         "showlegend": true,
         "type": "scatter3d",
         "x": [
          -0.5
         ],
         "y": [
          0.25
         ],
         "z": [
          0
         ]
        },
        {
         "marker": {
          "color": "white",
          "size": 5,
          "symbol": "circle"
         },
         "mode": "markers",
         "name": "P(3,2)",
         "scene": "scene",
         "showlegend": true,
         "type": "scatter3d",
         "x": [
          -0.25
         ],
         "y": [
          0.25
         ],
         "z": [
          0
         ]
        },
        {
         "marker": {
          "color": "black",
          "size": 5,
          "symbol": "circle"
         },
         "mode": "markers",
         "name": "P(3,3)",
         "scene": "scene",
         "showlegend": true,
         "type": "scatter3d",
         "x": [
          0
         ],
         "y": [
          0.25
         ],
         "z": [
          0
         ]
        },
        {
         "marker": {
          "color": "white",
          "size": 5,
          "symbol": "circle"
         },
         "mode": "markers",
         "name": "P(3,4)",
         "scene": "scene",
         "showlegend": true,
         "type": "scatter3d",
         "x": [
          0.25
         ],
         "y": [
          0.25
         ],
         "z": [
          0
         ]
        },
        {
         "marker": {
          "color": "black",
          "size": 5,
          "symbol": "circle"
         },
         "mode": "markers",
         "name": "P(3,5)",
         "scene": "scene",
         "showlegend": true,
         "type": "scatter3d",
         "x": [
          0.5
         ],
         "y": [
          0.25
         ],
         "z": [
          0
         ]
        },
        {
         "marker": {
          "color": "white",
          "size": 5,
          "symbol": "circle"
         },
         "mode": "markers",
         "name": "P(3,6)",
         "scene": "scene",
         "showlegend": true,
         "type": "scatter3d",
         "x": [
          0.75
         ],
         "y": [
          0.25
         ],
         "z": [
          0
         ]
        },
        {
         "marker": {
          "color": "black",
          "size": 5,
          "symbol": "circle"
         },
         "mode": "markers",
         "name": "P(4,0)",
         "scene": "scene",
         "showlegend": true,
         "type": "scatter3d",
         "x": [
          -0.75
         ],
         "y": [
          0.5
         ],
         "z": [
          0
         ]
        },
        {
         "marker": {
          "color": "white",
          "size": 5,
          "symbol": "circle"
         },
         "mode": "markers",
         "name": "P(4,1)",
         "scene": "scene",
         "showlegend": true,
         "type": "scatter3d",
         "x": [
          -0.5
         ],
         "y": [
          0.5
         ],
         "z": [
          0
         ]
        },
        {
         "marker": {
          "color": "black",
          "size": 5,
          "symbol": "circle"
         },
         "mode": "markers",
         "name": "P(4,2)",
         "scene": "scene",
         "showlegend": true,
         "type": "scatter3d",
         "x": [
          -0.25
         ],
         "y": [
          0.5
         ],
         "z": [
          0
         ]
        },
        {
         "marker": {
          "color": "white",
          "size": 5,
          "symbol": "circle"
         },
         "mode": "markers",
         "name": "P(4,3)",
         "scene": "scene",
         "showlegend": true,
         "type": "scatter3d",
         "x": [
          0
         ],
         "y": [
          0.5
         ],
         "z": [
          0
         ]
        },
        {
         "marker": {
          "color": "black",
          "size": 5,
          "symbol": "circle"
         },
         "mode": "markers",
         "name": "P(4,4)",
         "scene": "scene",
         "showlegend": true,
         "type": "scatter3d",
         "x": [
          0.25
         ],
         "y": [
          0.5
         ],
         "z": [
          0
         ]
        },
        {
         "marker": {
          "color": "white",
          "size": 5,
          "symbol": "circle"
         },
         "mode": "markers",
         "name": "P(4,5)",
         "scene": "scene",
         "showlegend": true,
         "type": "scatter3d",
         "x": [
          0.5
         ],
         "y": [
          0.5
         ],
         "z": [
          0
         ]
        },
        {
         "marker": {
          "color": "black",
          "size": 5,
          "symbol": "circle"
         },
         "mode": "markers",
         "name": "P(4,6)",
         "scene": "scene",
         "showlegend": true,
         "type": "scatter3d",
         "x": [
          0.75
         ],
         "y": [
          0.5
         ],
         "z": [
          0
         ]
        },
        {
         "marker": {
          "color": "gray",
          "size": 5,
          "symbol": "diamond"
         },
         "mode": "markers",
         "name": "Damier Origine",
         "scene": "scene",
         "showlegend": true,
         "type": "scatter3d",
         "x": [
          0
         ],
         "y": [
          0
         ],
         "z": [
          0
         ]
        },
        {
         "line": {
          "color": "blue",
          "width": 4
         },
         "mode": "lines",
         "name": "Damier Axe Z",
         "scene": "scene",
         "showlegend": false,
         "type": "scatter3d",
         "x": [
          0,
          0
         ],
         "y": [
          0,
          0
         ],
         "z": [
          0,
          0.3
         ]
        },
        {
         "line": {
          "color": "red",
          "width": 4
         },
         "mode": "lines",
         "name": "Damier Axe X",
         "scene": "scene",
         "showlegend": false,
         "type": "scatter3d",
         "x": [
          0,
          0.3
         ],
         "y": [
          0,
          0
         ],
         "z": [
          0,
          0
         ]
        },
        {
         "line": {
          "color": "#00CC00",
          "width": 4
         },
         "mode": "lines",
         "name": "Damier Axe Y",
         "scene": "scene",
         "showlegend": false,
         "type": "scatter3d",
         "x": [
          0,
          0
         ],
         "y": [
          0,
          0.3
         ],
         "z": [
          0,
          0
         ]
        },
        {
         "marker": {
          "color": "blue",
          "size": 5,
          "symbol": "diamond"
         },
         "mode": "markers",
         "name": "Caméra à calibrer Origine",
         "scene": "scene",
         "showlegend": true,
         "type": "scatter3d",
         "x": [
          1
         ],
         "y": [
          1
         ],
         "z": [
          2
         ]
        },
        {
         "line": {
          "color": "blue",
          "width": 4
         },
         "mode": "lines",
         "name": "Caméra à calibrer Axe Z",
         "scene": "scene",
         "showlegend": false,
         "type": "scatter3d",
         "x": [
          1,
          0.95343253275716
         ],
         "y": [
          1,
          0.9436324288785418
         ],
         "z": [
          2,
          1.7090461068821137
         ]
        },
        {
         "line": {
          "color": "red",
          "width": 4
         },
         "mode": "lines",
         "name": "Caméra à calibrer Axe X",
         "scene": "scene",
         "showlegend": false,
         "type": "scatter3d",
         "x": [
          1,
          0.705681921342878
         ],
         "y": [
          1,
          0.9742505046467707
         ],
         "z": [
          2,
          2.052094453300079
         ]
        },
        {
         "line": {
          "color": "#00CC00",
          "width": 4
         },
         "mode": "lines",
         "name": "Caméra à calibrer Axe Y",
         "scene": "scene",
         "showlegend": false,
         "type": "scatter3d",
         "x": [
          1,
          0.9652388209324376
         ],
         "y": [
          1,
          1.2935296584928366
         ],
         "z": [
          2,
          1.9486969785011496
         ]
        },
        {
         "color": "blue",
         "flatshading": true,
         "i": [
          0,
          0
         ],
         "j": [
          1,
          2
         ],
         "k": [
          2,
          3
         ],
         "name": "Caméra à calibrer Plan image",
         "opacity": 0.15,
         "scene": "scene",
         "showlegend": true,
         "type": "mesh3d",
         "x": [
          1.6681006989160905,
          0.09840427941143944,
          -0.04064043685880998,
          1.529055982645841
         ],
         "y": [
          0.25613571947043867,
          0.11880507758654868,
          1.2929237115578958,
          1.4302543534417858
         ],
         "z": [
          0.7998719283926113,
          1.0777090126597,
          0.8724969266642989,
          0.5946598423972101
         ]
        },
        {
         "line": {
          "color": "blue",
          "dash": "dash",
          "width": 2
         },
         "mode": "lines",
         "name": "Caméra à calibrer Axe optique",
         "scene": "scene",
         "showlegend": false,
         "type": "scatter3d",
         "x": [
          1,
          0.8137301310286402
         ],
         "y": [
          1,
          0.7745297155141672
         ],
         "z": [
          2,
          0.8361844275284551
         ]
        },
        {
         "line": {
          "color": "black",
          "dash": "dash",
          "width": 2
         },
         "mode": "lines",
         "name": "Hiérarchie",
         "scene": "scene",
         "showlegend": false,
         "type": "scatter3d",
         "x": [
          0,
          0
         ],
         "y": [
          0,
          0
         ],
         "z": [
          0,
          0
         ]
        },
        {
         "line": {
          "color": "black",
          "width": 4
         },
         "mode": "lines",
         "name": "Tête flèche",
         "scene": "scene",
         "showlegend": false,
         "type": "scatter3d",
         "x": [
          0,
          0
         ],
         "y": [
          0,
          0
         ],
         "z": [
          0,
          0
         ]
        },
        {
         "line": {
          "color": "black",
          "dash": "dash",
          "width": 2
         },
         "mode": "lines",
         "name": "Hiérarchie",
         "scene": "scene",
         "showlegend": false,
         "type": "scatter3d",
         "x": [
          0,
          0.9
         ],
         "y": [
          0,
          0.9
         ],
         "z": [
          0,
          1.8
         ]
        },
        {
         "line": {
          "color": "black",
          "width": 4
         },
         "mode": "lines",
         "name": "Tête flèche",
         "scene": "scene",
         "showlegend": false,
         "type": "scatter3d",
         "x": [
          0.9,
          1
         ],
         "y": [
          0.9,
          1
         ],
         "z": [
          1.8,
          2
         ]
        },
        {
         "marker": {
          "color": "black",
          "size": 5,
          "symbol": "x"
         },
         "mode": "markers",
         "name": "P(0,0) (Caméra à calibrer)",
         "scene": "scene",
         "showlegend": true,
         "type": "scatter3d",
         "x": [
          0.15770019651312306
         ],
         "y": [
          0.27802873986839116
         ],
         "z": [
          1.037371653157855
         ]
        },
        {
         "line": {
          "color": "black",
          "dash": "dash",
          "width": 2
         },
         "mode": "lines",
         "name": "P(0,0) (Caméra à calibrer) Rayon",
         "scene": "scene",
         "showlegend": false,
         "type": "scatter3d",
         "x": [
          1,
          -0.75
         ],
         "y": [
          1,
          -0.5
         ],
         "z": [
          2,
          0
         ]
        },
        {
         "marker": {
          "color": "white",
          "size": 5,
          "symbol": "x"
         },
         "mode": "markers",
         "name": "P(0,1) (Caméra à calibrer)",
         "scene": "scene",
         "showlegend": true,
         "type": "scatter3d",
         "x": [
          0.26661358955495407
         ],
         "y": [
          0.26661358955495407
         ],
         "z": [
          1.022151452739939
         ]
        },
        {
         "line": {
          "color": "white",
          "dash": "dash",
          "width": 2
         },
         "mode": "lines",
         "name": "P(0,1) (Caméra à calibrer) Rayon",
         "scene": "scene",
         "showlegend": false,
         "type": "scatter3d",
         "x": [
          1,
          -0.5
         ],
         "y": [
          1,
          -0.5
         ],
         "z": [
          2,
          0
         ]
        },
        {
         "marker": {
          "color": "black",
          "size": 5,
          "symbol": "x"
         },
         "mode": "markers",
         "name": "P(0,2) (Caméra à calibrer)",
         "scene": "scene",
         "showlegend": true,
         "type": "scatter3d",
         "x": [
          0.3790263902735048
         ],
         "y": [
          0.2548316683282057
         ],
         "z": [
          1.0064422244376077
         ]
        },
        {
         "line": {
          "color": "black",
          "dash": "dash",
          "width": 2
         },
         "mode": "lines",
         "name": "P(0,2) (Caméra à calibrer) Rayon",
         "scene": "scene",
         "showlegend": false,
         "type": "scatter3d",
         "x": [
          1,
          -0.25
         ],
         "y": [
          1,
          -0.5
         ],
         "z": [
          2,
          0
         ]
        },
        {
         "marker": {
          "color": "white",
          "size": 5,
          "symbol": "x"
         },
         "mode": "markers",
         "name": "P(0,3) (Caméra à calibrer)",
         "scene": "scene",
         "showlegend": true,
         "type": "scatter3d",
         "x": [
          0.49511000729858634
         ],
         "y": [
          0.2426650109478795
         ],
         "z": [
          0.9902200145971727
         ]
        },
        {
         "line": {
          "color": "white",
          "dash": "dash",
          "width": 2
         },
         "mode": "lines",
         "name": "P(0,3) (Caméra à calibrer) Rayon",
         "scene": "scene",
         "showlegend": false,
         "type": "scatter3d",
         "x": [
          1,
          0
         ],
         "y": [
          1,
          -0.5
         ],
         "z": [
          2,
          0
         ]
        },
        {
         "marker": {
          "color": "black",
          "size": 5,
          "symbol": "x"
         },
         "mode": "markers",
         "name": "P(0,4) (Caméra à calibrer)",
         "scene": "scene",
         "showlegend": true,
         "type": "scatter3d",
         "x": [
          0.6150472296982485
         ],
         "y": [
          0.2300944593964972
         ],
         "z": [
          0.9734592791953296
         ]
        },
        {
         "line": {
          "color": "black",
          "dash": "dash",
          "width": 2
         },
         "mode": "lines",
         "name": "P(0,4) (Caméra à calibrer) Rayon",
         "scene": "scene",
         "showlegend": false,
         "type": "scatter3d",
         "x": [
          1,
          0.25
         ],
         "y": [
          1,
          -0.5
         ],
         "z": [
          2,
          0
         ]
        },
        {
         "marker": {
          "color": "white",
          "size": 5,
          "symbol": "x"
         },
         "mode": "markers",
         "name": "P(0,5) (Caméra à calibrer)",
         "scene": "scene",
         "showlegend": true,
         "type": "scatter3d",
         "x": [
          0.7390331874058533
         ],
         "y": [
          0.21709956221756
         ],
         "z": [
          0.9561327496234133
         ]
        },
        {
         "line": {
          "color": "white",
          "dash": "dash",
          "width": 2
         },
         "mode": "lines",
         "name": "P(0,5) (Caméra à calibrer) Rayon",
         "scene": "scene",
         "showlegend": false,
         "type": "scatter3d",
         "x": [
          1,
          0.5
         ],
         "y": [
          1,
          -0.5
         ],
         "z": [
          2,
          0
         ]
        },
        {
         "marker": {
          "color": "black",
          "size": 5,
          "symbol": "x"
         },
         "mode": "markers",
         "name": "P(0,6) (Caméra à calibrer)",
         "scene": "scene",
         "showlegend": true,
         "type": "scatter3d",
         "x": [
          0.8672764105807601
         ],
         "y": [
          0.2036584634845604
         ],
         "z": [
          0.9382112846460806
         ]
        },
        {
         "line": {
          "color": "black",
          "dash": "dash",
          "width": 2
         },
         "mode": "lines",
         "name": "P(0,6) (Caméra à calibrer) Rayon",
         "scene": "scene",
         "showlegend": false,
         "type": "scatter3d",
         "x": [
          1,
          0.75
         ],
         "y": [
          1,
          -0.5
         ],
         "z": [
          2,
          0
         ]
        },
        {
         "marker": {
          "color": "white",
          "size": 5,
          "symbol": "x"
         },
         "mode": "markers",
         "name": "P(1,0) (Caméra à calibrer)",
         "scene": "scene",
         "showlegend": true,
         "type": "scatter3d",
         "x": [
          0.1415260033709742
         ],
         "y": [
          0.3868042881221244
         ],
         "z": [
          1.0188868609953992
         ]
        },
        {
         "line": {
          "color": "white",
          "dash": "dash",
          "width": 2
         },
         "mode": "lines",
         "name": "P(1,0) (Caméra à calibrer) Rayon",
         "scene": "scene",
         "showlegend": false,
         "type": "scatter3d",
         "x": [
          1,
          -0.75
         ],
         "y": [
          1,
          -0.25
         ],
         "z": [
          2,
          0
         ]
        },
        {
         "marker": {
          "color": "black",
          "size": 5,
          "symbol": "x"
         },
         "mode": "markers",
         "name": "P(1,1) (Caméra à calibrer)",
         "scene": "scene",
         "showlegend": true,
         "type": "scatter3d",
         "x": [
          0.2523037880700548
         ],
         "y": [
          0.37691982339171237
         ],
         "z": [
          1.0030717174267396
         ]
        },
        {
         "line": {
          "color": "black",
          "dash": "dash",
          "width": 2
         },
         "mode": "lines",
         "name": "P(1,1) (Caméra à calibrer) Rayon",
         "scene": "scene",
         "showlegend": false,
         "type": "scatter3d",
         "x": [
          1,
          -0.5
         ],
         "y": [
          1,
          -0.25
         ],
         "z": [
          2,
          0
         ]
        },
        {
         "marker": {
          "color": "white",
          "size": 5,
          "symbol": "x"
         },
         "mode": "markers",
         "name": "P(1,2) (Caméra à calibrer)",
         "scene": "scene",
         "showlegend": true,
         "type": "scatter3d",
         "x": [
          0.36671147064008824
         ],
         "y": [
          0.36671147064008824
         ],
         "z": [
          0.9867383530241411
         ]
        },
        {
         "line": {
          "color": "white",
          "dash": "dash",
          "width": 2
         },
         "mode": "lines",
         "name": "P(1,2) (Caméra à calibrer) Rayon",
         "scene": "scene",
         "showlegend": false,
         "type": "scatter3d",
         "x": [
          1,
          -0.25
         ],
         "y": [
          1,
          -0.25
         ],
         "z": [
          2,
          0
         ]
        },
        {
         "marker": {
          "color": "black",
          "size": 5,
          "symbol": "x"
         },
         "mode": "markers",
         "name": "P(1,3) (Caméra à calibrer)",
         "scene": "scene",
         "showlegend": true,
         "type": "scatter3d",
         "x": [
          0.48493043620832277
         ],
         "y": [
          0.35616304526040343
         ],
         "z": [
          0.9698608724166455
         ]
        },
        {
         "line": {
          "color": "black",
          "dash": "dash",
          "width": 2
         },
         "mode": "lines",
         "name": "P(1,3) (Caméra à calibrer) Rayon",
         "scene": "scene",
         "showlegend": false,
         "type": "scatter3d",
         "x": [
          1,
          0
         ],
         "y": [
          1,
          -0.25
         ],
         "z": [
          2,
          0
         ]
        },
        {
         "marker": {
          "color": "white",
          "size": 5,
          "symbol": "x"
         },
         "mode": "markers",
         "name": "P(1,4) (Caméra à calibrer)",
         "scene": "scene",
         "showlegend": true,
         "type": "scatter3d",
         "x": [
          0.6071543596355093
         ],
         "y": [
          0.34525726605918217
         ],
         "z": [
          0.9524116256946915
         ]
        },
        {
         "line": {
          "color": "white",
          "dash": "dash",
          "width": 2
         },
         "mode": "lines",
         "name": "P(1,4) (Caméra à calibrer) Rayon",
         "scene": "scene",
         "showlegend": false,
         "type": "scatter3d",
         "x": [
          1,
          0.25
         ],
         "y": [
          1,
          -0.25
         ],
         "z": [
          2,
          0
         ]
        },
        {
         "marker": {
          "color": "black",
          "size": 5,
          "symbol": "x"
         },
         "mode": "markers",
         "name": "P(1,5) (Caméra à calibrer)",
         "scene": "scene",
         "showlegend": true,
         "type": "scatter3d",
         "x": [
          0.7335902643128531
         ],
         "y": [
          0.3339756607821329
         ],
         "z": [
          0.9343610572514127
         ]
        },
        {
         "line": {
          "color": "black",
          "dash": "dash",
          "width": 2
         },
         "mode": "lines",
         "name": "P(1,5) (Caméra à calibrer) Rayon",
         "scene": "scene",
         "showlegend": false,
         "type": "scatter3d",
         "x": [
          1,
          0.5
         ],
         "y": [
          1,
          -0.25
         ],
         "z": [
          2,
          0
         ]
        },
        {
         "marker": {
          "color": "white",
          "size": 5,
          "symbol": "x"
         },
         "mode": "markers",
         "name": "P(1,6) (Caméra à calibrer)",
         "scene": "scene",
         "showlegend": true,
         "type": "scatter3d",
         "x": [
          0.8644596923403287
         ],
         "y": [
          0.32229846170164334
         ],
         "z": [
          0.9156775387226292
         ]
        },
        {
         "line": {
          "color": "white",
          "dash": "dash",
          "width": 2
         },
         "mode": "lines",
         "name": "P(1,6) (Caméra à calibrer) Rayon",
         "scene": "scene",
         "showlegend": false,
         "type": "scatter3d",
         "x": [
          1,
          0.75
         ],
         "y": [
          1,
          -0.25
         ],
         "z": [
          2,
          0
         ]
        },
        {
         "marker": {
          "color": "black",
          "size": 5,
          "symbol": "x"
         },
         "mode": "markers",
         "name": "P(2,0) (Caméra à calibrer)",
         "scene": "scene",
         "showlegend": true,
         "type": "scatter3d",
         "x": [
          0.12471848154242748
         ],
         "y": [
          0.4998391323099586
         ],
         "z": [
          0.9996782646199172
         ]
        },
        {
         "line": {
          "color": "black",
          "dash": "dash",
          "width": 2
         },
         "mode": "lines",
         "name": "P(2,0) (Caméra à calibrer) Rayon",
         "scene": "scene",
         "showlegend": false,
         "type": "scatter3d",
         "x": [
          1,
          -0.75
         ],
         "y": [
          1,
          0
         ],
         "z": [
          2,
          0
         ]
        },
        {
         "marker": {
          "color": "white",
          "size": 5,
          "symbol": "x"
         },
         "mode": "markers",
         "name": "P(2,1) (Caméra à calibrer)",
         "scene": "scene",
         "showlegend": true,
         "type": "scatter3d",
         "x": [
          0.23742444944269891
         ],
         "y": [
          0.491616299628466
         ],
         "z": [
          0.983232599256932
         ]
        },
        {
         "line": {
          "color": "white",
          "dash": "dash",
          "width": 2
         },
         "mode": "lines",
         "name": "P(2,1) (Caméra à calibrer) Rayon",
         "scene": "scene",
         "showlegend": false,
         "type": "scatter3d",
         "x": [
          1,
          -0.5
         ],
         "y": [
          1,
          0
         ],
         "z": [
          2,
          0
         ]
        },
        {
         "marker": {
          "color": "black",
          "size": 5,
          "symbol": "x"
         },
         "mode": "markers",
         "name": "P(2,2) (Caméra à calibrer)",
         "scene": "scene",
         "showlegend": true,
         "type": "scatter3d",
         "x": [
          0.35389821836788404
         ],
         "y": [
          0.4831185746943072
         ],
         "z": [
          0.9662371493886144
         ]
        },
        {
         "line": {
          "color": "black",
          "dash": "dash",
          "width": 2
         },
         "mode": "lines",
         "name": "P(2,2) (Caméra à calibrer) Rayon",
         "scene": "scene",
         "showlegend": false,
         "type": "scatter3d",
         "x": [
          1,
          -0.25
         ],
         "y": [
          1,
          0
         ],
         "z": [
          2,
          0
         ]
        },
        {
         "marker": {
          "color": "white",
          "size": 5,
          "symbol": "x"
         },
         "mode": "markers",
         "name": "P(2,3) (Caméra à calibrer)",
         "scene": "scene",
         "showlegend": true,
         "type": "scatter3d",
         "x": [
          0.47433193855797495
         ],
         "y": [
          0.47433193855797495
         ],
         "z": [
          0.9486638771159499
         ]
        },
        {
         "line": {
          "color": "white",
          "dash": "dash",
          "width": 2
         },
         "mode": "lines",
         "name": "P(2,3) (Caméra à calibrer) Rayon",
         "scene": "scene",
         "showlegend": false,
         "type": "scatter3d",
         "x": [
          1,
          0
         ],
         "y": [
          1,
          0
         ],
         "z": [
          2,
          0
         ]
        },
        {
         "marker": {
          "color": "black",
          "size": 5,
          "symbol": "x"
         },
         "mode": "markers",
         "name": "P(2,4) (Caméra à calibrer)",
         "scene": "scene",
         "showlegend": true,
         "type": "scatter3d",
         "x": [
          0.59893105190073
         ],
         "y": [
          0.4652414025343067
         ],
         "z": [
          0.9304828050686134
         ]
        },
        {
         "line": {
          "color": "black",
          "dash": "dash",
          "width": 2
         },
         "mode": "lines",
         "name": "P(2,4) (Caméra à calibrer) Rayon",
         "scene": "scene",
         "showlegend": false,
         "type": "scatter3d",
         "x": [
          1,
          0.25
         ],
         "y": [
          1,
          0
         ],
         "z": [
          2,
          0
         ]
        },
        {
         "marker": {
          "color": "white",
          "size": 5,
          "symbol": "x"
         },
         "mode": "markers",
         "name": "P(2,5) (Caméra à calibrer)",
         "scene": "scene",
         "showlegend": true,
         "type": "scatter3d",
         "x": [
          0.7279154614386385
         ],
         "y": [
          0.4558309228772769
         ],
         "z": [
          0.9116618457545538
         ]
        },
        {
         "line": {
          "color": "white",
          "dash": "dash",
          "width": 2
         },
         "mode": "lines",
         "name": "P(2,5) (Caméra à calibrer) Rayon",
         "scene": "scene",
         "showlegend": false,
         "type": "scatter3d",
         "x": [
          1,
          0.5
         ],
         "y": [
          1,
          0
         ],
         "z": [
          2,
          0
         ]
        },
        {
         "marker": {
          "color": "black",
          "size": 5,
          "symbol": "x"
         },
         "mode": "markers",
         "name": "P(2,6) (Caméra à calibrer)",
         "scene": "scene",
         "showlegend": true,
         "type": "scatter3d",
         "x": [
          0.8615208265710717
         ],
         "y": [
          0.4460833062842865
         ],
         "z": [
          0.892166612568573
         ]
        },
        {
         "line": {
          "color": "black",
          "dash": "dash",
          "width": 2
         },
         "mode": "lines",
         "name": "P(2,6) (Caméra à calibrer) Rayon",
         "scene": "scene",
         "showlegend": false,
         "type": "scatter3d",
         "x": [
          1,
          0.75
         ],
         "y": [
          1,
          0
         ],
         "z": [
          2,
          0
         ]
        },
        {
         "marker": {
          "color": "white",
          "size": 5,
          "symbol": "x"
         },
         "mode": "markers",
         "name": "P(3,0) (Caméra à calibrer)",
         "scene": "scene",
         "showlegend": true,
         "type": "scatter3d",
         "x": [
          0.10723968956477825
         ],
         "y": [
          0.617388438384905
         ],
         "z": [
          0.9797025023597465
         ]
        },
        {
         "line": {
          "color": "white",
          "dash": "dash",
          "width": 2
         },
         "mode": "lines",
         "name": "P(3,0) (Caméra à calibrer) Rayon",
         "scene": "scene",
         "showlegend": false,
         "type": "scatter3d",
         "x": [
          1,
          -0.75
         ],
         "y": [
          1,
          0.25
         ],
         "z": [
          2,
          0
         ]
        },
        {
         "marker": {
          "color": "black",
          "size": 5,
          "symbol": "x"
         },
         "mode": "markers",
         "name": "P(3,1) (Caméra à calibrer)",
         "scene": "scene",
         "showlegend": true,
         "type": "scatter3d",
         "x": [
          0.221940881502255
         ],
         "y": [
          0.6109704407511275
         ],
         "z": [
          0.9625878420030067
         ]
        },
        {
         "line": {
          "color": "black",
          "dash": "dash",
          "width": 2
         },
         "mode": "lines",
         "name": "P(3,1) (Caméra à calibrer) Rayon",
         "scene": "scene",
         "showlegend": false,
         "type": "scatter3d",
         "x": [
          1,
          -0.5
         ],
         "y": [
          1,
          0.25
         ],
         "z": [
          2,
          0
         ]
        },
        {
         "marker": {
          "color": "white",
          "size": 5,
          "symbol": "x"
         },
         "mode": "markers",
         "name": "P(3,2) (Caméra à calibrer)",
         "scene": "scene",
         "showlegend": true,
         "type": "scatter3d",
         "x": [
          0.34055576069506577
         ],
         "y": [
          0.6043334564170395
         ],
         "z": [
          0.9448892171121053
         ]
        },
        {
         "line": {
          "color": "white",
          "dash": "dash",
          "width": 2
         },
         "mode": "lines",
         "name": "P(3,2) (Caméra à calibrer) Rayon",
         "scene": "scene",
         "showlegend": false,
         "type": "scatter3d",
         "x": [
          1,
          -0.25
         ],
         "y": [
          1,
          0.25
         ],
         "z": [
          2,
          0
         ]
        },
        {
         "marker": {
          "color": "black",
          "size": 5,
          "symbol": "x"
         },
         "mode": "markers",
         "name": "P(3,3) (Caméra à calibrer)",
         "scene": "scene",
         "showlegend": true,
         "type": "scatter3d",
         "x": [
          0.4632881105012526
         ],
         "y": [
          0.5974660828759395
         ],
         "z": [
          0.9265762210025053
         ]
        },
        {
         "line": {
          "color": "black",
          "dash": "dash",
          "width": 2
         },
         "mode": "lines",
         "name": "P(3,3) (Caméra à calibrer) Rayon",
         "scene": "scene",
         "showlegend": false,
         "type": "scatter3d",
         "x": [
          1,
          0
         ],
         "y": [
          1,
          0.25
         ],
         "z": [
          2,
          0
         ]
        },
        {
         "marker": {
          "color": "white",
          "size": 5,
          "symbol": "x"
         },
         "mode": "markers",
         "name": "P(3,4) (Caméra à calibrer)",
         "scene": "scene",
         "showlegend": true,
         "type": "scatter3d",
         "x": [
          0.5903561120096038
         ],
         "y": [
          0.5903561120096038
         ],
         "z": [
          0.9076162986922769
         ]
        },
        {
         "line": {
          "color": "white",
          "dash": "dash",
          "width": 2
         },
         "mode": "lines",
         "name": "P(3,4) (Caméra à calibrer) Rayon",
         "scene": "scene",
         "showlegend": false,
         "type": "scatter3d",
         "x": [
          1,
          0.25
         ],
         "y": [
          1,
          0.25
         ],
         "z": [
          2,
          0
         ]
        },
        {
         "marker": {
          "color": "black",
          "size": 5,
          "symbol": "x"
         },
         "mode": "markers",
         "name": "P(3,5) (Caméra à calibrer)",
         "scene": "scene",
         "showlegend": true,
         "type": "scatter3d",
         "x": [
          0.7219936384408541
         ],
         "y": [
          0.582990457661281
         ],
         "z": [
          0.887974553763416
         ]
        },
        {
         "line": {
          "color": "black",
          "dash": "dash",
          "width": 2
         },
         "mode": "lines",
         "name": "P(3,5) (Caméra à calibrer) Rayon",
         "scene": "scene",
         "showlegend": false,
         "type": "scatter3d",
         "x": [
          1,
          0.5
         ],
         "y": [
          1,
          0.25
         ],
         "z": [
          2,
          0
         ]
        },
        {
         "marker": {
          "color": "white",
          "size": 5,
          "symbol": "x"
         },
         "mode": "markers",
         "name": "P(3,6) (Caméra à calibrer)",
         "scene": "scene",
         "showlegend": true,
         "type": "scatter3d",
         "x": [
          0.8584516917506402
         ],
         "y": [
          0.5753550752519205
         ],
         "z": [
          0.8676135340051214
         ]
        },
        {
         "line": {
          "color": "white",
          "dash": "dash",
          "width": 2
         },
         "mode": "lines",
         "name": "P(3,6) (Caméra à calibrer) Rayon",
         "scene": "scene",
         "showlegend": false,
         "type": "scatter3d",
         "x": [
          1,
          0.75
         ],
         "y": [
          1,
          0.25
         ],
         "z": [
          2,
          0
         ]
        },
        {
         "marker": {
          "color": "black",
          "size": 5,
          "symbol": "x"
         },
         "mode": "markers",
         "name": "P(4,0) (Caméra à calibrer)",
         "scene": "scene",
         "showlegend": true,
         "type": "scatter3d",
         "x": [
          0.08904859355831896
         ],
         "y": [
          0.7397281695880911
         ],
         "z": [
          0.9589126783523645
         ]
        },
        {
         "line": {
          "color": "black",
          "dash": "dash",
          "width": 2
         },
         "mode": "lines",
         "name": "P(4,0) (Caméra à calibrer) Rayon",
         "scene": "scene",
         "showlegend": false,
         "type": "scatter3d",
         "x": [
          1,
          -0.75
         ],
         "y": [
          1,
          0.5
         ],
         "z": [
          2,
          0
         ]
        },
        {
         "marker": {
          "color": "white",
          "size": 5,
          "symbol": "x"
         },
         "mode": "markers",
         "name": "P(4,1) (Caméra à calibrer)",
         "scene": "scene",
         "showlegend": true,
         "type": "scatter3d",
         "x": [
          0.2058155160810602
         ],
         "y": [
          0.7352718386936867
         ],
         "z": [
          0.9410873547747469
         ]
        },
        {
         "line": {
          "color": "white",
          "dash": "dash",
          "width": 2
         },
         "mode": "lines",
         "name": "P(4,1) (Caméra à calibrer) Rayon",
         "scene": "scene",
         "showlegend": false,
         "type": "scatter3d",
         "x": [
          1,
          -0.5
         ],
         "y": [
          1,
          0.5
         ],
         "z": [
          2,
          0
         ]
        },
        {
         "marker": {
          "color": "black",
          "size": 5,
          "symbol": "x"
         },
         "mode": "markers",
         "name": "P(4,2) (Caméra à calibrer)",
         "scene": "scene",
         "showlegend": true,
         "type": "scatter3d",
         "x": [
          0.32665062090912733
         ],
         "y": [
          0.730660248363651
         ],
         "z": [
          0.9226409934546038
         ]
        },
        {
         "line": {
          "color": "black",
          "dash": "dash",
          "width": 2
         },
         "mode": "lines",
         "name": "P(4,2) (Caméra à calibrer) Rayon",
         "scene": "scene",
         "showlegend": false,
         "type": "scatter3d",
         "x": [
          1,
          -0.25
         ],
         "y": [
          1,
          0.5
         ],
         "z": [
          2,
          0
         ]
        },
        {
         "marker": {
          "color": "white",
          "size": 5,
          "symbol": "x"
         },
         "mode": "markers",
         "name": "P(4,3) (Caméra à calibrer)",
         "scene": "scene",
         "showlegend": true,
         "type": "scatter3d",
         "x": [
          0.45177028168734046
         ],
         "y": [
          0.7258851408436702
         ],
         "z": [
          0.9035405633746809
         ]
        },
        {
         "line": {
          "color": "white",
          "dash": "dash",
          "width": 2
         },
         "mode": "lines",
         "name": "P(4,3) (Caméra à calibrer) Rayon",
         "scene": "scene",
         "showlegend": false,
         "type": "scatter3d",
         "x": [
          1,
          0
         ],
         "y": [
          1,
          0.5
         ],
         "z": [
          2,
          0
         ]
        },
        {
         "marker": {
          "color": "black",
          "size": 5,
          "symbol": "x"
         },
         "mode": "markers",
         "name": "P(4,4) (Caméra à calibrer)",
         "scene": "scene",
         "showlegend": true,
         "type": "scatter3d",
         "x": [
          0.581406493307598
         ],
         "y": [
          0.7209376622050653
         ],
         "z": [
          0.8837506488202611
         ]
        },
        {
         "line": {
          "color": "black",
          "dash": "dash",
          "width": 2
         },
         "mode": "lines",
         "name": "P(4,4) (Caméra à calibrer) Rayon",
         "scene": "scene",
         "showlegend": false,
         "type": "scatter3d",
         "x": [
          1,
          0.25
         ],
         "y": [
          1,
          0.5
         ],
         "z": [
          2,
          0
         ]
        },
        {
         "marker": {
          "color": "white",
          "size": 5,
          "symbol": "x"
         },
         "mode": "markers",
         "name": "P(4,5) (Caméra à calibrer)",
         "scene": "scene",
         "showlegend": true,
         "type": "scatter3d",
         "x": [
          0.7158083075543494
         ],
         "y": [
          0.7158083075543494
         ],
         "z": [
          0.8632332302173977
         ]
        },
        {
         "line": {
          "color": "white",
          "dash": "dash",
          "width": 2
         },
         "mode": "lines",
         "name": "P(4,5) (Caméra à calibrer) Rayon",
         "scene": "scene",
         "showlegend": false,
         "type": "scatter3d",
         "x": [
          1,
          0.5
         ],
         "y": [
          1,
          0.5
         ],
         "z": [
          2,
          0
         ]
        },
        {
         "marker": {
          "color": "black",
          "size": 5,
          "symbol": "x"
         },
         "mode": "markers",
         "name": "P(4,6) (Caméra à calibrer)",
         "scene": "scene",
         "showlegend": true,
         "type": "scatter3d",
         "x": [
          0.8552434300435645
         ],
         "y": [
          0.7104868600871291
         ],
         "z": [
          0.8419474403485165
         ]
        },
        {
         "line": {
          "color": "black",
          "dash": "dash",
          "width": 2
         },
         "mode": "lines",
         "name": "P(4,6) (Caméra à calibrer) Rayon",
         "scene": "scene",
         "showlegend": false,
         "type": "scatter3d",
         "x": [
          1,
          0.75
         ],
         "y": [
          1,
          0.5
         ],
         "z": [
          2,
          0
         ]
        },
        {
         "marker": {
          "color": "black",
          "size": 10,
          "symbol": "x"
         },
         "mode": "markers+text",
         "name": "P(0,0)",
         "showlegend": false,
         "text": [
          "(0.72, -0.44)"
         ],
         "textposition": "top center",
         "type": "scatter",
         "x": [
          0.7211561932118421
         ],
         "xaxis": "x",
         "y": [
          -0.444183001190163
         ],
         "yaxis": "y"
        },
        {
         "marker": {
          "color": "white",
          "size": 10,
          "symbol": "x"
         },
         "mode": "markers+text",
         "name": "P(0,1)",
         "showlegend": false,
         "text": [
          "(0.61, -0.47)"
         ],
         "textposition": "top center",
         "type": "scatter",
         "x": [
          0.6126424124117209
         ],
         "xaxis": "x",
         "y": [
          -0.4653690040644075
         ],
         "yaxis": "y"
        },
        {
         "marker": {
          "color": "black",
          "size": 10,
          "symbol": "x"
         },
         "mode": "markers+text",
         "name": "P(0,2)",
         "showlegend": false,
         "text": [
          "(0.50, -0.49)"
         ],
         "textposition": "top center",
         "type": "scatter",
         "x": [
          0.5006420635509021
         ],
         "xaxis": "x",
         "y": [
          -0.48723571717112696
         ],
         "yaxis": "y"
        },
        {
         "marker": {
          "color": "white",
          "size": 10,
          "symbol": "x"
         },
         "mode": "markers+text",
         "name": "P(0,3)",
         "showlegend": false,
         "text": [
          "(0.38, -0.51)"
         ],
         "textposition": "top center",
         "type": "scatter",
         "x": [
          0.38498436691200627
         ],
         "xaxis": "x",
         "y": [
          -0.5098164831840036
         ],
         "yaxis": "y"
        },
        {
         "marker": {
          "color": "black",
          "size": 10,
          "symbol": "x"
         },
         "mode": "markers+text",
         "name": "P(0,4)",
         "showlegend": false,
         "text": [
          "(0.27, -0.53)"
         ],
         "textposition": "top center",
         "type": "scatter",
         "x": [
          0.26548720409518306
         ],
         "xaxis": "x",
         "y": [
          -0.5331468585172945
         ],
         "yaxis": "y"
        },
        {
         "marker": {
          "color": "white",
          "size": 10,
          "symbol": "x"
         },
         "mode": "markers+text",
         "name": "P(0,5)",
         "showlegend": false,
         "text": [
          "(0.14, -0.56)"
         ],
         "textposition": "top center",
         "type": "scatter",
         "x": [
          0.1419561611149253
         ],
         "xaxis": "x",
         "y": [
          -0.5572648001496003
         ],
         "yaxis": "y"
        },
        {
         "marker": {
          "color": "black",
          "size": 10,
          "symbol": "x"
         },
         "mode": "markers+text",
         "name": "P(0,6)",
         "showlegend": false,
         "text": [
          "(0.01, -0.58)"
         ],
         "textposition": "top center",
         "type": "scatter",
         "x": [
          0.014183472926265074
         ],
         "xaxis": "x",
         "y": [
          -0.5822108716923575
         ],
         "yaxis": "y"
        },
        {
         "marker": {
          "color": "white",
          "size": 10,
          "symbol": "x"
         },
         "mode": "markers+text",
         "name": "P(1,0)",
         "showlegend": false,
         "text": [
          "(0.72, -0.33)"
         ],
         "textposition": "top center",
         "type": "scatter",
         "x": [
          0.7244778159886862
         ],
         "xaxis": "x",
         "y": [
          -0.3327183037065323
         ],
         "yaxis": "y"
        },
        {
         "marker": {
          "color": "black",
          "size": 10,
          "symbol": "x"
         },
         "mode": "markers+text",
         "name": "P(1,1)",
         "showlegend": false,
         "text": [
          "(0.61, -0.35)"
         ],
         "textposition": "top center",
         "type": "scatter",
         "x": [
          0.6139002625555114
         ],
         "xaxis": "x",
         "y": [
          -0.352520921429281
         ],
         "yaxis": "y"
        },
        {
         "marker": {
          "color": "white",
          "size": 10,
          "symbol": "x"
         },
         "mode": "markers+text",
         "name": "P(1,2)",
         "showlegend": false,
         "text": [
          "(0.50, -0.37)"
         ],
         "textposition": "top center",
         "type": "scatter",
         "x": [
          0.49969937230555017
         ],
         "xaxis": "x",
         "y": [
          -0.37297241907056544
         ],
         "yaxis": "y"
        },
        {
         "marker": {
          "color": "black",
          "size": 10,
          "symbol": "x"
         },
         "mode": "markers+text",
         "name": "P(1,3)",
         "showlegend": false,
         "text": [
          "(0.38, -0.39)"
         ],
         "textposition": "top center",
         "type": "scatter",
         "x": [
          0.381694087965859
         ],
         "xaxis": "x",
         "y": [
          -0.39410522100450773
         ],
         "yaxis": "y"
        },
        {
         "marker": {
          "color": "white",
          "size": 10,
          "symbol": "x"
         },
         "mode": "markers+text",
         "name": "P(1,4)",
         "showlegend": false,
         "text": [
          "(0.26, -0.42)"
         ],
         "textposition": "top center",
         "type": "scatter",
         "x": [
          0.2596910847437325
         ],
         "xaxis": "x",
         "y": [
          -0.41595394851587464
         ],
         "yaxis": "y"
        },
        {
         "marker": {
          "color": "black",
          "size": 10,
          "symbol": "x"
         },
         "mode": "markers+text",
         "name": "P(1,5)",
         "showlegend": false,
         "text": [
          "(0.13, -0.44)"
         ],
         "textposition": "top center",
         "type": "scatter",
         "x": [
          0.13348371344352988
         ],
         "xaxis": "x",
         "y": [
          -0.43855560907044
         ],
         "yaxis": "y"
        },
        {
         "marker": {
          "color": "white",
          "size": 10,
          "symbol": "x"
         },
         "mode": "markers+text",
         "name": "P(1,6)",
         "showlegend": false,
         "text": [
          "(0.00, -0.46)"
         ],
         "textposition": "top center",
         "type": "scatter",
         "x": [
          0.002850832403462518
         ],
         "xaxis": "x",
         "y": [
          -0.4619498054958573
         ],
         "yaxis": "y"
        },
        {
         "marker": {
          "color": "black",
          "size": 10,
          "symbol": "x"
         },
         "mode": "markers+text",
         "name": "P(2,0)",
         "showlegend": false,
         "text": [
          "(0.73, -0.22)"
         ],
         "textposition": "top center",
         "type": "scatter",
         "x": [
          0.7279295026872037
         ],
         "xaxis": "x",
         "y": [
          -0.21688901196978522
         ],
         "yaxis": "y"
        },
        {
         "marker": {
          "color": "white",
          "size": 10,
          "symbol": "x"
         },
         "mode": "markers+text",
         "name": "P(2,1)",
         "showlegend": false,
         "text": [
          "(0.62, -0.24)"
         ],
         "textposition": "top center",
         "type": "scatter",
         "x": [
          0.6152081757541457
         ],
         "xaxis": "x",
         "y": [
          -0.23518142956087315
         ],
         "yaxis": "y"
        },
        {
         "marker": {
          "color": "black",
          "size": 10,
          "symbol": "x"
         },
         "mode": "markers+text",
         "name": "P(2,2)",
         "showlegend": false,
         "text": [
          "(0.50, -0.25)"
         ],
         "textposition": "top center",
         "type": "scatter",
         "x": [
          0.4987185343381861
         ],
         "xaxis": "x",
         "y": [
          -0.2540853692481899
         ],
         "yaxis": "y"
        },
        {
         "marker": {
          "color": "white",
          "size": 10,
          "symbol": "x"
         },
         "mode": "markers+text",
         "name": "P(2,3)",
         "showlegend": false,
         "text": [
          "(0.38, -0.27)"
         ],
         "textposition": "top center",
         "type": "scatter",
         "x": [
          0.37826840201401307
         ],
         "xaxis": "x",
         "y": [
          -0.2736320174231539
         ],
         "yaxis": "y"
        },
        {
         "marker": {
          "color": "black",
          "size": 10,
          "symbol": "x"
         },
         "mode": "markers+text",
         "name": "P(2,4)",
         "showlegend": false,
         "text": [
          "(0.25, -0.29)"
         ],
         "textposition": "top center",
         "type": "scatter",
         "x": [
          0.2536523088972258
         ],
         "xaxis": "x",
         "y": [
          -0.2938547177398024
         ],
         "yaxis": "y"
        },
        {
         "marker": {
          "color": "white",
          "size": 10,
          "symbol": "x"
         },
         "mode": "markers+text",
         "name": "P(2,5)",
         "showlegend": false,
         "text": [
          "(0.12, -0.31)"
         ],
         "textposition": "top center",
         "type": "scatter",
         "x": [
          0.1246503219779951
         ],
         "xaxis": "x",
         "y": [
          -0.31478916092825104
         ],
         "yaxis": "y"
        },
        {
         "marker": {
          "color": "black",
          "size": 10,
          "symbol": "x"
         },
         "mode": "markers+text",
         "name": "P(2,6)",
         "showlegend": false,
         "text": [
          "(-0.01, -0.34)"
         ],
         "textposition": "top center",
         "type": "scatter",
         "x": [
          -0.008973250257591355
         ],
         "xaxis": "x",
         "y": [
          -0.3364735950087499
         ],
         "yaxis": "y"
        },
        {
         "marker": {
          "color": "white",
          "size": 10,
          "symbol": "x"
         },
         "mode": "markers+text",
         "name": "P(3,0)",
         "showlegend": false,
         "text": [
          "(0.73, -0.10)"
         ],
         "textposition": "top center",
         "type": "scatter",
         "x": [
          0.7315190451784075
         ],
         "xaxis": "x",
         "y": [
          -0.09643365181392469
         ],
         "yaxis": "y"
        },
        {
         "marker": {
          "color": "black",
          "size": 10,
          "symbol": "x"
         },
         "mode": "markers+text",
         "name": "P(3,1)",
         "showlegend": false,
         "text": [
          "(0.62, -0.11)"
         ],
         "textposition": "top center",
         "type": "scatter",
         "x": [
          0.616569201494498
         ],
         "xaxis": "x",
         "y": [
          -0.1130769436060069
         ],
         "yaxis": "y"
        },
        {
         "marker": {
          "color": "white",
          "size": 10,
          "symbol": "x"
         },
         "mode": "markers+text",
         "name": "P(3,2)",
         "showlegend": false,
         "text": [
          "(0.50, -0.13)"
         ],
         "textposition": "top center",
         "type": "scatter",
         "x": [
          0.4976971863786336
         ],
         "xaxis": "x",
         "y": [
          -0.13028811649743263
         ],
         "yaxis": "y"
        },
        {
         "marker": {
          "color": "black",
          "size": 10,
          "symbol": "x"
         },
         "mode": "markers+text",
         "name": "P(3,3)",
         "showlegend": false,
         "text": [
          "(0.37, -0.15)"
         ],
         "textposition": "top center",
         "type": "scatter",
         "x": [
          0.3746987747067623
         ],
         "xaxis": "x",
         "y": [
          -0.1480967397178934
         ],
         "yaxis": "y"
        },
        {
         "marker": {
          "color": "white",
          "size": 10,
          "symbol": "x"
         },
         "mode": "markers+text",
         "name": "P(3,4)",
         "showlegend": false,
         "text": [
          "(0.25, -0.17)"
         ],
         "textposition": "top center",
         "type": "scatter",
         "x": [
          0.24735531241237166
         ],
         "xaxis": "x",
         "y": [
          -0.16653447162649482
         ],
         "yaxis": "y"
        },
        {
         "marker": {
          "color": "black",
          "size": 10,
          "symbol": "x"
         },
         "mode": "markers+text",
         "name": "P(3,5)",
         "showlegend": false,
         "text": [
          "(0.12, -0.19)"
         ],
         "textposition": "top center",
         "type": "scatter",
         "x": [
          0.11543241927925604
         ],
         "xaxis": "x",
         "y": [
          -0.185635247531051
         ],
         "yaxis": "y"
        },
        {
         "marker": {
          "color": "white",
          "size": 10,
          "symbol": "x"
         },
         "mode": "markers+text",
         "name": "P(3,6)",
         "showlegend": false,
         "text": [
          "(-0.02, -0.21)"
         ],
         "textposition": "top center",
         "type": "scatter",
         "x": [
          -0.021321450775736935
         ],
         "xaxis": "x",
         "y": [
          -0.20543548814103743
         ],
         "yaxis": "y"
        },
        {
         "marker": {
          "color": "black",
          "size": 10,
          "symbol": "x"
         },
         "mode": "markers+text",
         "name": "P(4,0)",
         "showlegend": false,
         "text": [
          "(0.74, 0.03)"
         ],
         "textposition": "top center",
         "type": "scatter",
         "x": [
          0.7352548704093648
         ],
         "xaxis": "x",
         "y": [
          0.028930562365743442
         ],
         "yaxis": "y"
        },
        {
         "marker": {
          "color": "white",
          "size": 10,
          "symbol": "x"
         },
         "mode": "markers+text",
         "name": "P(4,1)",
         "showlegend": false,
         "text": [
          "(0.62, 0.01)"
         ],
         "textposition": "top center",
         "type": "scatter",
         "x": [
          0.6179866420673203
         ],
         "xaxis": "x",
         "y": [
          0.014088801599675793
         ],
         "yaxis": "y"
        },
        {
         "marker": {
          "color": "black",
          "size": 10,
          "symbol": "x"
         },
         "mode": "markers+text",
         "name": "P(4,2)",
         "showlegend": false,
         "text": [
          "(0.50, -0.00)"
         ],
         "textposition": "top center",
         "type": "scatter",
         "x": [
          0.4966327658276437
         ],
         "xaxis": "x",
         "y": [
          -0.0012700489999159289
         ],
         "yaxis": "y"
        },
        {
         "marker": {
          "color": "white",
          "size": 10,
          "symbol": "x"
         },
         "mode": "markers+text",
         "name": "P(4,3)",
         "showlegend": false,
         "text": [
          "(0.37, -0.02)"
         ],
         "textposition": "top center",
         "type": "scatter",
         "x": [
          0.3709759391063516
         ],
         "xaxis": "x",
         "y": [
          -0.017173491792459555
         ],
         "yaxis": "y"
        },
        {
         "marker": {
          "color": "black",
          "size": 10,
          "symbol": "x"
         },
         "mode": "markers+text",
         "name": "P(4,4)",
         "showlegend": false,
         "text": [
          "(0.24, -0.03)"
         ],
         "textposition": "top center",
         "type": "scatter",
         "x": [
          0.24078317100696803
         ],
         "xaxis": "x",
         "y": [
          -0.033651014689515125
         ],
         "yaxis": "y"
        },
        {
         "marker": {
          "color": "white",
          "size": 10,
          "symbol": "x"
         },
         "mode": "markers+text",
         "name": "P(4,5)",
         "showlegend": false,
         "text": [
          "(0.11, -0.05)"
         ],
         "textposition": "top center",
         "type": "scatter",
         "x": [
          0.10580434051151243
         ],
         "xaxis": "x",
         "y": [
          -0.0507342736337359
         ],
         "yaxis": "y"
        },
        {
         "marker": {
          "color": "black",
          "size": 10,
          "symbol": "x"
         },
         "mode": "markers+text",
         "name": "P(4,6)",
         "showlegend": false,
         "text": [
          "(-0.03, -0.07)"
         ],
         "textposition": "top center",
         "type": "scatter",
         "x": [
          -0.034229407314475366
         ],
         "xaxis": "x",
         "y": [
          -0.06845729557917797
         ],
         "yaxis": "y"
        }
       ],
       "layout": {
        "annotations": [
         {
          "font": {
           "size": 16
          },
          "showarrow": false,
          "text": "Scène 3D",
          "x": 0.5,
          "xanchor": "center",
          "xref": "paper",
          "y": 1,
          "yanchor": "bottom",
          "yref": "paper"
         },
         {
          "font": {
           "size": 16
          },
          "showarrow": false,
          "text": "Vue Caméra à calibrer",
          "x": 0.5,
          "xanchor": "center",
          "xref": "paper",
          "y": 0.45,
          "yanchor": "bottom",
          "yref": "paper"
         }
        ],
        "height": 1000,
        "scene": {
         "aspectmode": "manual",
         "aspectratio": {
          "x": 1,
          "y": 1,
          "z": 1
         },
         "domain": {
          "x": [
           0,
           1
          ],
          "y": [
           0.55,
           1
          ]
         },
         "xaxis": {
          "backgroundcolor": "rgb(230, 230, 230)",
          "gridcolor": "white",
          "range": [
           -1.75,
           2.6681006989160903
          ],
          "title": {
           "text": "X"
          }
         },
         "yaxis": {
          "backgroundcolor": "rgb(230, 230, 230)",
          "gridcolor": "white",
          "range": [
           -1.5,
           2.4302543534417858
          ],
          "title": {
           "text": "Y"
          }
         },
         "zaxis": {
          "backgroundcolor": "rgb(230, 230, 230)",
          "gridcolor": "white",
          "range": [
           -1,
           3
          ],
          "title": {
           "text": "Z"
          }
         }
        },
        "shapes": [
         {
          "fillcolor": "rgba(255, 255, 255, 0.0)",
          "line": {
           "color": "black",
           "width": 2
          },
          "type": "rect",
          "x0": -0.8,
          "x1": 0.8,
          "xref": "x",
          "y0": -0.6,
          "y1": 0.6,
          "yref": "y"
         },
         {
          "line": {
           "color": "gray",
           "dash": "dash",
           "width": 1
          },
          "type": "line",
          "x0": -0.8,
          "x1": 0.8,
          "xref": "x",
          "y0": 0,
          "y1": 0,
          "yref": "y"
         },
         {
          "line": {
           "color": "gray",
           "dash": "dash",
           "width": 1
          },
          "type": "line",
          "x0": 0,
          "x1": 0,
          "xref": "x",
          "y0": -0.6,
          "y1": 0.6,
          "yref": "y"
         }
        ],
        "template": {
         "data": {
          "bar": [
           {
            "error_x": {
             "color": "#2a3f5f"
            },
            "error_y": {
             "color": "#2a3f5f"
            },
            "marker": {
             "line": {
              "color": "#E5ECF6",
              "width": 0.5
             },
             "pattern": {
              "fillmode": "overlay",
              "size": 10,
              "solidity": 0.2
             }
            },
            "type": "bar"
           }
          ],
          "barpolar": [
           {
            "marker": {
             "line": {
              "color": "#E5ECF6",
              "width": 0.5
             },
             "pattern": {
              "fillmode": "overlay",
              "size": 10,
              "solidity": 0.2
             }
            },
            "type": "barpolar"
           }
          ],
          "carpet": [
           {
            "aaxis": {
             "endlinecolor": "#2a3f5f",
             "gridcolor": "white",
             "linecolor": "white",
             "minorgridcolor": "white",
             "startlinecolor": "#2a3f5f"
            },
            "baxis": {
             "endlinecolor": "#2a3f5f",
             "gridcolor": "white",
             "linecolor": "white",
             "minorgridcolor": "white",
             "startlinecolor": "#2a3f5f"
            },
            "type": "carpet"
           }
          ],
          "choropleth": [
           {
            "colorbar": {
             "outlinewidth": 0,
             "ticks": ""
            },
            "type": "choropleth"
           }
          ],
          "contour": [
           {
            "colorbar": {
             "outlinewidth": 0,
             "ticks": ""
            },
            "colorscale": [
             [
              0,
              "#0d0887"
             ],
             [
              0.1111111111111111,
              "#46039f"
             ],
             [
              0.2222222222222222,
              "#7201a8"
             ],
             [
              0.3333333333333333,
              "#9c179e"
             ],
             [
              0.4444444444444444,
              "#bd3786"
             ],
             [
              0.5555555555555556,
              "#d8576b"
             ],
             [
              0.6666666666666666,
              "#ed7953"
             ],
             [
              0.7777777777777778,
              "#fb9f3a"
             ],
             [
              0.8888888888888888,
              "#fdca26"
             ],
             [
              1,
              "#f0f921"
             ]
            ],
            "type": "contour"
           }
          ],
          "contourcarpet": [
           {
            "colorbar": {
             "outlinewidth": 0,
             "ticks": ""
            },
            "type": "contourcarpet"
           }
          ],
          "heatmap": [
           {
            "colorbar": {
             "outlinewidth": 0,
             "ticks": ""
            },
            "colorscale": [
             [
              0,
              "#0d0887"
             ],
             [
              0.1111111111111111,
              "#46039f"
             ],
             [
              0.2222222222222222,
              "#7201a8"
             ],
             [
              0.3333333333333333,
              "#9c179e"
             ],
             [
              0.4444444444444444,
              "#bd3786"
             ],
             [
              0.5555555555555556,
              "#d8576b"
             ],
             [
              0.6666666666666666,
              "#ed7953"
             ],
             [
              0.7777777777777778,
              "#fb9f3a"
             ],
             [
              0.8888888888888888,
              "#fdca26"
             ],
             [
              1,
              "#f0f921"
             ]
            ],
            "type": "heatmap"
           }
          ],
          "histogram": [
           {
            "marker": {
             "pattern": {
              "fillmode": "overlay",
              "size": 10,
              "solidity": 0.2
             }
            },
            "type": "histogram"
           }
          ],
          "histogram2d": [
           {
            "colorbar": {
             "outlinewidth": 0,
             "ticks": ""
            },
            "colorscale": [
             [
              0,
              "#0d0887"
             ],
             [
              0.1111111111111111,
              "#46039f"
             ],
             [
              0.2222222222222222,
              "#7201a8"
             ],
             [
              0.3333333333333333,
              "#9c179e"
             ],
             [
              0.4444444444444444,
              "#bd3786"
             ],
             [
              0.5555555555555556,
              "#d8576b"
             ],
             [
              0.6666666666666666,
              "#ed7953"
             ],
             [
              0.7777777777777778,
              "#fb9f3a"
             ],
             [
              0.8888888888888888,
              "#fdca26"
             ],
             [
              1,
              "#f0f921"
             ]
            ],
            "type": "histogram2d"
           }
          ],
          "histogram2dcontour": [
           {
            "colorbar": {
             "outlinewidth": 0,
             "ticks": ""
            },
            "colorscale": [
             [
              0,
              "#0d0887"
             ],
             [
              0.1111111111111111,
              "#46039f"
             ],
             [
              0.2222222222222222,
              "#7201a8"
             ],
             [
              0.3333333333333333,
              "#9c179e"
             ],
             [
              0.4444444444444444,
              "#bd3786"
             ],
             [
              0.5555555555555556,
              "#d8576b"
             ],
             [
              0.6666666666666666,
              "#ed7953"
             ],
             [
              0.7777777777777778,
              "#fb9f3a"
             ],
             [
              0.8888888888888888,
              "#fdca26"
             ],
             [
              1,
              "#f0f921"
             ]
            ],
            "type": "histogram2dcontour"
           }
          ],
          "mesh3d": [
           {
            "colorbar": {
             "outlinewidth": 0,
             "ticks": ""
            },
            "type": "mesh3d"
           }
          ],
          "parcoords": [
           {
            "line": {
             "colorbar": {
              "outlinewidth": 0,
              "ticks": ""
             }
            },
            "type": "parcoords"
           }
          ],
          "pie": [
           {
            "automargin": true,
            "type": "pie"
           }
          ],
          "scatter": [
           {
            "fillpattern": {
             "fillmode": "overlay",
             "size": 10,
             "solidity": 0.2
            },
            "type": "scatter"
           }
          ],
          "scatter3d": [
           {
            "line": {
             "colorbar": {
              "outlinewidth": 0,
              "ticks": ""
             }
            },
            "marker": {
             "colorbar": {
              "outlinewidth": 0,
              "ticks": ""
             }
            },
            "type": "scatter3d"
           }
          ],
          "scattercarpet": [
           {
            "marker": {
             "colorbar": {
              "outlinewidth": 0,
              "ticks": ""
             }
            },
            "type": "scattercarpet"
           }
          ],
          "scattergeo": [
           {
            "marker": {
             "colorbar": {
              "outlinewidth": 0,
              "ticks": ""
             }
            },
            "type": "scattergeo"
           }
          ],
          "scattergl": [
           {
            "marker": {
             "colorbar": {
              "outlinewidth": 0,
              "ticks": ""
             }
            },
            "type": "scattergl"
           }
          ],
          "scattermap": [
           {
            "marker": {
             "colorbar": {
              "outlinewidth": 0,
              "ticks": ""
             }
            },
            "type": "scattermap"
           }
          ],
          "scattermapbox": [
           {
            "marker": {
             "colorbar": {
              "outlinewidth": 0,
              "ticks": ""
             }
            },
            "type": "scattermapbox"
           }
          ],
          "scatterpolar": [
           {
            "marker": {
             "colorbar": {
              "outlinewidth": 0,
              "ticks": ""
             }
            },
            "type": "scatterpolar"
           }
          ],
          "scatterpolargl": [
           {
            "marker": {
             "colorbar": {
              "outlinewidth": 0,
              "ticks": ""
             }
            },
            "type": "scatterpolargl"
           }
          ],
          "scatterternary": [
           {
            "marker": {
             "colorbar": {
              "outlinewidth": 0,
              "ticks": ""
             }
            },
            "type": "scatterternary"
           }
          ],
          "surface": [
           {
            "colorbar": {
             "outlinewidth": 0,
             "ticks": ""
            },
            "colorscale": [
             [
              0,
              "#0d0887"
             ],
             [
              0.1111111111111111,
              "#46039f"
             ],
             [
              0.2222222222222222,
              "#7201a8"
             ],
             [
              0.3333333333333333,
              "#9c179e"
             ],
             [
              0.4444444444444444,
              "#bd3786"
             ],
             [
              0.5555555555555556,
              "#d8576b"
             ],
             [
              0.6666666666666666,
              "#ed7953"
             ],
             [
              0.7777777777777778,
              "#fb9f3a"
             ],
             [
              0.8888888888888888,
              "#fdca26"
             ],
             [
              1,
              "#f0f921"
             ]
            ],
            "type": "surface"
           }
          ],
          "table": [
           {
            "cells": {
             "fill": {
              "color": "#EBF0F8"
             },
             "line": {
              "color": "white"
             }
            },
            "header": {
             "fill": {
              "color": "#C8D4E3"
             },
             "line": {
              "color": "white"
             }
            },
            "type": "table"
           }
          ]
         },
         "layout": {
          "annotationdefaults": {
           "arrowcolor": "#2a3f5f",
           "arrowhead": 0,
           "arrowwidth": 1
          },
          "autotypenumbers": "strict",
          "coloraxis": {
           "colorbar": {
            "outlinewidth": 0,
            "ticks": ""
           }
          },
          "colorscale": {
           "diverging": [
            [
             0,
             "#8e0152"
            ],
            [
             0.1,
             "#c51b7d"
            ],
            [
             0.2,
             "#de77ae"
            ],
            [
             0.3,
             "#f1b6da"
            ],
            [
             0.4,
             "#fde0ef"
            ],
            [
             0.5,
             "#f7f7f7"
            ],
            [
             0.6,
             "#e6f5d0"
            ],
            [
             0.7,
             "#b8e186"
            ],
            [
             0.8,
             "#7fbc41"
            ],
            [
             0.9,
             "#4d9221"
            ],
            [
             1,
             "#276419"
            ]
           ],
           "sequential": [
            [
             0,
             "#0d0887"
            ],
            [
             0.1111111111111111,
             "#46039f"
            ],
            [
             0.2222222222222222,
             "#7201a8"
            ],
            [
             0.3333333333333333,
             "#9c179e"
            ],
            [
             0.4444444444444444,
             "#bd3786"
            ],
            [
             0.5555555555555556,
             "#d8576b"
            ],
            [
             0.6666666666666666,
             "#ed7953"
            ],
            [
             0.7777777777777778,
             "#fb9f3a"
            ],
            [
             0.8888888888888888,
             "#fdca26"
            ],
            [
             1,
             "#f0f921"
            ]
           ],
           "sequentialminus": [
            [
             0,
             "#0d0887"
            ],
            [
             0.1111111111111111,
             "#46039f"
            ],
            [
             0.2222222222222222,
             "#7201a8"
            ],
            [
             0.3333333333333333,
             "#9c179e"
            ],
            [
             0.4444444444444444,
             "#bd3786"
            ],
            [
             0.5555555555555556,
             "#d8576b"
            ],
            [
             0.6666666666666666,
             "#ed7953"
            ],
            [
             0.7777777777777778,
             "#fb9f3a"
            ],
            [
             0.8888888888888888,
             "#fdca26"
            ],
            [
             1,
             "#f0f921"
            ]
           ]
          },
          "colorway": [
           "#636efa",
           "#EF553B",
           "#00cc96",
           "#ab63fa",
           "#FFA15A",
           "#19d3f3",
           "#FF6692",
           "#B6E880",
           "#FF97FF",
           "#FECB52"
          ],
          "font": {
           "color": "#2a3f5f"
          },
          "geo": {
           "bgcolor": "white",
           "lakecolor": "white",
           "landcolor": "#E5ECF6",
           "showlakes": true,
           "showland": true,
           "subunitcolor": "white"
          },
          "hoverlabel": {
           "align": "left"
          },
          "hovermode": "closest",
          "mapbox": {
           "style": "light"
          },
          "paper_bgcolor": "white",
          "plot_bgcolor": "#E5ECF6",
          "polar": {
           "angularaxis": {
            "gridcolor": "white",
            "linecolor": "white",
            "ticks": ""
           },
           "bgcolor": "#E5ECF6",
           "radialaxis": {
            "gridcolor": "white",
            "linecolor": "white",
            "ticks": ""
           }
          },
          "scene": {
           "xaxis": {
            "backgroundcolor": "#E5ECF6",
            "gridcolor": "white",
            "gridwidth": 2,
            "linecolor": "white",
            "showbackground": true,
            "ticks": "",
            "zerolinecolor": "white"
           },
           "yaxis": {
            "backgroundcolor": "#E5ECF6",
            "gridcolor": "white",
            "gridwidth": 2,
            "linecolor": "white",
            "showbackground": true,
            "ticks": "",
            "zerolinecolor": "white"
           },
           "zaxis": {
            "backgroundcolor": "#E5ECF6",
            "gridcolor": "white",
            "gridwidth": 2,
            "linecolor": "white",
            "showbackground": true,
            "ticks": "",
            "zerolinecolor": "white"
           }
          },
          "shapedefaults": {
           "line": {
            "color": "#2a3f5f"
           }
          },
          "ternary": {
           "aaxis": {
            "gridcolor": "white",
            "linecolor": "white",
            "ticks": ""
           },
           "baxis": {
            "gridcolor": "white",
            "linecolor": "white",
            "ticks": ""
           },
           "bgcolor": "#E5ECF6",
           "caxis": {
            "gridcolor": "white",
            "linecolor": "white",
            "ticks": ""
           }
          },
          "title": {
           "x": 0.05
          },
          "xaxis": {
           "automargin": true,
           "gridcolor": "white",
           "linecolor": "white",
           "ticks": "",
           "title": {
            "standoff": 15
           },
           "zerolinecolor": "white",
           "zerolinewidth": 2
          },
          "yaxis": {
           "automargin": true,
           "gridcolor": "white",
           "linecolor": "white",
           "ticks": "",
           "title": {
            "standoff": 15
           },
           "zerolinecolor": "white",
           "zerolinewidth": 2
          }
         }
        },
        "title": {
         "text": "Simulation de calibrage de caméra"
        },
        "xaxis": {
         "anchor": "y",
         "domain": [
          0,
          1
         ],
         "gridcolor": "lightgray",
         "range": [
          -0.96,
          0.96
         ],
         "title": {
          "text": "u (horizontal)"
         },
         "zeroline": true,
         "zerolinecolor": "black"
        },
        "yaxis": {
         "anchor": "x",
         "domain": [
          0,
          0.45
         ],
         "gridcolor": "lightgray",
         "range": [
          -0.72,
          0.72
         ],
         "scaleanchor": "x",
         "scaleratio": 1,
         "title": {
          "text": "v (vertical)"
         },
         "zeroline": true,
         "zerolinecolor": "black"
        }
       }
      }
     },
     "metadata": {},
     "output_type": "display_data"
    }
   ],
   "source": [
    "# Créer un monde pour le calibrage\n",
    "world_calibration = World()\n",
    "\n",
    "# Définir les paramètres du damier\n",
    "rows, cols = 5, 7\n",
    "square_size = 0.25\n",
    "\n",
    "# Créer les points du damier (simplifié comme une grille 2D)\n",
    "for r in range(rows):\n",
    "    for c in range(cols):\n",
    "        # Coordonnées du point dans le plan du damier\n",
    "        x = c * square_size - (cols-1) * square_size / 2\n",
    "        y = r * square_size - (rows-1) * square_size / 2\n",
    "        z = 0  # Le damier est dans le plan z=0\n",
    "        \n",
    "        # Ajouter le point au monde\n",
    "        point = world_calibration.add_object(Point3D(\n",
    "            [x, y, z],\n",
    "            name=f\"P({r},{c})\",\n",
    "            color=\"black\" if (r+c) % 2 == 0 else \"white\",\n",
    "            size=5,\n",
    "            show_connections=False  # Pour éviter trop de lignes\n",
    "        ))\n",
    "\n",
    "# Créer le repère du damier\n",
    "checkerboard_frame = world_calibration.add_object(Frame(\n",
    "    rotation=(0, 0, 0),\n",
    "    translation=(0, 0, 0),\n",
    "    name=\"Damier\",\n",
    "    color=\"gray\",\n",
    "    show_coordinates=False  # Pour éviter d'afficher toutes les coordonnées\n",
    "))\n",
    "\n",
    "# Définir une caméra simulant la caméra à calibrer\n",
    "calib_camera = world_calibration.add_object(Camera(\n",
    "    rotation=(10, 190, 5),    # Orientation aléatoire\n",
    "    translation=(1, 1, 2),    # Position dans l'espace\n",
    "    focal_length=1.2,\n",
    "    name=\"Caméra à calibrer\",\n",
    "    color=\"blue\"\n",
    "))\n",
    "\n",
    "# Visualiser la scène de calibrage\n",
    "fig = world_calibration.visualize(figure_title=\"Simulation de calibrage de caméra\", height=1000)\n",
    "fig.show()"
   ]
  },
  {
   "cell_type": "code",
   "execution_count": 22,
   "id": "9c41c509",
   "metadata": {},
   "outputs": [
    {
     "data": {
      "application/vnd.plotly.v1+json": {
       "config": {
        "plotlyServerURL": "https://plot.ly"
       },
       "data": [
        {
         "marker": {
          "color": "black",
          "size": 8,
          "symbol": "circle"
         },
         "mode": "markers",
         "name": "Origine",
         "scene": "scene",
         "showlegend": true,
         "type": "scatter3d",
         "x": [
          0
         ],
         "y": [
          0
         ],
         "z": [
          0
         ]
        },
        {
         "line": {
          "color": "red",
          "width": 8
         },
         "mode": "lines",
         "name": "Axe X monde",
         "scene": "scene",
         "type": "scatter3d",
         "x": [
          0,
          2
         ],
         "y": [
          0,
          0
         ],
         "z": [
          0,
          0
         ]
        },
        {
         "line": {
          "color": "green",
          "width": 8
         },
         "mode": "lines",
         "name": "Axe Y monde",
         "scene": "scene",
         "type": "scatter3d",
         "x": [
          0,
          0
         ],
         "y": [
          0,
          2
         ],
         "z": [
          0,
          0
         ]
        },
        {
         "line": {
          "color": "blue",
          "width": 8
         },
         "mode": "lines",
         "name": "Axe Z monde",
         "scene": "scene",
         "type": "scatter3d",
         "x": [
          0,
          0
         ],
         "y": [
          0,
          0
         ],
         "z": [
          0,
          2
         ]
        },
        {
         "marker": {
          "color": "blue",
          "size": 5,
          "symbol": "diamond"
         },
         "mode": "markers",
         "name": "Caméra 1 Origine",
         "scene": "scene",
         "showlegend": true,
         "type": "scatter3d",
         "x": [
          1
         ],
         "y": [
          1
         ],
         "z": [
          1
         ]
        },
        {
         "line": {
          "color": "blue",
          "width": 4
         },
         "mode": "lines",
         "name": "Caméra 1 Axe Z",
         "scene": "scene",
         "showlegend": false,
         "type": "scatter3d",
         "x": [
          1,
          1
         ],
         "y": [
          1,
          1
         ],
         "z": [
          1,
          1.3
         ]
        },
        {
         "line": {
          "color": "red",
          "width": 4
         },
         "mode": "lines",
         "name": "Caméra 1 Axe X",
         "scene": "scene",
         "showlegend": false,
         "type": "scatter3d",
         "x": [
          1,
          1.3
         ],
         "y": [
          1,
          1
         ],
         "z": [
          1,
          1
         ]
        },
        {
         "line": {
          "color": "#00CC00",
          "width": 4
         },
         "mode": "lines",
         "name": "Caméra 1 Axe Y",
         "scene": "scene",
         "showlegend": false,
         "type": "scatter3d",
         "x": [
          1,
          1
         ],
         "y": [
          1,
          1.3
         ],
         "z": [
          1,
          1
         ]
        },
        {
         "color": "blue",
         "flatshading": true,
         "i": [
          0,
          0
         ],
         "j": [
          1,
          2
         ],
         "k": [
          2,
          3
         ],
         "name": "Caméra 1 Plan image",
         "opacity": 0.15,
         "scene": "scene",
         "showlegend": true,
         "type": "mesh3d",
         "x": [
          0.19999999999999996,
          1.8,
          1.8,
          0.19999999999999996
         ],
         "y": [
          0.4,
          0.4,
          1.6,
          1.6
         ],
         "z": [
          2,
          2,
          2,
          2
         ]
        },
        {
         "line": {
          "color": "blue",
          "dash": "dash",
          "width": 2
         },
         "mode": "lines",
         "name": "Caméra 1 Axe optique",
         "scene": "scene",
         "showlegend": false,
         "type": "scatter3d",
         "x": [
          1,
          1
         ],
         "y": [
          1,
          1
         ],
         "z": [
          1,
          2
         ]
        },
        {
         "marker": {
          "color": "red",
          "size": 5,
          "symbol": "diamond"
         },
         "mode": "markers",
         "name": "Caméra 2 Origine",
         "scene": "scene",
         "showlegend": true,
         "type": "scatter3d",
         "x": [
          1
         ],
         "y": [
          2
         ],
         "z": [
          2
         ]
        },
        {
         "line": {
          "color": "blue",
          "width": 4
         },
         "mode": "lines",
         "name": "Caméra 2 Axe Z",
         "scene": "scene",
         "showlegend": false,
         "type": "scatter3d",
         "x": [
          1,
          1
         ],
         "y": [
          2,
          1.85
         ],
         "z": [
          2,
          2.2598076211353315
         ]
        },
        {
         "line": {
          "color": "red",
          "width": 4
         },
         "mode": "lines",
         "name": "Caméra 2 Axe X",
         "scene": "scene",
         "showlegend": false,
         "type": "scatter3d",
         "x": [
          1,
          1.3
         ],
         "y": [
          2,
          2
         ],
         "z": [
          2,
          2
         ]
        },
        {
         "line": {
          "color": "#00CC00",
          "width": 4
         },
         "mode": "lines",
         "name": "Caméra 2 Axe Y",
         "scene": "scene",
         "showlegend": false,
         "type": "scatter3d",
         "x": [
          1,
          1
         ],
         "y": [
          2,
          2.2598076211353315
         ],
         "z": [
          2,
          2.15
         ]
        },
        {
         "color": "red",
         "flatshading": true,
         "i": [
          0,
          0
         ],
         "j": [
          1,
          2
         ],
         "k": [
          2,
          3
         ],
         "name": "Caméra 2 Plan image",
         "opacity": 0.15,
         "scene": "scene",
         "showlegend": true,
         "type": "mesh3d",
         "x": [
          0.19999999999999996,
          1.8,
          1.8,
          0.19999999999999996
         ],
         "y": [
          0.9803847577293368,
          0.9803847577293368,
          2.019615242270663,
          2.019615242270663
         ],
         "z": [
          2.566025403784439,
          2.566025403784439,
          3.1660254037844386,
          3.1660254037844386
         ]
        },
        {
         "line": {
          "color": "red",
          "dash": "dash",
          "width": 2
         },
         "mode": "lines",
         "name": "Caméra 2 Axe optique",
         "scene": "scene",
         "showlegend": false,
         "type": "scatter3d",
         "x": [
          1,
          1
         ],
         "y": [
          2,
          1.5
         ],
         "z": [
          2,
          2.866025403784439
         ]
        },
        {
         "line": {
          "color": "black",
          "dash": "dash",
          "width": 2
         },
         "mode": "lines",
         "name": "Hiérarchie",
         "scene": "scene",
         "showlegend": false,
         "type": "scatter3d",
         "x": [
          0,
          0.9
         ],
         "y": [
          0,
          0.9
         ],
         "z": [
          0,
          0.9
         ]
        },
        {
         "line": {
          "color": "black",
          "width": 4
         },
         "mode": "lines",
         "name": "Tête flèche",
         "scene": "scene",
         "showlegend": false,
         "type": "scatter3d",
         "x": [
          0.9,
          1
         ],
         "y": [
          0.9,
          1
         ],
         "z": [
          0.9,
          1
         ]
        },
        {
         "line": {
          "color": "black",
          "dash": "dash",
          "width": 2
         },
         "mode": "lines",
         "name": "Hiérarchie",
         "scene": "scene",
         "showlegend": false,
         "type": "scatter3d",
         "x": [
          1,
          1
         ],
         "y": [
          1,
          1.9
         ],
         "z": [
          1,
          1.9
         ]
        },
        {
         "line": {
          "color": "black",
          "width": 4
         },
         "mode": "lines",
         "name": "Tête flèche",
         "scene": "scene",
         "showlegend": false,
         "type": "scatter3d",
         "x": [
          1,
          1
         ],
         "y": [
          1.9,
          2
         ],
         "z": [
          1.9,
          2
         ]
        }
       ],
       "layout": {
        "annotations": [
         {
          "font": {
           "size": 16
          },
          "showarrow": false,
          "text": "Scène 3D",
          "x": 0.5,
          "xanchor": "center",
          "xref": "paper",
          "y": 1,
          "yanchor": "bottom",
          "yref": "paper"
         },
         {
          "font": {
           "size": 16
          },
          "showarrow": false,
          "text": "Vue Caméra 1",
          "x": 0.225,
          "xanchor": "center",
          "xref": "paper",
          "y": 0.45,
          "yanchor": "bottom",
          "yref": "paper"
         },
         {
          "font": {
           "size": 16
          },
          "showarrow": false,
          "text": "Vue Caméra 2",
          "x": 0.775,
          "xanchor": "center",
          "xref": "paper",
          "y": 0.45,
          "yanchor": "bottom",
          "yref": "paper"
         }
        ],
        "height": 900,
        "scene": {
         "aspectmode": "manual",
         "aspectratio": {
          "x": 1,
          "y": 1,
          "z": 1
         },
         "domain": {
          "x": [
           0,
           1
          ],
          "y": [
           0.55,
           1
          ]
         },
         "xaxis": {
          "backgroundcolor": "rgb(230, 230, 230)",
          "gridcolor": "white",
          "range": [
           -1,
           2.8
          ],
          "title": {
           "text": "X"
          }
         },
         "yaxis": {
          "backgroundcolor": "rgb(230, 230, 230)",
          "gridcolor": "white",
          "range": [
           -1,
           3.019615242270663
          ],
          "title": {
           "text": "Y"
          }
         },
         "zaxis": {
          "backgroundcolor": "rgb(230, 230, 230)",
          "gridcolor": "white",
          "range": [
           -1,
           4.166025403784438
          ],
          "title": {
           "text": "Z"
          }
         }
        },
        "shapes": [
         {
          "fillcolor": "rgba(255, 255, 255, 0.0)",
          "line": {
           "color": "black",
           "width": 2
          },
          "type": "rect",
          "x0": -0.8,
          "x1": 0.8,
          "xref": "x",
          "y0": -0.6,
          "y1": 0.6,
          "yref": "y"
         },
         {
          "line": {
           "color": "gray",
           "dash": "dash",
           "width": 1
          },
          "type": "line",
          "x0": -0.8,
          "x1": 0.8,
          "xref": "x",
          "y0": 0,
          "y1": 0,
          "yref": "y"
         },
         {
          "line": {
           "color": "gray",
           "dash": "dash",
           "width": 1
          },
          "type": "line",
          "x0": 0,
          "x1": 0,
          "xref": "x",
          "y0": -0.6,
          "y1": 0.6,
          "yref": "y"
         },
         {
          "fillcolor": "rgba(255, 255, 255, 0.0)",
          "line": {
           "color": "black",
           "width": 2
          },
          "type": "rect",
          "x0": -0.8,
          "x1": 0.8,
          "xref": "x2",
          "y0": -0.6,
          "y1": 0.6,
          "yref": "y2"
         },
         {
          "line": {
           "color": "gray",
           "dash": "dash",
           "width": 1
          },
          "type": "line",
          "x0": -0.8,
          "x1": 0.8,
          "xref": "x2",
          "y0": 0,
          "y1": 0,
          "yref": "y2"
         },
         {
          "line": {
           "color": "gray",
           "dash": "dash",
           "width": 1
          },
          "type": "line",
          "x0": 0,
          "x1": 0,
          "xref": "x2",
          "y0": -0.6,
          "y1": 0.6,
          "yref": "y2"
         }
        ],
        "template": {
         "data": {
          "bar": [
           {
            "error_x": {
             "color": "#2a3f5f"
            },
            "error_y": {
             "color": "#2a3f5f"
            },
            "marker": {
             "line": {
              "color": "#E5ECF6",
              "width": 0.5
             },
             "pattern": {
              "fillmode": "overlay",
              "size": 10,
              "solidity": 0.2
             }
            },
            "type": "bar"
           }
          ],
          "barpolar": [
           {
            "marker": {
             "line": {
              "color": "#E5ECF6",
              "width": 0.5
             },
             "pattern": {
              "fillmode": "overlay",
              "size": 10,
              "solidity": 0.2
             }
            },
            "type": "barpolar"
           }
          ],
          "carpet": [
           {
            "aaxis": {
             "endlinecolor": "#2a3f5f",
             "gridcolor": "white",
             "linecolor": "white",
             "minorgridcolor": "white",
             "startlinecolor": "#2a3f5f"
            },
            "baxis": {
             "endlinecolor": "#2a3f5f",
             "gridcolor": "white",
             "linecolor": "white",
             "minorgridcolor": "white",
             "startlinecolor": "#2a3f5f"
            },
            "type": "carpet"
           }
          ],
          "choropleth": [
           {
            "colorbar": {
             "outlinewidth": 0,
             "ticks": ""
            },
            "type": "choropleth"
           }
          ],
          "contour": [
           {
            "colorbar": {
             "outlinewidth": 0,
             "ticks": ""
            },
            "colorscale": [
             [
              0,
              "#0d0887"
             ],
             [
              0.1111111111111111,
              "#46039f"
             ],
             [
              0.2222222222222222,
              "#7201a8"
             ],
             [
              0.3333333333333333,
              "#9c179e"
             ],
             [
              0.4444444444444444,
              "#bd3786"
             ],
             [
              0.5555555555555556,
              "#d8576b"
             ],
             [
              0.6666666666666666,
              "#ed7953"
             ],
             [
              0.7777777777777778,
              "#fb9f3a"
             ],
             [
              0.8888888888888888,
              "#fdca26"
             ],
             [
              1,
              "#f0f921"
             ]
            ],
            "type": "contour"
           }
          ],
          "contourcarpet": [
           {
            "colorbar": {
             "outlinewidth": 0,
             "ticks": ""
            },
            "type": "contourcarpet"
           }
          ],
          "heatmap": [
           {
            "colorbar": {
             "outlinewidth": 0,
             "ticks": ""
            },
            "colorscale": [
             [
              0,
              "#0d0887"
             ],
             [
              0.1111111111111111,
              "#46039f"
             ],
             [
              0.2222222222222222,
              "#7201a8"
             ],
             [
              0.3333333333333333,
              "#9c179e"
             ],
             [
              0.4444444444444444,
              "#bd3786"
             ],
             [
              0.5555555555555556,
              "#d8576b"
             ],
             [
              0.6666666666666666,
              "#ed7953"
             ],
             [
              0.7777777777777778,
              "#fb9f3a"
             ],
             [
              0.8888888888888888,
              "#fdca26"
             ],
             [
              1,
              "#f0f921"
             ]
            ],
            "type": "heatmap"
           }
          ],
          "histogram": [
           {
            "marker": {
             "pattern": {
              "fillmode": "overlay",
              "size": 10,
              "solidity": 0.2
             }
            },
            "type": "histogram"
           }
          ],
          "histogram2d": [
           {
            "colorbar": {
             "outlinewidth": 0,
             "ticks": ""
            },
            "colorscale": [
             [
              0,
              "#0d0887"
             ],
             [
              0.1111111111111111,
              "#46039f"
             ],
             [
              0.2222222222222222,
              "#7201a8"
             ],
             [
              0.3333333333333333,
              "#9c179e"
             ],
             [
              0.4444444444444444,
              "#bd3786"
             ],
             [
              0.5555555555555556,
              "#d8576b"
             ],
             [
              0.6666666666666666,
              "#ed7953"
             ],
             [
              0.7777777777777778,
              "#fb9f3a"
             ],
             [
              0.8888888888888888,
              "#fdca26"
             ],
             [
              1,
              "#f0f921"
             ]
            ],
            "type": "histogram2d"
           }
          ],
          "histogram2dcontour": [
           {
            "colorbar": {
             "outlinewidth": 0,
             "ticks": ""
            },
            "colorscale": [
             [
              0,
              "#0d0887"
             ],
             [
              0.1111111111111111,
              "#46039f"
             ],
             [
              0.2222222222222222,
              "#7201a8"
             ],
             [
              0.3333333333333333,
              "#9c179e"
             ],
             [
              0.4444444444444444,
              "#bd3786"
             ],
             [
              0.5555555555555556,
              "#d8576b"
             ],
             [
              0.6666666666666666,
              "#ed7953"
             ],
             [
              0.7777777777777778,
              "#fb9f3a"
             ],
             [
              0.8888888888888888,
              "#fdca26"
             ],
             [
              1,
              "#f0f921"
             ]
            ],
            "type": "histogram2dcontour"
           }
          ],
          "mesh3d": [
           {
            "colorbar": {
             "outlinewidth": 0,
             "ticks": ""
            },
            "type": "mesh3d"
           }
          ],
          "parcoords": [
           {
            "line": {
             "colorbar": {
              "outlinewidth": 0,
              "ticks": ""
             }
            },
            "type": "parcoords"
           }
          ],
          "pie": [
           {
            "automargin": true,
            "type": "pie"
           }
          ],
          "scatter": [
           {
            "fillpattern": {
             "fillmode": "overlay",
             "size": 10,
             "solidity": 0.2
            },
            "type": "scatter"
           }
          ],
          "scatter3d": [
           {
            "line": {
             "colorbar": {
              "outlinewidth": 0,
              "ticks": ""
             }
            },
            "marker": {
             "colorbar": {
              "outlinewidth": 0,
              "ticks": ""
             }
            },
            "type": "scatter3d"
           }
          ],
          "scattercarpet": [
           {
            "marker": {
             "colorbar": {
              "outlinewidth": 0,
              "ticks": ""
             }
            },
            "type": "scattercarpet"
           }
          ],
          "scattergeo": [
           {
            "marker": {
             "colorbar": {
              "outlinewidth": 0,
              "ticks": ""
             }
            },
            "type": "scattergeo"
           }
          ],
          "scattergl": [
           {
            "marker": {
             "colorbar": {
              "outlinewidth": 0,
              "ticks": ""
             }
            },
            "type": "scattergl"
           }
          ],
          "scattermap": [
           {
            "marker": {
             "colorbar": {
              "outlinewidth": 0,
              "ticks": ""
             }
            },
            "type": "scattermap"
           }
          ],
          "scattermapbox": [
           {
            "marker": {
             "colorbar": {
              "outlinewidth": 0,
              "ticks": ""
             }
            },
            "type": "scattermapbox"
           }
          ],
          "scatterpolar": [
           {
            "marker": {
             "colorbar": {
              "outlinewidth": 0,
              "ticks": ""
             }
            },
            "type": "scatterpolar"
           }
          ],
          "scatterpolargl": [
           {
            "marker": {
             "colorbar": {
              "outlinewidth": 0,
              "ticks": ""
             }
            },
            "type": "scatterpolargl"
           }
          ],
          "scatterternary": [
           {
            "marker": {
             "colorbar": {
              "outlinewidth": 0,
              "ticks": ""
             }
            },
            "type": "scatterternary"
           }
          ],
          "surface": [
           {
            "colorbar": {
             "outlinewidth": 0,
             "ticks": ""
            },
            "colorscale": [
             [
              0,
              "#0d0887"
             ],
             [
              0.1111111111111111,
              "#46039f"
             ],
             [
              0.2222222222222222,
              "#7201a8"
             ],
             [
              0.3333333333333333,
              "#9c179e"
             ],
             [
              0.4444444444444444,
              "#bd3786"
             ],
             [
              0.5555555555555556,
              "#d8576b"
             ],
             [
              0.6666666666666666,
              "#ed7953"
             ],
             [
              0.7777777777777778,
              "#fb9f3a"
             ],
             [
              0.8888888888888888,
              "#fdca26"
             ],
             [
              1,
              "#f0f921"
             ]
            ],
            "type": "surface"
           }
          ],
          "table": [
           {
            "cells": {
             "fill": {
              "color": "#EBF0F8"
             },
             "line": {
              "color": "white"
             }
            },
            "header": {
             "fill": {
              "color": "#C8D4E3"
             },
             "line": {
              "color": "white"
             }
            },
            "type": "table"
           }
          ]
         },
         "layout": {
          "annotationdefaults": {
           "arrowcolor": "#2a3f5f",
           "arrowhead": 0,
           "arrowwidth": 1
          },
          "autotypenumbers": "strict",
          "coloraxis": {
           "colorbar": {
            "outlinewidth": 0,
            "ticks": ""
           }
          },
          "colorscale": {
           "diverging": [
            [
             0,
             "#8e0152"
            ],
            [
             0.1,
             "#c51b7d"
            ],
            [
             0.2,
             "#de77ae"
            ],
            [
             0.3,
             "#f1b6da"
            ],
            [
             0.4,
             "#fde0ef"
            ],
            [
             0.5,
             "#f7f7f7"
            ],
            [
             0.6,
             "#e6f5d0"
            ],
            [
             0.7,
             "#b8e186"
            ],
            [
             0.8,
             "#7fbc41"
            ],
            [
             0.9,
             "#4d9221"
            ],
            [
             1,
             "#276419"
            ]
           ],
           "sequential": [
            [
             0,
             "#0d0887"
            ],
            [
             0.1111111111111111,
             "#46039f"
            ],
            [
             0.2222222222222222,
             "#7201a8"
            ],
            [
             0.3333333333333333,
             "#9c179e"
            ],
            [
             0.4444444444444444,
             "#bd3786"
            ],
            [
             0.5555555555555556,
             "#d8576b"
            ],
            [
             0.6666666666666666,
             "#ed7953"
            ],
            [
             0.7777777777777778,
             "#fb9f3a"
            ],
            [
             0.8888888888888888,
             "#fdca26"
            ],
            [
             1,
             "#f0f921"
            ]
           ],
           "sequentialminus": [
            [
             0,
             "#0d0887"
            ],
            [
             0.1111111111111111,
             "#46039f"
            ],
            [
             0.2222222222222222,
             "#7201a8"
            ],
            [
             0.3333333333333333,
             "#9c179e"
            ],
            [
             0.4444444444444444,
             "#bd3786"
            ],
            [
             0.5555555555555556,
             "#d8576b"
            ],
            [
             0.6666666666666666,
             "#ed7953"
            ],
            [
             0.7777777777777778,
             "#fb9f3a"
            ],
            [
             0.8888888888888888,
             "#fdca26"
            ],
            [
             1,
             "#f0f921"
            ]
           ]
          },
          "colorway": [
           "#636efa",
           "#EF553B",
           "#00cc96",
           "#ab63fa",
           "#FFA15A",
           "#19d3f3",
           "#FF6692",
           "#B6E880",
           "#FF97FF",
           "#FECB52"
          ],
          "font": {
           "color": "#2a3f5f"
          },
          "geo": {
           "bgcolor": "white",
           "lakecolor": "white",
           "landcolor": "#E5ECF6",
           "showlakes": true,
           "showland": true,
           "subunitcolor": "white"
          },
          "hoverlabel": {
           "align": "left"
          },
          "hovermode": "closest",
          "mapbox": {
           "style": "light"
          },
          "paper_bgcolor": "white",
          "plot_bgcolor": "#E5ECF6",
          "polar": {
           "angularaxis": {
            "gridcolor": "white",
            "linecolor": "white",
            "ticks": ""
           },
           "bgcolor": "#E5ECF6",
           "radialaxis": {
            "gridcolor": "white",
            "linecolor": "white",
            "ticks": ""
           }
          },
          "scene": {
           "xaxis": {
            "backgroundcolor": "#E5ECF6",
            "gridcolor": "white",
            "gridwidth": 2,
            "linecolor": "white",
            "showbackground": true,
            "ticks": "",
            "zerolinecolor": "white"
           },
           "yaxis": {
            "backgroundcolor": "#E5ECF6",
            "gridcolor": "white",
            "gridwidth": 2,
            "linecolor": "white",
            "showbackground": true,
            "ticks": "",
            "zerolinecolor": "white"
           },
           "zaxis": {
            "backgroundcolor": "#E5ECF6",
            "gridcolor": "white",
            "gridwidth": 2,
            "linecolor": "white",
            "showbackground": true,
            "ticks": "",
            "zerolinecolor": "white"
           }
          },
          "shapedefaults": {
           "line": {
            "color": "#2a3f5f"
           }
          },
          "ternary": {
           "aaxis": {
            "gridcolor": "white",
            "linecolor": "white",
            "ticks": ""
           },
           "baxis": {
            "gridcolor": "white",
            "linecolor": "white",
            "ticks": ""
           },
           "bgcolor": "#E5ECF6",
           "caxis": {
            "gridcolor": "white",
            "linecolor": "white",
            "ticks": ""
           }
          },
          "title": {
           "x": 0.05
          },
          "xaxis": {
           "automargin": true,
           "gridcolor": "white",
           "linecolor": "white",
           "ticks": "",
           "title": {
            "standoff": 15
           },
           "zerolinecolor": "white",
           "zerolinewidth": 2
          },
          "yaxis": {
           "automargin": true,
           "gridcolor": "white",
           "linecolor": "white",
           "ticks": "",
           "title": {
            "standoff": 15
           },
           "zerolinecolor": "white",
           "zerolinewidth": 2
          }
         }
        },
        "title": {
         "text": "Deux caméras"
        },
        "xaxis": {
         "anchor": "y",
         "domain": [
          0,
          0.45
         ],
         "gridcolor": "lightgray",
         "range": [
          -0.96,
          0.96
         ],
         "title": {
          "text": "u (horizontal)"
         },
         "zeroline": true,
         "zerolinecolor": "black"
        },
        "xaxis2": {
         "anchor": "y2",
         "domain": [
          0.55,
          1
         ],
         "gridcolor": "lightgray",
         "range": [
          -0.96,
          0.96
         ],
         "title": {
          "text": "u (horizontal)"
         },
         "zeroline": true,
         "zerolinecolor": "black"
        },
        "yaxis": {
         "anchor": "x",
         "domain": [
          0,
          0.45
         ],
         "gridcolor": "lightgray",
         "range": [
          -0.72,
          0.72
         ],
         "scaleanchor": "x",
         "scaleratio": 1,
         "title": {
          "text": "v (vertical)"
         },
         "zeroline": true,
         "zerolinecolor": "black"
        },
        "yaxis2": {
         "anchor": "x2",
         "domain": [
          0,
          0.45
         ],
         "gridcolor": "lightgray",
         "range": [
          -0.72,
          0.72
         ],
         "scaleanchor": "x",
         "scaleratio": 1,
         "title": {
          "text": "v (vertical)"
         },
         "zeroline": true,
         "zerolinecolor": "black"
        }
       }
      }
     },
     "metadata": {},
     "output_type": "display_data"
    }
   ],
   "source": [
    "# Importer les classes nécessaires\n",
    "from plotcv2.world import World\n",
    "from plotcv2.objects import Camera\n",
    "\n",
    "# Créer un nouveau monde\n",
    "world = World()\n",
    "\n",
    "# Ajouter la première caméra en position (1,1,1)\n",
    "cam1 = world.add_object(Camera(\n",
    "    rotation=(0, 0, 0),      # Pas de rotation\n",
    "    translation=(1, 1, 1),   # Position (1,1,1)\n",
    "    focal_length=1.0,        # Distance focale (valeur unique)\n",
    "    name=\"Caméra 1\"\n",
    "))\n",
    "\n",
    "# Ajouter la seconde caméra, définie par rapport à la première\n",
    "# Position (0,0,1) dans le repère de la caméra 1\n",
    "cam2 = world.add_object(Camera(\n",
    "    rotation=(30, 0, 0),      # Pas de rotation\n",
    "    translation=(0, 1, 1),   # Position relative à cam1\n",
    "    focal_length=1.0,        # Distance focale\n",
    "    name=\"Caméra 2\",\n",
    "    color='red',              # La caméra 1 est le repère parent\n",
    "    parent=cam1               # Caméra 2 est définie par rapport à cam1\n",
    "))\n",
    "\n",
    "# Visualiser la scène avec les caméras\n",
    "fig = world.visualize(figure_title=\"Deux caméras\")\n",
    "fig.show()"
   ]
  },
  {
   "cell_type": "code",
   "execution_count": 23,
   "id": "29aca37a",
   "metadata": {},
   "outputs": [
    {
     "data": {
      "application/vnd.plotly.v1+json": {
       "config": {
        "plotlyServerURL": "https://plot.ly"
       },
       "data": [
        {
         "marker": {
          "color": "black",
          "size": 8,
          "symbol": "circle"
         },
         "mode": "markers",
         "name": "Origine",
         "scene": "scene",
         "showlegend": true,
         "type": "scatter3d",
         "x": [
          0
         ],
         "y": [
          0
         ],
         "z": [
          0
         ]
        },
        {
         "line": {
          "color": "red",
          "width": 8
         },
         "mode": "lines",
         "name": "Axe X monde",
         "scene": "scene",
         "type": "scatter3d",
         "x": [
          0,
          2
         ],
         "y": [
          0,
          0
         ],
         "z": [
          0,
          0
         ]
        },
        {
         "line": {
          "color": "green",
          "width": 8
         },
         "mode": "lines",
         "name": "Axe Y monde",
         "scene": "scene",
         "type": "scatter3d",
         "x": [
          0,
          0
         ],
         "y": [
          0,
          2
         ],
         "z": [
          0,
          0
         ]
        },
        {
         "line": {
          "color": "blue",
          "width": 8
         },
         "mode": "lines",
         "name": "Axe Z monde",
         "scene": "scene",
         "type": "scatter3d",
         "x": [
          0,
          0
         ],
         "y": [
          0,
          0
         ],
         "z": [
          0,
          2
         ]
        },
        {
         "marker": {
          "color": "purple",
          "size": 8,
          "symbol": "circle"
         },
         "mode": "markers",
         "name": "Point XYZ",
         "scene": "scene",
         "showlegend": true,
         "type": "scatter3d",
         "x": [
          1
         ],
         "y": [
          1
         ],
         "z": [
          5
         ]
        },
        {
         "marker": {
          "color": "blue",
          "size": 5,
          "symbol": "diamond"
         },
         "mode": "markers",
         "name": "Caméra 1 Origine",
         "scene": "scene",
         "showlegend": true,
         "type": "scatter3d",
         "x": [
          1
         ],
         "y": [
          1
         ],
         "z": [
          1
         ]
        },
        {
         "line": {
          "color": "blue",
          "width": 4
         },
         "mode": "lines",
         "name": "Caméra 1 Axe Z",
         "scene": "scene",
         "showlegend": false,
         "type": "scatter3d",
         "x": [
          1,
          1
         ],
         "y": [
          1,
          1
         ],
         "z": [
          1,
          1.3
         ]
        },
        {
         "line": {
          "color": "red",
          "width": 4
         },
         "mode": "lines",
         "name": "Caméra 1 Axe X",
         "scene": "scene",
         "showlegend": false,
         "type": "scatter3d",
         "x": [
          1,
          1.3
         ],
         "y": [
          1,
          1
         ],
         "z": [
          1,
          1
         ]
        },
        {
         "line": {
          "color": "#00CC00",
          "width": 4
         },
         "mode": "lines",
         "name": "Caméra 1 Axe Y",
         "scene": "scene",
         "showlegend": false,
         "type": "scatter3d",
         "x": [
          1,
          1
         ],
         "y": [
          1,
          1.3
         ],
         "z": [
          1,
          1
         ]
        },
        {
         "color": "blue",
         "flatshading": true,
         "i": [
          0,
          0
         ],
         "j": [
          1,
          2
         ],
         "k": [
          2,
          3
         ],
         "name": "Caméra 1 Plan image",
         "opacity": 0.15,
         "scene": "scene",
         "showlegend": true,
         "type": "mesh3d",
         "x": [
          0.19999999999999996,
          1.8,
          1.8,
          0.19999999999999996
         ],
         "y": [
          0.4,
          0.4,
          1.6,
          1.6
         ],
         "z": [
          2,
          2,
          2,
          2
         ]
        },
        {
         "line": {
          "color": "blue",
          "dash": "dash",
          "width": 2
         },
         "mode": "lines",
         "name": "Caméra 1 Axe optique",
         "scene": "scene",
         "showlegend": false,
         "type": "scatter3d",
         "x": [
          1,
          1
         ],
         "y": [
          1,
          1
         ],
         "z": [
          1,
          2
         ]
        },
        {
         "marker": {
          "color": "blue",
          "size": 5,
          "symbol": "diamond"
         },
         "mode": "markers",
         "name": "Caméra 2 Origine",
         "scene": "scene",
         "showlegend": true,
         "type": "scatter3d",
         "x": [
          3
         ],
         "y": [
          1
         ],
         "z": [
          2
         ]
        },
        {
         "line": {
          "color": "blue",
          "width": 4
         },
         "mode": "lines",
         "name": "Caméra 2 Axe Z",
         "scene": "scene",
         "showlegend": false,
         "type": "scatter3d",
         "x": [
          3,
          3
         ],
         "y": [
          1,
          1
         ],
         "z": [
          2,
          2.3
         ]
        },
        {
         "line": {
          "color": "red",
          "width": 4
         },
         "mode": "lines",
         "name": "Caméra 2 Axe X",
         "scene": "scene",
         "showlegend": false,
         "type": "scatter3d",
         "x": [
          3,
          3.3
         ],
         "y": [
          1,
          1
         ],
         "z": [
          2,
          2
         ]
        },
        {
         "line": {
          "color": "#00CC00",
          "width": 4
         },
         "mode": "lines",
         "name": "Caméra 2 Axe Y",
         "scene": "scene",
         "showlegend": false,
         "type": "scatter3d",
         "x": [
          3,
          3
         ],
         "y": [
          1,
          1.3
         ],
         "z": [
          2,
          2
         ]
        },
        {
         "color": "blue",
         "flatshading": true,
         "i": [
          0,
          0
         ],
         "j": [
          1,
          2
         ],
         "k": [
          2,
          3
         ],
         "name": "Caméra 2 Plan image",
         "opacity": 0.15,
         "scene": "scene",
         "showlegend": true,
         "type": "mesh3d",
         "x": [
          2.2,
          3.8,
          3.8,
          2.2
         ],
         "y": [
          0.4,
          0.4,
          1.6,
          1.6
         ],
         "z": [
          3,
          3,
          3,
          3
         ]
        },
        {
         "line": {
          "color": "blue",
          "dash": "dash",
          "width": 2
         },
         "mode": "lines",
         "name": "Caméra 2 Axe optique",
         "scene": "scene",
         "showlegend": false,
         "type": "scatter3d",
         "x": [
          3,
          3
         ],
         "y": [
          1,
          1
         ],
         "z": [
          2,
          3
         ]
        },
        {
         "line": {
          "color": "black",
          "dash": "dash",
          "width": 2
         },
         "mode": "lines",
         "name": "Hiérarchie",
         "scene": "scene",
         "showlegend": false,
         "type": "scatter3d",
         "x": [
          0,
          0.9
         ],
         "y": [
          0,
          0.9
         ],
         "z": [
          0,
          0.9
         ]
        },
        {
         "line": {
          "color": "black",
          "width": 4
         },
         "mode": "lines",
         "name": "Tête flèche",
         "scene": "scene",
         "showlegend": false,
         "type": "scatter3d",
         "x": [
          0.9,
          1
         ],
         "y": [
          0.9,
          1
         ],
         "z": [
          0.9,
          1
         ]
        },
        {
         "line": {
          "color": "black",
          "dash": "dash",
          "width": 2
         },
         "mode": "lines",
         "name": "Hiérarchie",
         "scene": "scene",
         "showlegend": false,
         "type": "scatter3d",
         "x": [
          1,
          2.8
         ],
         "y": [
          1,
          1
         ],
         "z": [
          1,
          1.9
         ]
        },
        {
         "line": {
          "color": "black",
          "width": 4
         },
         "mode": "lines",
         "name": "Tête flèche",
         "scene": "scene",
         "showlegend": false,
         "type": "scatter3d",
         "x": [
          2.8,
          3
         ],
         "y": [
          1,
          1
         ],
         "z": [
          1.9,
          2
         ]
        },
        {
         "line": {
          "color": "black",
          "dash": "dash",
          "width": 2
         },
         "mode": "lines",
         "name": "Caméra 1 -> Point XYZ",
         "scene": "scene",
         "showlegend": false,
         "type": "scatter3d",
         "x": [
          1,
          1
         ],
         "y": [
          1,
          1
         ],
         "z": [
          1,
          5
         ]
        },
        {
         "mode": "text",
         "name": "Caméra 1 -> Point XYZ coords",
         "scene": "scene",
         "showlegend": false,
         "text": [
          "(0.00, 0.00, 4.00)"
         ],
         "textposition": "middle center",
         "type": "scatter3d",
         "x": [
          1
         ],
         "y": [
          1
         ],
         "z": [
          3
         ]
        },
        {
         "line": {
          "color": "black",
          "dash": "dash",
          "width": 2
         },
         "mode": "lines",
         "name": "Caméra 2 -> Point XYZ",
         "scene": "scene",
         "showlegend": false,
         "type": "scatter3d",
         "x": [
          3,
          1
         ],
         "y": [
          1,
          1
         ],
         "z": [
          2,
          5
         ]
        },
        {
         "mode": "text",
         "name": "Caméra 2 -> Point XYZ coords",
         "scene": "scene",
         "showlegend": false,
         "text": [
          "(-2.00, 0.00, 3.00)"
         ],
         "textposition": "middle center",
         "type": "scatter3d",
         "x": [
          2
         ],
         "y": [
          1
         ],
         "z": [
          3.5
         ]
        },
        {
         "marker": {
          "color": "purple",
          "size": 5,
          "symbol": "x"
         },
         "mode": "markers",
         "name": "Point XYZ (Caméra 1)",
         "scene": "scene",
         "showlegend": true,
         "type": "scatter3d",
         "x": [
          1
         ],
         "y": [
          1
         ],
         "z": [
          2
         ]
        },
        {
         "line": {
          "color": "purple",
          "dash": "dash",
          "width": 2
         },
         "mode": "lines",
         "name": "Point XYZ (Caméra 1) Rayon",
         "scene": "scene",
         "showlegend": false,
         "type": "scatter3d",
         "x": [
          1,
          1
         ],
         "y": [
          1,
          1
         ],
         "z": [
          1,
          5
         ]
        },
        {
         "marker": {
          "color": "purple",
          "size": 5,
          "symbol": "x"
         },
         "mode": "markers",
         "name": "Point XYZ (Caméra 2)",
         "scene": "scene",
         "showlegend": true,
         "type": "scatter3d",
         "x": [
          2.3333333333333335
         ],
         "y": [
          1
         ],
         "z": [
          3
         ]
        },
        {
         "line": {
          "color": "purple",
          "dash": "dash",
          "width": 2
         },
         "mode": "lines",
         "name": "Point XYZ (Caméra 2) Rayon",
         "scene": "scene",
         "showlegend": false,
         "type": "scatter3d",
         "x": [
          3,
          1
         ],
         "y": [
          1,
          1
         ],
         "z": [
          2,
          5
         ]
        },
        {
         "marker": {
          "color": "purple",
          "size": 10,
          "symbol": "x"
         },
         "mode": "markers+text",
         "name": "Point XYZ",
         "showlegend": false,
         "text": [
          "(0.00, 0.00)"
         ],
         "textposition": "top center",
         "type": "scatter",
         "x": [
          0
         ],
         "xaxis": "x",
         "y": [
          0
         ],
         "yaxis": "y"
        },
        {
         "marker": {
          "color": "purple",
          "size": 10,
          "symbol": "x"
         },
         "mode": "markers+text",
         "name": "Point XYZ",
         "showlegend": false,
         "text": [
          "(-0.67, 0.00)"
         ],
         "textposition": "top center",
         "type": "scatter",
         "x": [
          -0.6666666666666665
         ],
         "xaxis": "x2",
         "y": [
          0
         ],
         "yaxis": "y2"
        }
       ],
       "layout": {
        "annotations": [
         {
          "font": {
           "size": 16
          },
          "showarrow": false,
          "text": "Scène 3D",
          "x": 0.5,
          "xanchor": "center",
          "xref": "paper",
          "y": 1,
          "yanchor": "bottom",
          "yref": "paper"
         },
         {
          "font": {
           "size": 16
          },
          "showarrow": false,
          "text": "Vue Caméra 1",
          "x": 0.225,
          "xanchor": "center",
          "xref": "paper",
          "y": 0.45,
          "yanchor": "bottom",
          "yref": "paper"
         },
         {
          "font": {
           "size": 16
          },
          "showarrow": false,
          "text": "Vue Caméra 2",
          "x": 0.775,
          "xanchor": "center",
          "xref": "paper",
          "y": 0.45,
          "yanchor": "bottom",
          "yref": "paper"
         }
        ],
        "height": 900,
        "scene": {
         "aspectmode": "manual",
         "aspectratio": {
          "x": 1,
          "y": 1,
          "z": 1
         },
         "domain": {
          "x": [
           0,
           1
          ],
          "y": [
           0.55,
           1
          ]
         },
         "xaxis": {
          "backgroundcolor": "rgb(230, 230, 230)",
          "gridcolor": "white",
          "range": [
           -1,
           4.8
          ],
          "title": {
           "text": "X"
          }
         },
         "yaxis": {
          "backgroundcolor": "rgb(230, 230, 230)",
          "gridcolor": "white",
          "range": [
           -1,
           2.6
          ],
          "title": {
           "text": "Y"
          }
         },
         "zaxis": {
          "backgroundcolor": "rgb(230, 230, 230)",
          "gridcolor": "white",
          "range": [
           -1,
           6
          ],
          "title": {
           "text": "Z"
          }
         }
        },
        "shapes": [
         {
          "fillcolor": "rgba(255, 255, 255, 0.0)",
          "line": {
           "color": "black",
           "width": 2
          },
          "type": "rect",
          "x0": -0.8,
          "x1": 0.8,
          "xref": "x",
          "y0": -0.6,
          "y1": 0.6,
          "yref": "y"
         },
         {
          "line": {
           "color": "gray",
           "dash": "dash",
           "width": 1
          },
          "type": "line",
          "x0": -0.8,
          "x1": 0.8,
          "xref": "x",
          "y0": 0,
          "y1": 0,
          "yref": "y"
         },
         {
          "line": {
           "color": "gray",
           "dash": "dash",
           "width": 1
          },
          "type": "line",
          "x0": 0,
          "x1": 0,
          "xref": "x",
          "y0": -0.6,
          "y1": 0.6,
          "yref": "y"
         },
         {
          "fillcolor": "rgba(255, 255, 255, 0.0)",
          "line": {
           "color": "black",
           "width": 2
          },
          "type": "rect",
          "x0": -0.8,
          "x1": 0.8,
          "xref": "x2",
          "y0": -0.6,
          "y1": 0.6,
          "yref": "y2"
         },
         {
          "line": {
           "color": "gray",
           "dash": "dash",
           "width": 1
          },
          "type": "line",
          "x0": -0.8,
          "x1": 0.8,
          "xref": "x2",
          "y0": 0,
          "y1": 0,
          "yref": "y2"
         },
         {
          "line": {
           "color": "gray",
           "dash": "dash",
           "width": 1
          },
          "type": "line",
          "x0": 0,
          "x1": 0,
          "xref": "x2",
          "y0": -0.6,
          "y1": 0.6,
          "yref": "y2"
         }
        ],
        "template": {
         "data": {
          "bar": [
           {
            "error_x": {
             "color": "#2a3f5f"
            },
            "error_y": {
             "color": "#2a3f5f"
            },
            "marker": {
             "line": {
              "color": "#E5ECF6",
              "width": 0.5
             },
             "pattern": {
              "fillmode": "overlay",
              "size": 10,
              "solidity": 0.2
             }
            },
            "type": "bar"
           }
          ],
          "barpolar": [
           {
            "marker": {
             "line": {
              "color": "#E5ECF6",
              "width": 0.5
             },
             "pattern": {
              "fillmode": "overlay",
              "size": 10,
              "solidity": 0.2
             }
            },
            "type": "barpolar"
           }
          ],
          "carpet": [
           {
            "aaxis": {
             "endlinecolor": "#2a3f5f",
             "gridcolor": "white",
             "linecolor": "white",
             "minorgridcolor": "white",
             "startlinecolor": "#2a3f5f"
            },
            "baxis": {
             "endlinecolor": "#2a3f5f",
             "gridcolor": "white",
             "linecolor": "white",
             "minorgridcolor": "white",
             "startlinecolor": "#2a3f5f"
            },
            "type": "carpet"
           }
          ],
          "choropleth": [
           {
            "colorbar": {
             "outlinewidth": 0,
             "ticks": ""
            },
            "type": "choropleth"
           }
          ],
          "contour": [
           {
            "colorbar": {
             "outlinewidth": 0,
             "ticks": ""
            },
            "colorscale": [
             [
              0,
              "#0d0887"
             ],
             [
              0.1111111111111111,
              "#46039f"
             ],
             [
              0.2222222222222222,
              "#7201a8"
             ],
             [
              0.3333333333333333,
              "#9c179e"
             ],
             [
              0.4444444444444444,
              "#bd3786"
             ],
             [
              0.5555555555555556,
              "#d8576b"
             ],
             [
              0.6666666666666666,
              "#ed7953"
             ],
             [
              0.7777777777777778,
              "#fb9f3a"
             ],
             [
              0.8888888888888888,
              "#fdca26"
             ],
             [
              1,
              "#f0f921"
             ]
            ],
            "type": "contour"
           }
          ],
          "contourcarpet": [
           {
            "colorbar": {
             "outlinewidth": 0,
             "ticks": ""
            },
            "type": "contourcarpet"
           }
          ],
          "heatmap": [
           {
            "colorbar": {
             "outlinewidth": 0,
             "ticks": ""
            },
            "colorscale": [
             [
              0,
              "#0d0887"
             ],
             [
              0.1111111111111111,
              "#46039f"
             ],
             [
              0.2222222222222222,
              "#7201a8"
             ],
             [
              0.3333333333333333,
              "#9c179e"
             ],
             [
              0.4444444444444444,
              "#bd3786"
             ],
             [
              0.5555555555555556,
              "#d8576b"
             ],
             [
              0.6666666666666666,
              "#ed7953"
             ],
             [
              0.7777777777777778,
              "#fb9f3a"
             ],
             [
              0.8888888888888888,
              "#fdca26"
             ],
             [
              1,
              "#f0f921"
             ]
            ],
            "type": "heatmap"
           }
          ],
          "histogram": [
           {
            "marker": {
             "pattern": {
              "fillmode": "overlay",
              "size": 10,
              "solidity": 0.2
             }
            },
            "type": "histogram"
           }
          ],
          "histogram2d": [
           {
            "colorbar": {
             "outlinewidth": 0,
             "ticks": ""
            },
            "colorscale": [
             [
              0,
              "#0d0887"
             ],
             [
              0.1111111111111111,
              "#46039f"
             ],
             [
              0.2222222222222222,
              "#7201a8"
             ],
             [
              0.3333333333333333,
              "#9c179e"
             ],
             [
              0.4444444444444444,
              "#bd3786"
             ],
             [
              0.5555555555555556,
              "#d8576b"
             ],
             [
              0.6666666666666666,
              "#ed7953"
             ],
             [
              0.7777777777777778,
              "#fb9f3a"
             ],
             [
              0.8888888888888888,
              "#fdca26"
             ],
             [
              1,
              "#f0f921"
             ]
            ],
            "type": "histogram2d"
           }
          ],
          "histogram2dcontour": [
           {
            "colorbar": {
             "outlinewidth": 0,
             "ticks": ""
            },
            "colorscale": [
             [
              0,
              "#0d0887"
             ],
             [
              0.1111111111111111,
              "#46039f"
             ],
             [
              0.2222222222222222,
              "#7201a8"
             ],
             [
              0.3333333333333333,
              "#9c179e"
             ],
             [
              0.4444444444444444,
              "#bd3786"
             ],
             [
              0.5555555555555556,
              "#d8576b"
             ],
             [
              0.6666666666666666,
              "#ed7953"
             ],
             [
              0.7777777777777778,
              "#fb9f3a"
             ],
             [
              0.8888888888888888,
              "#fdca26"
             ],
             [
              1,
              "#f0f921"
             ]
            ],
            "type": "histogram2dcontour"
           }
          ],
          "mesh3d": [
           {
            "colorbar": {
             "outlinewidth": 0,
             "ticks": ""
            },
            "type": "mesh3d"
           }
          ],
          "parcoords": [
           {
            "line": {
             "colorbar": {
              "outlinewidth": 0,
              "ticks": ""
             }
            },
            "type": "parcoords"
           }
          ],
          "pie": [
           {
            "automargin": true,
            "type": "pie"
           }
          ],
          "scatter": [
           {
            "fillpattern": {
             "fillmode": "overlay",
             "size": 10,
             "solidity": 0.2
            },
            "type": "scatter"
           }
          ],
          "scatter3d": [
           {
            "line": {
             "colorbar": {
              "outlinewidth": 0,
              "ticks": ""
             }
            },
            "marker": {
             "colorbar": {
              "outlinewidth": 0,
              "ticks": ""
             }
            },
            "type": "scatter3d"
           }
          ],
          "scattercarpet": [
           {
            "marker": {
             "colorbar": {
              "outlinewidth": 0,
              "ticks": ""
             }
            },
            "type": "scattercarpet"
           }
          ],
          "scattergeo": [
           {
            "marker": {
             "colorbar": {
              "outlinewidth": 0,
              "ticks": ""
             }
            },
            "type": "scattergeo"
           }
          ],
          "scattergl": [
           {
            "marker": {
             "colorbar": {
              "outlinewidth": 0,
              "ticks": ""
             }
            },
            "type": "scattergl"
           }
          ],
          "scattermap": [
           {
            "marker": {
             "colorbar": {
              "outlinewidth": 0,
              "ticks": ""
             }
            },
            "type": "scattermap"
           }
          ],
          "scattermapbox": [
           {
            "marker": {
             "colorbar": {
              "outlinewidth": 0,
              "ticks": ""
             }
            },
            "type": "scattermapbox"
           }
          ],
          "scatterpolar": [
           {
            "marker": {
             "colorbar": {
              "outlinewidth": 0,
              "ticks": ""
             }
            },
            "type": "scatterpolar"
           }
          ],
          "scatterpolargl": [
           {
            "marker": {
             "colorbar": {
              "outlinewidth": 0,
              "ticks": ""
             }
            },
            "type": "scatterpolargl"
           }
          ],
          "scatterternary": [
           {
            "marker": {
             "colorbar": {
              "outlinewidth": 0,
              "ticks": ""
             }
            },
            "type": "scatterternary"
           }
          ],
          "surface": [
           {
            "colorbar": {
             "outlinewidth": 0,
             "ticks": ""
            },
            "colorscale": [
             [
              0,
              "#0d0887"
             ],
             [
              0.1111111111111111,
              "#46039f"
             ],
             [
              0.2222222222222222,
              "#7201a8"
             ],
             [
              0.3333333333333333,
              "#9c179e"
             ],
             [
              0.4444444444444444,
              "#bd3786"
             ],
             [
              0.5555555555555556,
              "#d8576b"
             ],
             [
              0.6666666666666666,
              "#ed7953"
             ],
             [
              0.7777777777777778,
              "#fb9f3a"
             ],
             [
              0.8888888888888888,
              "#fdca26"
             ],
             [
              1,
              "#f0f921"
             ]
            ],
            "type": "surface"
           }
          ],
          "table": [
           {
            "cells": {
             "fill": {
              "color": "#EBF0F8"
             },
             "line": {
              "color": "white"
             }
            },
            "header": {
             "fill": {
              "color": "#C8D4E3"
             },
             "line": {
              "color": "white"
             }
            },
            "type": "table"
           }
          ]
         },
         "layout": {
          "annotationdefaults": {
           "arrowcolor": "#2a3f5f",
           "arrowhead": 0,
           "arrowwidth": 1
          },
          "autotypenumbers": "strict",
          "coloraxis": {
           "colorbar": {
            "outlinewidth": 0,
            "ticks": ""
           }
          },
          "colorscale": {
           "diverging": [
            [
             0,
             "#8e0152"
            ],
            [
             0.1,
             "#c51b7d"
            ],
            [
             0.2,
             "#de77ae"
            ],
            [
             0.3,
             "#f1b6da"
            ],
            [
             0.4,
             "#fde0ef"
            ],
            [
             0.5,
             "#f7f7f7"
            ],
            [
             0.6,
             "#e6f5d0"
            ],
            [
             0.7,
             "#b8e186"
            ],
            [
             0.8,
             "#7fbc41"
            ],
            [
             0.9,
             "#4d9221"
            ],
            [
             1,
             "#276419"
            ]
           ],
           "sequential": [
            [
             0,
             "#0d0887"
            ],
            [
             0.1111111111111111,
             "#46039f"
            ],
            [
             0.2222222222222222,
             "#7201a8"
            ],
            [
             0.3333333333333333,
             "#9c179e"
            ],
            [
             0.4444444444444444,
             "#bd3786"
            ],
            [
             0.5555555555555556,
             "#d8576b"
            ],
            [
             0.6666666666666666,
             "#ed7953"
            ],
            [
             0.7777777777777778,
             "#fb9f3a"
            ],
            [
             0.8888888888888888,
             "#fdca26"
            ],
            [
             1,
             "#f0f921"
            ]
           ],
           "sequentialminus": [
            [
             0,
             "#0d0887"
            ],
            [
             0.1111111111111111,
             "#46039f"
            ],
            [
             0.2222222222222222,
             "#7201a8"
            ],
            [
             0.3333333333333333,
             "#9c179e"
            ],
            [
             0.4444444444444444,
             "#bd3786"
            ],
            [
             0.5555555555555556,
             "#d8576b"
            ],
            [
             0.6666666666666666,
             "#ed7953"
            ],
            [
             0.7777777777777778,
             "#fb9f3a"
            ],
            [
             0.8888888888888888,
             "#fdca26"
            ],
            [
             1,
             "#f0f921"
            ]
           ]
          },
          "colorway": [
           "#636efa",
           "#EF553B",
           "#00cc96",
           "#ab63fa",
           "#FFA15A",
           "#19d3f3",
           "#FF6692",
           "#B6E880",
           "#FF97FF",
           "#FECB52"
          ],
          "font": {
           "color": "#2a3f5f"
          },
          "geo": {
           "bgcolor": "white",
           "lakecolor": "white",
           "landcolor": "#E5ECF6",
           "showlakes": true,
           "showland": true,
           "subunitcolor": "white"
          },
          "hoverlabel": {
           "align": "left"
          },
          "hovermode": "closest",
          "mapbox": {
           "style": "light"
          },
          "paper_bgcolor": "white",
          "plot_bgcolor": "#E5ECF6",
          "polar": {
           "angularaxis": {
            "gridcolor": "white",
            "linecolor": "white",
            "ticks": ""
           },
           "bgcolor": "#E5ECF6",
           "radialaxis": {
            "gridcolor": "white",
            "linecolor": "white",
            "ticks": ""
           }
          },
          "scene": {
           "xaxis": {
            "backgroundcolor": "#E5ECF6",
            "gridcolor": "white",
            "gridwidth": 2,
            "linecolor": "white",
            "showbackground": true,
            "ticks": "",
            "zerolinecolor": "white"
           },
           "yaxis": {
            "backgroundcolor": "#E5ECF6",
            "gridcolor": "white",
            "gridwidth": 2,
            "linecolor": "white",
            "showbackground": true,
            "ticks": "",
            "zerolinecolor": "white"
           },
           "zaxis": {
            "backgroundcolor": "#E5ECF6",
            "gridcolor": "white",
            "gridwidth": 2,
            "linecolor": "white",
            "showbackground": true,
            "ticks": "",
            "zerolinecolor": "white"
           }
          },
          "shapedefaults": {
           "line": {
            "color": "#2a3f5f"
           }
          },
          "ternary": {
           "aaxis": {
            "gridcolor": "white",
            "linecolor": "white",
            "ticks": ""
           },
           "baxis": {
            "gridcolor": "white",
            "linecolor": "white",
            "ticks": ""
           },
           "bgcolor": "#E5ECF6",
           "caxis": {
            "gridcolor": "white",
            "linecolor": "white",
            "ticks": ""
           }
          },
          "title": {
           "x": 0.05
          },
          "xaxis": {
           "automargin": true,
           "gridcolor": "white",
           "linecolor": "white",
           "ticks": "",
           "title": {
            "standoff": 15
           },
           "zerolinecolor": "white",
           "zerolinewidth": 2
          },
          "yaxis": {
           "automargin": true,
           "gridcolor": "white",
           "linecolor": "white",
           "ticks": "",
           "title": {
            "standoff": 15
           },
           "zerolinecolor": "white",
           "zerolinewidth": 2
          }
         }
        },
        "title": {
         "text": "Deux caméras avec flèches hiérarchiques"
        },
        "xaxis": {
         "anchor": "y",
         "domain": [
          0,
          0.45
         ],
         "gridcolor": "lightgray",
         "range": [
          -0.96,
          0.96
         ],
         "title": {
          "text": "u (horizontal)"
         },
         "zeroline": true,
         "zerolinecolor": "black"
        },
        "xaxis2": {
         "anchor": "y2",
         "domain": [
          0.55,
          1
         ],
         "gridcolor": "lightgray",
         "range": [
          -0.96,
          0.96
         ],
         "title": {
          "text": "u (horizontal)"
         },
         "zeroline": true,
         "zerolinecolor": "black"
        },
        "yaxis": {
         "anchor": "x",
         "domain": [
          0,
          0.45
         ],
         "gridcolor": "lightgray",
         "range": [
          -0.72,
          0.72
         ],
         "scaleanchor": "x",
         "scaleratio": 1,
         "title": {
          "text": "v (vertical)"
         },
         "zeroline": true,
         "zerolinecolor": "black"
        },
        "yaxis2": {
         "anchor": "x2",
         "domain": [
          0,
          0.45
         ],
         "gridcolor": "lightgray",
         "range": [
          -0.72,
          0.72
         ],
         "scaleanchor": "x",
         "scaleratio": 1,
         "title": {
          "text": "v (vertical)"
         },
         "zeroline": true,
         "zerolinecolor": "black"
        }
       }
      }
     },
     "metadata": {},
     "output_type": "display_data"
    }
   ],
   "source": [
    "# Importer les classes nécessaires\n",
    "from plotcv2.world import World\n",
    "from plotcv2.objects import Camera\n",
    "\n",
    "# Créer un nouveau monde\n",
    "world = World()\n",
    "\n",
    "p4 = world.add_object(Point3D([1, 1, 5], name=\"Point XYZ\", color=\"purple\"))\n",
    "\n",
    "# Ajouter la première caméra en position (1,1,1)\n",
    "# Sans parent spécifié, elle aura une flèche depuis l'origine mondiale\n",
    "cam1 = world.add_object(Camera(\n",
    "    rotation=(0, 0, 0),\n",
    "    translation=(1, 1, 1),\n",
    "    focal_length=1.0,\n",
    "    name=\"Caméra 1\"\n",
    "))\n",
    "\n",
    "# Ajouter la seconde caméra avec un parent explicite\n",
    "cam2 = world.add_object(Camera(\n",
    "    rotation=(0, 0, 0),\n",
    "    translation=(2, 0, 1),\n",
    "    focal_length=1.0,\n",
    "    name=\"Caméra 2\",\n",
    "    parent=cam1\n",
    "))\n",
    "\n",
    "# Visualiser la scène avec les caméras\n",
    "fig = world.visualize(figure_title=\"Deux caméras avec flèches hiérarchiques\")\n",
    "fig.show()"
   ]
  }
 ],
 "metadata": {
  "kernelspec": {
   "display_name": "3.10.13",
   "language": "python",
   "name": "python3"
  },
  "language_info": {
   "codemirror_mode": {
    "name": "ipython",
    "version": 3
   },
   "file_extension": ".py",
   "mimetype": "text/x-python",
   "name": "python",
   "nbconvert_exporter": "python",
   "pygments_lexer": "ipython3",
   "version": "3.10.13"
  }
 },
 "nbformat": 4,
 "nbformat_minor": 5
}
