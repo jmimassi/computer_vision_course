{
 "cells": [
  {
   "cell_type": "markdown",
   "id": "613e7016",
   "metadata": {},
   "source": [
    "# Introduction to Reference Frames in Computer Vision\n",
    "\n",
    "Simple example of a reference frame and a point in space."
   ]
  },
  {
   "cell_type": "code",
   "execution_count": 1,
   "id": "7c9e5ceb",
   "metadata": {},
   "outputs": [],
   "source": [
    "import numpy as np\n",
    "import plotly.graph_objects as go\n",
    "import math\n",
    "\n",
    "# Function to create a 2D reference frame with translation and rotation\n",
    "def create_reference_frame_2d(fig, translation=[0, 0], rotation_degrees=0, name=\"\", axis_length=1.0, show_labels=True):\n",
    "    \"\"\"\n",
    "    Add a 2D reference frame to the plotly figure\n",
    "    \n",
    "    Args:\n",
    "        fig: The plotly figure to add the frame to\n",
    "        translation: [x, y] translation of the frame\n",
    "        rotation_degrees: Rotation angle in degrees\n",
    "        name: Name prefix for this frame (for the legend)\n",
    "        axis_length: Length of the axes\n",
    "        show_labels: Whether to show X and Y labels\n",
    "        \n",
    "    Returns:\n",
    "        Updated figure\n",
    "    \"\"\"\n",
    "    # Convert rotation to radians\n",
    "    rotation_rad = math.radians(rotation_degrees)\n",
    "    \n",
    "    # Calculate the rotated X axis endpoint\n",
    "    x_endpoint = [\n",
    "        translation[0] + axis_length * math.cos(rotation_rad),\n",
    "        translation[1] + axis_length * math.sin(rotation_rad)\n",
    "    ]\n",
    "    \n",
    "    # Calculate the rotated Y axis endpoint\n",
    "    y_endpoint = [\n",
    "        translation[0] - axis_length * math.sin(rotation_rad),  # Negative because y-axis is 90° CCW from x-axis\n",
    "        translation[1] + axis_length * math.cos(rotation_rad)\n",
    "    ]\n",
    "    \n",
    "    # X axis with arrow\n",
    "    fig.add_trace(go.Scatter(\n",
    "        x=[translation[0], x_endpoint[0]], \n",
    "        y=[translation[1], x_endpoint[1]],\n",
    "        mode='lines',\n",
    "        line=dict(color='red', width=2),\n",
    "        name=f'{name}X Axis'\n",
    "    ))\n",
    "    \n",
    "    # Add arrow for X axis\n",
    "    arrow_start_x = x_endpoint[0] - 0.2 * axis_length * math.cos(rotation_rad)\n",
    "    arrow_start_y = x_endpoint[1] - 0.2 * axis_length * math.sin(rotation_rad)\n",
    "    \n",
    "    fig.add_annotation(\n",
    "        x=x_endpoint[0], \n",
    "        y=x_endpoint[1],\n",
    "        ax=arrow_start_x, \n",
    "        ay=arrow_start_y,\n",
    "        xref=\"x\", yref=\"y\",\n",
    "        axref=\"x\", ayref=\"y\",\n",
    "        showarrow=True,\n",
    "        arrowhead=2,\n",
    "        arrowsize=1.5,\n",
    "        arrowwidth=2,\n",
    "        arrowcolor='red'\n",
    "    )\n",
    "    \n",
    "    # Y axis with arrow\n",
    "    fig.add_trace(go.Scatter(\n",
    "        x=[translation[0], y_endpoint[0]], \n",
    "        y=[translation[1], y_endpoint[1]],\n",
    "        mode='lines',\n",
    "        line=dict(color='green', width=2),\n",
    "        name=f'{name}Y Axis'\n",
    "    ))\n",
    "    \n",
    "    # Add arrow for Y axis\n",
    "    arrow_start_x = y_endpoint[0] - 0.2 * axis_length * (-math.sin(rotation_rad))\n",
    "    arrow_start_y = y_endpoint[1] - 0.2 * axis_length * math.cos(rotation_rad)\n",
    "    \n",
    "    fig.add_annotation(\n",
    "        x=y_endpoint[0], \n",
    "        y=y_endpoint[1],\n",
    "        ax=arrow_start_x, \n",
    "        ay=arrow_start_y,\n",
    "        xref=\"x\", yref=\"y\",\n",
    "        axref=\"x\", ayref=\"y\",\n",
    "        showarrow=True,\n",
    "        arrowhead=2,\n",
    "        arrowsize=1.5,\n",
    "        arrowwidth=2,\n",
    "        arrowcolor='green'\n",
    "    )\n",
    "    \n",
    "    # Add labels if requested\n",
    "    if show_labels:\n",
    "        # X label\n",
    "        label_offset_x = 0.05 * axis_length * math.sin(rotation_rad)\n",
    "        label_offset_y = -0.05 * axis_length * math.cos(rotation_rad)\n",
    "        \n",
    "        fig.add_annotation(\n",
    "            x=x_endpoint[0] + label_offset_x,\n",
    "            y=x_endpoint[1] + label_offset_y,\n",
    "            text=\"X\",\n",
    "            showarrow=False,\n",
    "            font=dict(color='red', size=14),\n",
    "            xref=\"x\", yref=\"y\"\n",
    "        )\n",
    "        \n",
    "        # Y label\n",
    "        label_offset_x = 0.05 * axis_length * math.cos(rotation_rad)\n",
    "        label_offset_y = 0.05 * axis_length * math.sin(rotation_rad)\n",
    "        \n",
    "        fig.add_annotation(\n",
    "            x=y_endpoint[0] + label_offset_x,\n",
    "            y=y_endpoint[1] + label_offset_y,\n",
    "            text=\"Y\",\n",
    "            showarrow=False,\n",
    "            font=dict(color='green', size=14),\n",
    "            xref=\"x\", yref=\"y\"\n",
    "        )\n",
    "    \n",
    "    # Add origin point\n",
    "    fig.add_trace(go.Scatter(\n",
    "        x=[translation[0]], \n",
    "        y=[translation[1]],\n",
    "        mode='markers',\n",
    "        marker=dict(color='black', size=8, symbol='circle'),\n",
    "        name=f'{name}Origin'\n",
    "    ))\n",
    "    \n",
    "    return fig\n",
    "\n",
    "# Function to add a point to the figure\n",
    "def add_point_2d(fig, coords, name=\"P\", color='blue', show_coordinates_on_frame=None):\n",
    "    \"\"\"\n",
    "    Add a 2D point to the plotly figure\n",
    "    \n",
    "    Args:\n",
    "        fig: The plotly figure to add the point to\n",
    "        coords: [x, y] coordinates of the point\n",
    "        name: Label for the point\n",
    "        color: Color of the point\n",
    "        show_coordinates_on_frame: If provided, show coordinates relative to this frame\n",
    "                                 [tx, ty, rotation_degrees]\n",
    "        \n",
    "    Returns:\n",
    "        Updated figure\n",
    "    \"\"\"\n",
    "    # Add the point\n",
    "    fig.add_trace(go.Scatter(\n",
    "        x=[coords[0]], \n",
    "        y=[coords[1]],\n",
    "        mode='markers+text',\n",
    "        marker=dict(color=color, size=10),\n",
    "        text=[name],\n",
    "        textposition=\"top center\",\n",
    "        name=f\"Point {name} ({coords[0]}, {coords[1]})\"\n",
    "    ))\n",
    "    \n",
    "    # If a reference frame is provided, show coordinates relative to that frame\n",
    "    if show_coordinates_on_frame is not None:\n",
    "        tx, ty = show_coordinates_on_frame[0], show_coordinates_on_frame[1]\n",
    "        rotation_degrees = show_coordinates_on_frame[2]\n",
    "        \n",
    "        # Draw a dashed line from the frame origin to the point\n",
    "        fig.add_trace(go.Scatter(\n",
    "            x=[tx, coords[0]], \n",
    "            y=[ty, coords[1]],\n",
    "            mode='lines',\n",
    "            line=dict(color=color, width=1, dash='dash'),\n",
    "            name=f'Connection to {name}'\n",
    "        ))\n",
    "        \n",
    "        # Calculate the middle point of the line for placing coordinates\n",
    "        mid_x = (tx + coords[0]) / 2\n",
    "        mid_y = (ty + coords[1]) / 2\n",
    "        \n",
    "        # Calculate the coordinates in the frame's coordinate system\n",
    "        # First translate to origin\n",
    "        translated_x = coords[0] - tx\n",
    "        translated_y = coords[1] - ty\n",
    "        \n",
    "        # Then rotate by the negative of the frame's rotation\n",
    "        rotation_rad = math.radians(-rotation_degrees)\n",
    "        rotated_x = translated_x * math.cos(rotation_rad) - translated_y * math.sin(rotation_rad)\n",
    "        rotated_y = translated_x * math.sin(rotation_rad) + translated_y * math.cos(rotation_rad)\n",
    "        \n",
    "        # Round to 2 decimal places for display\n",
    "        rotated_x = round(rotated_x, 2)\n",
    "        rotated_y = round(rotated_y, 2)\n",
    "        \n",
    "        # Add the coordinates as an annotation directly on the line\n",
    "        fig.add_annotation(\n",
    "            x=mid_x,\n",
    "            y=mid_y,\n",
    "            text=f\"({rotated_x}, {rotated_y})\",\n",
    "            showarrow=False,\n",
    "            font=dict(color=color, size=12),\n",
    "            bgcolor='rgba(255, 255, 255, 0.7)',\n",
    "            bordercolor=color,\n",
    "            borderwidth=1,\n",
    "            borderpad=3\n",
    "        )\n",
    "    \n",
    "    return fig\n",
    "\n",
    "# Function to create a complete 2D visualization\n",
    "def create_2d_visualization(points=None, frames=None, width=700, height=700, range_x=[-2, 2], range_y=[-2, 2]):\n",
    "    \"\"\"\n",
    "    Create a complete 2D visualization with reference frames and points\n",
    "    \n",
    "    Args:\n",
    "        points: List of points to add, each is [x, y, name, color, frame_index]\n",
    "                frame_index is the index in frames to show coordinates on, or None\n",
    "        frames: List of frames to add, each is [tx, ty, rotation_degrees, name]\n",
    "        width: Width of the figure\n",
    "        height: Height of the figure\n",
    "        range_x: Range of x-axis to show\n",
    "        range_y: Range of y-axis to show\n",
    "        \n",
    "    Returns:\n",
    "        Plotly figure\n",
    "    \"\"\"\n",
    "    # Create figure\n",
    "    fig = go.Figure()\n",
    "    \n",
    "    # Default to empty lists if not provided\n",
    "    if points is None:\n",
    "        points = []\n",
    "    if frames is None:\n",
    "        frames = [[0, 0, 0, \"\"]]  # Default frame at origin\n",
    "    \n",
    "    # Add all frames\n",
    "    for idx, frame in enumerate(frames):\n",
    "        tx, ty, rotation_degrees, name = frame\n",
    "        create_reference_frame_2d(fig, [tx, ty], rotation_degrees, name)\n",
    "    \n",
    "    # Add all points\n",
    "    for point in points:\n",
    "        x, y = point[0], point[1]\n",
    "        name = point[2] if len(point) > 2 else \"P\"\n",
    "        color = point[3] if len(point) > 3 else 'blue'\n",
    "        \n",
    "        # If a frame index is specified, get that frame for showing coordinates\n",
    "        show_coords_frame = None\n",
    "        if len(point) > 4 and point[4] is not None:\n",
    "            frame_idx = point[4]\n",
    "            if 0 <= frame_idx < len(frames):\n",
    "                frame = frames[frame_idx]\n",
    "                show_coords_frame = [frame[0], frame[1], frame[2]]\n",
    "        \n",
    "        add_point_2d(fig, [x, y], name, color, show_coords_frame)\n",
    "    \n",
    "    # Configure the figure\n",
    "    fig.update_layout(\n",
    "        title=\"2D Reference Frames and Points\",\n",
    "        xaxis=dict(range=range_x, title=\"\"),\n",
    "        yaxis=dict(range=range_y, title=\"\"),\n",
    "        width=width, height=height,\n",
    "        plot_bgcolor='white',\n",
    "        yaxis_scaleanchor=\"x\",  # Ensures that X and Y scales are equal\n",
    "        yaxis_scaleratio=1\n",
    "    )\n",
    "    \n",
    "    # Grid\n",
    "    fig.update_xaxes(showgrid=True, gridwidth=1, gridcolor='lightgray', zeroline=True, zerolinewidth=2, zerolinecolor='gray')\n",
    "    fig.update_yaxes(showgrid=True, gridwidth=1, gridcolor='lightgray', zeroline=True, zerolinewidth=2, zerolinecolor='gray')\n",
    "    \n",
    "    return fig"
   ]
  },
  {
   "cell_type": "markdown",
   "id": "e3488512",
   "metadata": {},
   "source": [
    "## Simple Example: Reference Frame and Point"
   ]
  },
  {
   "cell_type": "code",
   "execution_count": 2,
   "id": "849dd043",
   "metadata": {},
   "outputs": [
    {
     "data": {
      "application/vnd.plotly.v1+json": {
       "config": {
        "plotlyServerURL": "https://plot.ly"
       },
       "data": [
        {
         "line": {
          "color": "red",
          "width": 2
         },
         "mode": "lines",
         "name": "X Axis",
         "type": "scatter",
         "x": [
          0,
          1
         ],
         "y": [
          0,
          0
         ]
        },
        {
         "line": {
          "color": "green",
          "width": 2
         },
         "mode": "lines",
         "name": "Y Axis",
         "type": "scatter",
         "x": [
          0,
          0
         ],
         "y": [
          0,
          1
         ]
        },
        {
         "marker": {
          "color": "black",
          "size": 8,
          "symbol": "circle"
         },
         "mode": "markers",
         "name": "Origin",
         "type": "scatter",
         "x": [
          0
         ],
         "y": [
          0
         ]
        },
        {
         "marker": {
          "color": "blue",
          "size": 10
         },
         "mode": "markers+text",
         "name": "Point P (1, 1)",
         "text": [
          "P"
         ],
         "textposition": "top center",
         "type": "scatter",
         "x": [
          1
         ],
         "y": [
          1
         ]
        },
        {
         "line": {
          "color": "blue",
          "dash": "dash",
          "width": 1
         },
         "mode": "lines",
         "name": "Connection to frame",
         "type": "scatter",
         "x": [
          0,
          1
         ],
         "y": [
          0,
          1
         ]
        },
        {
         "line": {
          "color": "blue",
          "dash": "dot",
          "width": 1
         },
         "mode": "lines",
         "name": "X Projection",
         "type": "scatter",
         "x": [
          0,
          1
         ],
         "y": [
          0,
          0
         ]
        },
        {
         "line": {
          "color": "blue",
          "dash": "dot",
          "width": 1
         },
         "mode": "lines",
         "name": "Y Projection",
         "type": "scatter",
         "x": [
          0,
          0
         ],
         "y": [
          0,
          1
         ]
        },
        {
         "line": {
          "color": "gray",
          "dash": "dot",
          "width": 1
         },
         "mode": "lines",
         "name": "Coordinates",
         "type": "scatter",
         "x": [
          1,
          1
         ],
         "y": [
          0,
          1
         ]
        }
       ],
       "layout": {
        "annotations": [
         {
          "arrowcolor": "red",
          "arrowhead": 2,
          "arrowsize": 1.5,
          "arrowwidth": 2,
          "ax": 0.8,
          "axref": "x",
          "ay": 0,
          "ayref": "y",
          "showarrow": true,
          "x": 1,
          "xref": "x",
          "y": 0,
          "yref": "y"
         },
         {
          "font": {
           "color": "red",
           "size": 14
          },
          "showarrow": false,
          "text": "X",
          "x": 1.05,
          "xref": "x",
          "y": -0.05,
          "yref": "y"
         },
         {
          "arrowcolor": "green",
          "arrowhead": 2,
          "arrowsize": 1.5,
          "arrowwidth": 2,
          "ax": 0,
          "axref": "x",
          "ay": 0.8,
          "ayref": "y",
          "showarrow": true,
          "x": 0,
          "xref": "x",
          "y": 1,
          "yref": "y"
         },
         {
          "font": {
           "color": "green",
           "size": 14
          },
          "showarrow": false,
          "text": "Y",
          "x": -0.05,
          "xref": "x",
          "y": 1.05,
          "yref": "y"
         },
         {
          "bgcolor": "rgba(255, 255, 255, 0.7)",
          "bordercolor": "blue",
          "borderpad": 3,
          "borderwidth": 1,
          "font": {
           "color": "blue",
           "size": 12
          },
          "showarrow": false,
          "text": "(1, 1)",
          "x": 0.5,
          "y": 0.5
         },
         {
          "font": {
           "color": "blue",
           "size": 12
          },
          "showarrow": false,
          "text": "x=1",
          "x": 0.5,
          "xref": "x",
          "y": -0.07,
          "yref": "y"
         },
         {
          "font": {
           "color": "blue",
           "size": 12
          },
          "showarrow": false,
          "text": "y=1",
          "x": -0.07,
          "xref": "x",
          "y": 0.5,
          "yref": "y"
         }
        ],
        "height": 600,
        "plot_bgcolor": "white",
        "template": {
         "data": {
          "bar": [
           {
            "error_x": {
             "color": "#2a3f5f"
            },
            "error_y": {
             "color": "#2a3f5f"
            },
            "marker": {
             "line": {
              "color": "#E5ECF6",
              "width": 0.5
             },
             "pattern": {
              "fillmode": "overlay",
              "size": 10,
              "solidity": 0.2
             }
            },
            "type": "bar"
           }
          ],
          "barpolar": [
           {
            "marker": {
             "line": {
              "color": "#E5ECF6",
              "width": 0.5
             },
             "pattern": {
              "fillmode": "overlay",
              "size": 10,
              "solidity": 0.2
             }
            },
            "type": "barpolar"
           }
          ],
          "carpet": [
           {
            "aaxis": {
             "endlinecolor": "#2a3f5f",
             "gridcolor": "white",
             "linecolor": "white",
             "minorgridcolor": "white",
             "startlinecolor": "#2a3f5f"
            },
            "baxis": {
             "endlinecolor": "#2a3f5f",
             "gridcolor": "white",
             "linecolor": "white",
             "minorgridcolor": "white",
             "startlinecolor": "#2a3f5f"
            },
            "type": "carpet"
           }
          ],
          "choropleth": [
           {
            "colorbar": {
             "outlinewidth": 0,
             "ticks": ""
            },
            "type": "choropleth"
           }
          ],
          "contour": [
           {
            "colorbar": {
             "outlinewidth": 0,
             "ticks": ""
            },
            "colorscale": [
             [
              0,
              "#0d0887"
             ],
             [
              0.1111111111111111,
              "#46039f"
             ],
             [
              0.2222222222222222,
              "#7201a8"
             ],
             [
              0.3333333333333333,
              "#9c179e"
             ],
             [
              0.4444444444444444,
              "#bd3786"
             ],
             [
              0.5555555555555556,
              "#d8576b"
             ],
             [
              0.6666666666666666,
              "#ed7953"
             ],
             [
              0.7777777777777778,
              "#fb9f3a"
             ],
             [
              0.8888888888888888,
              "#fdca26"
             ],
             [
              1,
              "#f0f921"
             ]
            ],
            "type": "contour"
           }
          ],
          "contourcarpet": [
           {
            "colorbar": {
             "outlinewidth": 0,
             "ticks": ""
            },
            "type": "contourcarpet"
           }
          ],
          "heatmap": [
           {
            "colorbar": {
             "outlinewidth": 0,
             "ticks": ""
            },
            "colorscale": [
             [
              0,
              "#0d0887"
             ],
             [
              0.1111111111111111,
              "#46039f"
             ],
             [
              0.2222222222222222,
              "#7201a8"
             ],
             [
              0.3333333333333333,
              "#9c179e"
             ],
             [
              0.4444444444444444,
              "#bd3786"
             ],
             [
              0.5555555555555556,
              "#d8576b"
             ],
             [
              0.6666666666666666,
              "#ed7953"
             ],
             [
              0.7777777777777778,
              "#fb9f3a"
             ],
             [
              0.8888888888888888,
              "#fdca26"
             ],
             [
              1,
              "#f0f921"
             ]
            ],
            "type": "heatmap"
           }
          ],
          "histogram": [
           {
            "marker": {
             "pattern": {
              "fillmode": "overlay",
              "size": 10,
              "solidity": 0.2
             }
            },
            "type": "histogram"
           }
          ],
          "histogram2d": [
           {
            "colorbar": {
             "outlinewidth": 0,
             "ticks": ""
            },
            "colorscale": [
             [
              0,
              "#0d0887"
             ],
             [
              0.1111111111111111,
              "#46039f"
             ],
             [
              0.2222222222222222,
              "#7201a8"
             ],
             [
              0.3333333333333333,
              "#9c179e"
             ],
             [
              0.4444444444444444,
              "#bd3786"
             ],
             [
              0.5555555555555556,
              "#d8576b"
             ],
             [
              0.6666666666666666,
              "#ed7953"
             ],
             [
              0.7777777777777778,
              "#fb9f3a"
             ],
             [
              0.8888888888888888,
              "#fdca26"
             ],
             [
              1,
              "#f0f921"
             ]
            ],
            "type": "histogram2d"
           }
          ],
          "histogram2dcontour": [
           {
            "colorbar": {
             "outlinewidth": 0,
             "ticks": ""
            },
            "colorscale": [
             [
              0,
              "#0d0887"
             ],
             [
              0.1111111111111111,
              "#46039f"
             ],
             [
              0.2222222222222222,
              "#7201a8"
             ],
             [
              0.3333333333333333,
              "#9c179e"
             ],
             [
              0.4444444444444444,
              "#bd3786"
             ],
             [
              0.5555555555555556,
              "#d8576b"
             ],
             [
              0.6666666666666666,
              "#ed7953"
             ],
             [
              0.7777777777777778,
              "#fb9f3a"
             ],
             [
              0.8888888888888888,
              "#fdca26"
             ],
             [
              1,
              "#f0f921"
             ]
            ],
            "type": "histogram2dcontour"
           }
          ],
          "mesh3d": [
           {
            "colorbar": {
             "outlinewidth": 0,
             "ticks": ""
            },
            "type": "mesh3d"
           }
          ],
          "parcoords": [
           {
            "line": {
             "colorbar": {
              "outlinewidth": 0,
              "ticks": ""
             }
            },
            "type": "parcoords"
           }
          ],
          "pie": [
           {
            "automargin": true,
            "type": "pie"
           }
          ],
          "scatter": [
           {
            "fillpattern": {
             "fillmode": "overlay",
             "size": 10,
             "solidity": 0.2
            },
            "type": "scatter"
           }
          ],
          "scatter3d": [
           {
            "line": {
             "colorbar": {
              "outlinewidth": 0,
              "ticks": ""
             }
            },
            "marker": {
             "colorbar": {
              "outlinewidth": 0,
              "ticks": ""
             }
            },
            "type": "scatter3d"
           }
          ],
          "scattercarpet": [
           {
            "marker": {
             "colorbar": {
              "outlinewidth": 0,
              "ticks": ""
             }
            },
            "type": "scattercarpet"
           }
          ],
          "scattergeo": [
           {
            "marker": {
             "colorbar": {
              "outlinewidth": 0,
              "ticks": ""
             }
            },
            "type": "scattergeo"
           }
          ],
          "scattergl": [
           {
            "marker": {
             "colorbar": {
              "outlinewidth": 0,
              "ticks": ""
             }
            },
            "type": "scattergl"
           }
          ],
          "scattermap": [
           {
            "marker": {
             "colorbar": {
              "outlinewidth": 0,
              "ticks": ""
             }
            },
            "type": "scattermap"
           }
          ],
          "scattermapbox": [
           {
            "marker": {
             "colorbar": {
              "outlinewidth": 0,
              "ticks": ""
             }
            },
            "type": "scattermapbox"
           }
          ],
          "scatterpolar": [
           {
            "marker": {
             "colorbar": {
              "outlinewidth": 0,
              "ticks": ""
             }
            },
            "type": "scatterpolar"
           }
          ],
          "scatterpolargl": [
           {
            "marker": {
             "colorbar": {
              "outlinewidth": 0,
              "ticks": ""
             }
            },
            "type": "scatterpolargl"
           }
          ],
          "scatterternary": [
           {
            "marker": {
             "colorbar": {
              "outlinewidth": 0,
              "ticks": ""
             }
            },
            "type": "scatterternary"
           }
          ],
          "surface": [
           {
            "colorbar": {
             "outlinewidth": 0,
             "ticks": ""
            },
            "colorscale": [
             [
              0,
              "#0d0887"
             ],
             [
              0.1111111111111111,
              "#46039f"
             ],
             [
              0.2222222222222222,
              "#7201a8"
             ],
             [
              0.3333333333333333,
              "#9c179e"
             ],
             [
              0.4444444444444444,
              "#bd3786"
             ],
             [
              0.5555555555555556,
              "#d8576b"
             ],
             [
              0.6666666666666666,
              "#ed7953"
             ],
             [
              0.7777777777777778,
              "#fb9f3a"
             ],
             [
              0.8888888888888888,
              "#fdca26"
             ],
             [
              1,
              "#f0f921"
             ]
            ],
            "type": "surface"
           }
          ],
          "table": [
           {
            "cells": {
             "fill": {
              "color": "#EBF0F8"
             },
             "line": {
              "color": "white"
             }
            },
            "header": {
             "fill": {
              "color": "#C8D4E3"
             },
             "line": {
              "color": "white"
             }
            },
            "type": "table"
           }
          ]
         },
         "layout": {
          "annotationdefaults": {
           "arrowcolor": "#2a3f5f",
           "arrowhead": 0,
           "arrowwidth": 1
          },
          "autotypenumbers": "strict",
          "coloraxis": {
           "colorbar": {
            "outlinewidth": 0,
            "ticks": ""
           }
          },
          "colorscale": {
           "diverging": [
            [
             0,
             "#8e0152"
            ],
            [
             0.1,
             "#c51b7d"
            ],
            [
             0.2,
             "#de77ae"
            ],
            [
             0.3,
             "#f1b6da"
            ],
            [
             0.4,
             "#fde0ef"
            ],
            [
             0.5,
             "#f7f7f7"
            ],
            [
             0.6,
             "#e6f5d0"
            ],
            [
             0.7,
             "#b8e186"
            ],
            [
             0.8,
             "#7fbc41"
            ],
            [
             0.9,
             "#4d9221"
            ],
            [
             1,
             "#276419"
            ]
           ],
           "sequential": [
            [
             0,
             "#0d0887"
            ],
            [
             0.1111111111111111,
             "#46039f"
            ],
            [
             0.2222222222222222,
             "#7201a8"
            ],
            [
             0.3333333333333333,
             "#9c179e"
            ],
            [
             0.4444444444444444,
             "#bd3786"
            ],
            [
             0.5555555555555556,
             "#d8576b"
            ],
            [
             0.6666666666666666,
             "#ed7953"
            ],
            [
             0.7777777777777778,
             "#fb9f3a"
            ],
            [
             0.8888888888888888,
             "#fdca26"
            ],
            [
             1,
             "#f0f921"
            ]
           ],
           "sequentialminus": [
            [
             0,
             "#0d0887"
            ],
            [
             0.1111111111111111,
             "#46039f"
            ],
            [
             0.2222222222222222,
             "#7201a8"
            ],
            [
             0.3333333333333333,
             "#9c179e"
            ],
            [
             0.4444444444444444,
             "#bd3786"
            ],
            [
             0.5555555555555556,
             "#d8576b"
            ],
            [
             0.6666666666666666,
             "#ed7953"
            ],
            [
             0.7777777777777778,
             "#fb9f3a"
            ],
            [
             0.8888888888888888,
             "#fdca26"
            ],
            [
             1,
             "#f0f921"
            ]
           ]
          },
          "colorway": [
           "#636efa",
           "#EF553B",
           "#00cc96",
           "#ab63fa",
           "#FFA15A",
           "#19d3f3",
           "#FF6692",
           "#B6E880",
           "#FF97FF",
           "#FECB52"
          ],
          "font": {
           "color": "#2a3f5f"
          },
          "geo": {
           "bgcolor": "white",
           "lakecolor": "white",
           "landcolor": "#E5ECF6",
           "showlakes": true,
           "showland": true,
           "subunitcolor": "white"
          },
          "hoverlabel": {
           "align": "left"
          },
          "hovermode": "closest",
          "mapbox": {
           "style": "light"
          },
          "paper_bgcolor": "white",
          "plot_bgcolor": "#E5ECF6",
          "polar": {
           "angularaxis": {
            "gridcolor": "white",
            "linecolor": "white",
            "ticks": ""
           },
           "bgcolor": "#E5ECF6",
           "radialaxis": {
            "gridcolor": "white",
            "linecolor": "white",
            "ticks": ""
           }
          },
          "scene": {
           "xaxis": {
            "backgroundcolor": "#E5ECF6",
            "gridcolor": "white",
            "gridwidth": 2,
            "linecolor": "white",
            "showbackground": true,
            "ticks": "",
            "zerolinecolor": "white"
           },
           "yaxis": {
            "backgroundcolor": "#E5ECF6",
            "gridcolor": "white",
            "gridwidth": 2,
            "linecolor": "white",
            "showbackground": true,
            "ticks": "",
            "zerolinecolor": "white"
           },
           "zaxis": {
            "backgroundcolor": "#E5ECF6",
            "gridcolor": "white",
            "gridwidth": 2,
            "linecolor": "white",
            "showbackground": true,
            "ticks": "",
            "zerolinecolor": "white"
           }
          },
          "shapedefaults": {
           "line": {
            "color": "#2a3f5f"
           }
          },
          "ternary": {
           "aaxis": {
            "gridcolor": "white",
            "linecolor": "white",
            "ticks": ""
           },
           "baxis": {
            "gridcolor": "white",
            "linecolor": "white",
            "ticks": ""
           },
           "bgcolor": "#E5ECF6",
           "caxis": {
            "gridcolor": "white",
            "linecolor": "white",
            "ticks": ""
           }
          },
          "title": {
           "x": 0.05
          },
          "xaxis": {
           "automargin": true,
           "gridcolor": "white",
           "linecolor": "white",
           "ticks": "",
           "title": {
            "standoff": 15
           },
           "zerolinecolor": "white",
           "zerolinewidth": 2
          },
          "yaxis": {
           "automargin": true,
           "gridcolor": "white",
           "linecolor": "white",
           "ticks": "",
           "title": {
            "standoff": 15
           },
           "zerolinecolor": "white",
           "zerolinewidth": 2
          }
         }
        },
        "title": {
         "text": "Reference Frame at Origin and Point P"
        },
        "width": 600,
        "xaxis": {
         "gridcolor": "lightgray",
         "gridwidth": 1,
         "range": [
          -0.1,
          1.5
         ],
         "showgrid": true,
         "title": {
          "text": ""
         },
         "zeroline": true,
         "zerolinecolor": "gray",
         "zerolinewidth": 2
        },
        "yaxis": {
         "gridcolor": "lightgray",
         "gridwidth": 1,
         "range": [
          -0.1,
          1.5
         ],
         "scaleanchor": "x",
         "scaleratio": 1,
         "showgrid": true,
         "title": {
          "text": ""
         },
         "zeroline": true,
         "zerolinecolor": "gray",
         "zerolinewidth": 2
        }
       }
      }
     },
     "metadata": {},
     "output_type": "display_data"
    }
   ],
   "source": [
    "import numpy as np\n",
    "import plotly.graph_objects as go\n",
    "\n",
    "# Create a 2D point\n",
    "point = np.array([1, 1])\n",
    "\n",
    "# Create a figure with Plotly\n",
    "fig = go.Figure()\n",
    "\n",
    "# Add the reference frame axes (origin) - with arrows at unit length\n",
    "# X axis with arrow (red) - without text, we'll add it with an annotation\n",
    "fig.add_trace(go.Scatter(\n",
    "    x=[0, 1], y=[0, 0],\n",
    "    mode='lines',  # Removed text from here\n",
    "    line=dict(color='red', width=2),\n",
    "    name='X Axis'\n",
    "))\n",
    "\n",
    "# Add arrow and label X for X axis\n",
    "fig.add_annotation(\n",
    "    x=1, y=0,\n",
    "    ax=0.8, ay=0,\n",
    "    xref=\"x\", yref=\"y\",\n",
    "    axref=\"x\", ayref=\"y\",\n",
    "    showarrow=True,\n",
    "    arrowhead=2,\n",
    "    arrowsize=1.5,\n",
    "    arrowwidth=2,\n",
    "    arrowcolor='red'\n",
    ")\n",
    "\n",
    "# Add X label as separate annotation for better positioning\n",
    "fig.add_annotation(\n",
    "    x=1.05,  # Positioned slightly after the axis end\n",
    "    y=-0.05,  # Slightly below the axis\n",
    "    text=\"X\",\n",
    "    showarrow=False,\n",
    "    font=dict(color='red', size=14),\n",
    "    xref=\"x\", yref=\"y\"\n",
    ")\n",
    "\n",
    "# Y axis with arrow (green) - without text\n",
    "fig.add_trace(go.Scatter(\n",
    "    x=[0, 0], y=[0, 1],\n",
    "    mode='lines',  # Removed text from here\n",
    "    line=dict(color='green', width=2),\n",
    "    name='Y Axis'\n",
    "))\n",
    "\n",
    "# Add arrow for Y axis\n",
    "fig.add_annotation(\n",
    "    x=0, y=1,\n",
    "    ax=0, ay=0.8,\n",
    "    xref=\"x\", yref=\"y\",\n",
    "    axref=\"x\", ayref=\"y\",\n",
    "    showarrow=True,\n",
    "    arrowhead=2,\n",
    "    arrowsize=1.5,\n",
    "    arrowwidth=2,\n",
    "    arrowcolor='green'\n",
    ")\n",
    "\n",
    "# Add Y label as separate annotation for better positioning\n",
    "fig.add_annotation(\n",
    "    x=-0.05,  # Slightly to the left of the axis\n",
    "    y=1.05,   # Positioned slightly above the axis end\n",
    "    text=\"Y\",\n",
    "    showarrow=False,\n",
    "    font=dict(color='green', size=14),\n",
    "    xref=\"x\", yref=\"y\"\n",
    ")\n",
    "\n",
    "# Add the origin\n",
    "fig.add_trace(go.Scatter(\n",
    "    x=[0], y=[0],\n",
    "    mode='markers',\n",
    "    marker=dict(color='black', size=8, symbol='circle'),\n",
    "    name='Origin'\n",
    "))\n",
    "\n",
    "# Add the point\n",
    "fig.add_trace(go.Scatter(\n",
    "    x=[point[0]], y=[point[1]],\n",
    "    mode='markers+text',\n",
    "    marker=dict(color='blue', size=10),\n",
    "    text=['P'],\n",
    "    textposition=\"top center\",\n",
    "    name=f\"Point P ({point[0]}, {point[1]})\"\n",
    "))\n",
    "\n",
    "# Calculate the middle point of the line for exact positioning\n",
    "mid_x = (0 + point[0]) / 2\n",
    "mid_y = (0 + point[1]) / 2\n",
    "\n",
    "# Draw a dashed line from the origin to the point\n",
    "fig.add_trace(go.Scatter(\n",
    "    x=[0, point[0]], y=[0, point[1]],\n",
    "    mode='lines',\n",
    "    line=dict(color='blue', width=1, dash='dash'),\n",
    "    name='Connection to frame'\n",
    "))\n",
    "\n",
    "# Add the coordinates as an annotation directly on the line\n",
    "fig.add_annotation(\n",
    "    x=mid_x,\n",
    "    y=mid_y,\n",
    "    text=f\"({point[0]}, {point[1]})\",\n",
    "    showarrow=False,\n",
    "    font=dict(color='blue', size=12),\n",
    "    bgcolor='rgba(255, 255, 255, 0.7)',  # Semi-transparent white background\n",
    "    bordercolor='blue',\n",
    "    borderwidth=1,\n",
    "    borderpad=3\n",
    ")\n",
    "\n",
    "# Add projections on the axes as dotted lines\n",
    "# Projection on X axis - using annotation instead of text in scatter\n",
    "fig.add_trace(go.Scatter(\n",
    "    x=[0, point[0]], y=[0, 0],\n",
    "    mode='lines',\n",
    "    line=dict(color='blue', width=1, dash='dot'),\n",
    "    name='X Projection'\n",
    "))\n",
    "\n",
    "# Add X projection label as annotation\n",
    "fig.add_annotation(\n",
    "    x=point[0]/2,\n",
    "    y=-0.07,\n",
    "    text=f\"x={point[0]}\",\n",
    "    showarrow=False,\n",
    "    font=dict(color='blue', size=12),\n",
    "    xref=\"x\", yref=\"y\"\n",
    ")\n",
    "\n",
    "# Projection on Y axis - using annotation instead of text in scatter\n",
    "fig.add_trace(go.Scatter(\n",
    "    x=[0, 0], y=[0, point[1]],\n",
    "    mode='lines',\n",
    "    line=dict(color='blue', width=1, dash='dot'),\n",
    "    name='Y Projection'\n",
    "))\n",
    "\n",
    "# Add Y projection label as annotation\n",
    "fig.add_annotation(\n",
    "    x=-0.07,\n",
    "    y=point[1]/2,\n",
    "    text=f\"y={point[1]}\",\n",
    "    showarrow=False,\n",
    "    font=dict(color='blue', size=12),\n",
    "    xref=\"x\", yref=\"y\"\n",
    ")\n",
    "\n",
    "# Perpendicular lines from the point to the axes\n",
    "fig.add_trace(go.Scatter(\n",
    "    x=[point[0], point[0]], y=[0, point[1]],\n",
    "    mode='lines',\n",
    "    line=dict(color='gray', width=1, dash='dot'),\n",
    "    name='Coordinates'\n",
    "))\n",
    "\n",
    "# Configure the figure\n",
    "fig.update_layout(\n",
    "    title=\"Reference Frame at Origin and Point P\",\n",
    "    xaxis=dict(range=[-0.1, 1.5], title=\"\"),  # Adjusted range for better visualization\n",
    "    yaxis=dict(range=[-0.1, 1.5], title=\"\"),\n",
    "    width=600, height=600,\n",
    "    plot_bgcolor='white',\n",
    "    yaxis_scaleanchor=\"x\",  # Ensures that X and Y scales are equal\n",
    "    yaxis_scaleratio=1\n",
    ")\n",
    "\n",
    "# Grid\n",
    "fig.update_xaxes(showgrid=True, gridwidth=1, gridcolor='lightgray', zeroline=True, zerolinewidth=2, zerolinecolor='gray')\n",
    "fig.update_yaxes(showgrid=True, gridwidth=1, gridcolor='lightgray', zeroline=True, zerolinewidth=2, zerolinecolor='gray')\n",
    "\n",
    "fig.show()"
   ]
  },
  {
   "cell_type": "markdown",
   "id": "5272a59c",
   "metadata": {},
   "source": [
    "## Utility Functions for 3D Reference Frames Visualization\n",
    "\n",
    "Below are functions to create and visualize 3D reference frames with different positions and orientations."
   ]
  },
  {
   "cell_type": "code",
   "execution_count": 3,
   "id": "14310bbd",
   "metadata": {},
   "outputs": [],
   "source": [
    "import numpy as np\n",
    "import plotly.graph_objects as go\n",
    "from scipy.spatial.transform import Rotation\n",
    "\n",
    "def create_figure():\n",
    "    \"\"\"Create a new 3D figure with white background\"\"\"\n",
    "    fig = go.Figure()\n",
    "    \n",
    "    # Set up the 3D axes\n",
    "    fig.update_layout(\n",
    "        scene=dict(\n",
    "            xaxis=dict(range=[-1.5, 1.5], title=\"\"),\n",
    "            yaxis=dict(range=[-1.5, 1.5], title=\"\"),\n",
    "            zaxis=dict(range=[-1.5, 1.5], title=\"\"),\n",
    "            aspectmode='cube'\n",
    "        ),\n",
    "        width=700,\n",
    "        height=700,\n",
    "        title=\"3D Reference Frames\",\n",
    "        margin=dict(l=0, r=0, b=0, t=40),\n",
    "        scene_camera=dict(eye=dict(x=1.5, y=1.5, z=1.5))\n",
    "    )\n",
    "    \n",
    "    return fig\n",
    "\n",
    "def rotation_matrix_from_euler(angles, sequence='xyz'):\n",
    "    \"\"\"Create a rotation matrix from Euler angles in degrees\n",
    "    \n",
    "    Args:\n",
    "        angles (list): Euler angles in degrees [x, y, z]\n",
    "        sequence (str): Rotation sequence, e.g., 'xyz', 'zyx'\n",
    "        \n",
    "    Returns:\n",
    "        np.ndarray: 3x3 rotation matrix\n",
    "    \"\"\"\n",
    "    rot = Rotation.from_euler(sequence, angles, degrees=True)\n",
    "    return rot.as_matrix()\n",
    "\n",
    "def add_reference_frame(fig, position=[0, 0, 0], rotation_matrix=None, scale=1.0, name=\"Frame\", show_labels=True):\n",
    "    \"\"\"Add a reference frame to the figure at a specified position and orientation.\n",
    "    \n",
    "    Args:\n",
    "        fig (go.Figure): Plotly figure to add the reference frame to\n",
    "        position (list): Position of the reference frame origin [x, y, z]\n",
    "        rotation_matrix (np.ndarray): 3x3 rotation matrix (None = identity)\n",
    "        scale (float): Size of the coordinate axes\n",
    "        name (str): Name for the reference frame\n",
    "        show_labels (bool): Whether to show X, Y, Z labels\n",
    "        \n",
    "    Returns:\n",
    "        go.Figure: Updated figure\n",
    "    \"\"\"\n",
    "    position = np.array(position)\n",
    "    \n",
    "    if rotation_matrix is None:\n",
    "        rotation_matrix = np.eye(3)  # Identity matrix\n",
    "    \n",
    "    # Create unit vectors for each axis\n",
    "    x_axis = np.array([scale, 0, 0])  # X axis\n",
    "    y_axis = np.array([0, scale, 0])  # Y axis\n",
    "    z_axis = np.array([0, 0, scale])  # Z axis\n",
    "    \n",
    "    # Apply rotation\n",
    "    x_axis_rotated = rotation_matrix @ x_axis\n",
    "    y_axis_rotated = rotation_matrix @ y_axis\n",
    "    z_axis_rotated = rotation_matrix @ z_axis\n",
    "    \n",
    "    # Define colors for axes\n",
    "    x_color = 'red'\n",
    "    y_color = 'green'\n",
    "    z_color = 'blue'\n",
    "    \n",
    "    # Add origin\n",
    "    fig.add_trace(go.Scatter3d(\n",
    "        x=[position[0]],\n",
    "        y=[position[1]],\n",
    "        z=[position[2]],\n",
    "        mode='markers',\n",
    "        marker=dict(color='black', size=6),\n",
    "        name=f\"{name} Origin\"\n",
    "    ))\n",
    "    \n",
    "    # X-axis\n",
    "    fig.add_trace(go.Scatter3d(\n",
    "        x=[position[0], position[0] + x_axis_rotated[0]],\n",
    "        y=[position[1], position[1] + x_axis_rotated[1]],\n",
    "        z=[position[2], position[2] + x_axis_rotated[2]],\n",
    "        mode='lines',\n",
    "        line=dict(color=x_color, width=5),\n",
    "        name=f\"{name} X-axis\"\n",
    "    ))\n",
    "    \n",
    "    # Y-axis\n",
    "    fig.add_trace(go.Scatter3d(\n",
    "        x=[position[0], position[0] + y_axis_rotated[0]],\n",
    "        y=[position[1], position[1] + y_axis_rotated[1]],\n",
    "        z=[position[2], position[2] + y_axis_rotated[2]],\n",
    "        mode='lines',\n",
    "        line=dict(color=y_color, width=5),\n",
    "        name=f\"{name} Y-axis\"\n",
    "    ))\n",
    "    \n",
    "    # Z-axis\n",
    "    fig.add_trace(go.Scatter3d(\n",
    "        x=[position[0], position[0] + z_axis_rotated[0]],\n",
    "        y=[position[1], position[1] + z_axis_rotated[1]],\n",
    "        z=[position[2], position[2] + z_axis_rotated[2]],\n",
    "        mode='lines',\n",
    "        line=dict(color=z_color, width=5),\n",
    "        name=f\"{name} Z-axis\"\n",
    "    ))\n",
    "    \n",
    "    # Add labels if requested\n",
    "    if show_labels:\n",
    "        # X label\n",
    "        fig.add_trace(go.Scatter3d(\n",
    "            x=[position[0] + 1.1 * x_axis_rotated[0]],\n",
    "            y=[position[1] + 1.1 * x_axis_rotated[1]],\n",
    "            z=[position[2] + 1.1 * x_axis_rotated[2]],\n",
    "            mode='text',\n",
    "            text=['X'],\n",
    "            textfont=dict(color=x_color, size=12),\n",
    "            name=f\"{name} X-label\"\n",
    "        ))\n",
    "        \n",
    "        # Y label\n",
    "        fig.add_trace(go.Scatter3d(\n",
    "            x=[position[0] + 1.1 * y_axis_rotated[0]],\n",
    "            y=[position[1] + 1.1 * y_axis_rotated[1]],\n",
    "            z=[position[2] + 1.1 * y_axis_rotated[2]],\n",
    "            mode='text',\n",
    "            text=['Y'],\n",
    "            textfont=dict(color=y_color, size=12),\n",
    "            name=f\"{name} Y-label\"\n",
    "        ))\n",
    "        \n",
    "        # Z label\n",
    "        fig.add_trace(go.Scatter3d(\n",
    "            x=[position[0] + 1.1 * z_axis_rotated[0]],\n",
    "            y=[position[1] + 1.1 * z_axis_rotated[1]],\n",
    "            z=[position[2] + 1.1 * z_axis_rotated[2]],\n",
    "            mode='text',\n",
    "            text=['Z'],\n",
    "            textfont=dict(color=z_color, size=12),\n",
    "            name=f\"{name} Z-label\"\n",
    "        ))\n",
    "    \n",
    "    return fig\n",
    "\n",
    "def add_point(fig, position, color='blue', size=8, name=None, connect_to_origin=False, show_coordinates=False):\n",
    "    \"\"\"Add a 3D point to the figure.\n",
    "    \n",
    "    Args:\n",
    "        fig (go.Figure): Plotly figure to add the point to\n",
    "        position (list): Position of the point [x, y, z]\n",
    "        color (str): Color of the point\n",
    "        size (int): Size of the point marker\n",
    "        name (str): Name for the point (defaults to P(x,y,z))\n",
    "        connect_to_origin (bool): Whether to connect the point to the origin\n",
    "        show_coordinates (bool): Whether to show the coordinates on the line\n",
    "        \n",
    "    Returns:\n",
    "        go.Figure: Updated figure\n",
    "    \"\"\"\n",
    "    position = np.array(position)\n",
    "    \n",
    "    if name is None:\n",
    "        name = f\"P({position[0]}, {position[1]}, {position[2]})\"\n",
    "    \n",
    "    # Add the point\n",
    "    fig.add_trace(go.Scatter3d(\n",
    "        x=[position[0]],\n",
    "        y=[position[1]],\n",
    "        z=[position[2]],\n",
    "        mode='markers+text',\n",
    "        marker=dict(color=color, size=size, symbol='circle'),\n",
    "        text=['P'],\n",
    "        textposition=\"top center\",\n",
    "        name=name\n",
    "    ))\n",
    "    \n",
    "    if connect_to_origin:\n",
    "        # Connect to origin with a dashed line\n",
    "        fig.add_trace(go.Scatter3d(\n",
    "            x=[0, position[0]],\n",
    "            y=[0, position[1]],\n",
    "            z=[0, position[2]],\n",
    "            mode='lines',\n",
    "            line=dict(color=color, width=3, dash='dash'),\n",
    "            name=f\"Connection to origin\"\n",
    "        ))\n",
    "        \n",
    "        # Add coordinates label on the line if requested\n",
    "        if show_coordinates:\n",
    "            # Calculate midpoint of line\n",
    "            mid_x = position[0] / 2\n",
    "            mid_y = position[1] / 2\n",
    "            mid_z = position[2] / 2\n",
    "            \n",
    "            fig.add_trace(go.Scatter3d(\n",
    "                x=[mid_x],\n",
    "                y=[mid_y],\n",
    "                z=[mid_z],\n",
    "                mode='text',\n",
    "                text=[f\"({position[0]}, {position[1]}, {position[2]})\"],\n",
    "                textfont=dict(color=color, size=10),\n",
    "                name=f\"Coordinates\"\n",
    "            ))\n",
    "    \n",
    "    return fig\n",
    "\n",
    "def visualize_transform_with_point(translation=[0, 0, 0], rotation_angles=[0, 0, 0], point=[1, 1, 1], \n",
    "                                  show_coordinates=True, sequence='xyz'):\n",
    "    \"\"\"Create a 3D visualization with a reference frame at a given pose and a point.\n",
    "    \n",
    "    Args:\n",
    "        translation (list): Translation of the reference frame [x, y, z]\n",
    "        rotation_angles (list): Euler angles in degrees [x, y, z]\n",
    "        point (list): Point coordinates in the world frame [x, y, z]\n",
    "        show_coordinates (bool): Whether to show coordinates on the line connecting to the point\n",
    "        sequence (str): Rotation sequence for Euler angles\n",
    "        \n",
    "    Returns:\n",
    "        go.Figure: Figure with the reference frame and point\n",
    "    \"\"\"\n",
    "    fig = create_figure()\n",
    "    \n",
    "    # Add world reference frame at origin\n",
    "    fig = add_reference_frame(fig, position=[0, 0, 0], name=\"World\")\n",
    "    \n",
    "    # Create rotation matrix from Euler angles\n",
    "    R = rotation_matrix_from_euler(rotation_angles, sequence)\n",
    "    \n",
    "    # Add transformed reference frame\n",
    "    if np.any(translation) or np.any(rotation_angles):\n",
    "        fig = add_reference_frame(fig, position=translation, rotation_matrix=R, name=\"Transformed\")\n",
    "    \n",
    "    # Add the point\n",
    "    fig = add_point(fig, point, connect_to_origin=True, show_coordinates=show_coordinates)\n",
    "    \n",
    "    return fig"
   ]
  },
  {
   "cell_type": "code",
   "execution_count": 4,
   "id": "c2c54af2",
   "metadata": {},
   "outputs": [
    {
     "data": {
      "application/vnd.plotly.v1+json": {
       "config": {
        "plotlyServerURL": "https://plot.ly"
       },
       "data": [
        {
         "line": {
          "color": "red",
          "width": 2
         },
         "mode": "lines",
         "name": "X Axis",
         "type": "scatter",
         "x": [
          0,
          1
         ],
         "y": [
          0,
          0
         ]
        },
        {
         "line": {
          "color": "green",
          "width": 2
         },
         "mode": "lines",
         "name": "Y Axis",
         "type": "scatter",
         "x": [
          0,
          0
         ],
         "y": [
          0,
          1
         ]
        },
        {
         "marker": {
          "color": "black",
          "size": 8,
          "symbol": "circle"
         },
         "mode": "markers",
         "name": "Origin",
         "type": "scatter",
         "x": [
          0
         ],
         "y": [
          0
         ]
        },
        {
         "marker": {
          "color": "blue",
          "size": 10
         },
         "mode": "markers+text",
         "name": "Point P (1, 1)",
         "text": [
          "P"
         ],
         "textposition": "top center",
         "type": "scatter",
         "x": [
          1
         ],
         "y": [
          1
         ]
        },
        {
         "line": {
          "color": "blue",
          "dash": "dash",
          "width": 1
         },
         "mode": "lines",
         "name": "Connection to frame",
         "type": "scatter",
         "x": [
          0,
          1
         ],
         "y": [
          0,
          1
         ]
        },
        {
         "line": {
          "color": "blue",
          "dash": "dot",
          "width": 1
         },
         "mode": "lines",
         "name": "X Projection",
         "type": "scatter",
         "x": [
          0,
          1
         ],
         "y": [
          0,
          0
         ]
        },
        {
         "line": {
          "color": "blue",
          "dash": "dot",
          "width": 1
         },
         "mode": "lines",
         "name": "Y Projection",
         "type": "scatter",
         "x": [
          0,
          0
         ],
         "y": [
          0,
          1
         ]
        },
        {
         "line": {
          "color": "gray",
          "dash": "dot",
          "width": 1
         },
         "mode": "lines",
         "name": "Coordinates",
         "type": "scatter",
         "x": [
          1,
          1
         ],
         "y": [
          0,
          1
         ]
        }
       ],
       "layout": {
        "annotations": [
         {
          "arrowcolor": "red",
          "arrowhead": 2,
          "arrowsize": 1.5,
          "arrowwidth": 2,
          "ax": 0.8,
          "axref": "x",
          "ay": 0,
          "ayref": "y",
          "showarrow": true,
          "x": 1,
          "xref": "x",
          "y": 0,
          "yref": "y"
         },
         {
          "font": {
           "color": "red",
           "size": 14
          },
          "showarrow": false,
          "text": "X",
          "x": 1.05,
          "xref": "x",
          "y": -0.05,
          "yref": "y"
         },
         {
          "arrowcolor": "green",
          "arrowhead": 2,
          "arrowsize": 1.5,
          "arrowwidth": 2,
          "ax": 0,
          "axref": "x",
          "ay": 0.8,
          "ayref": "y",
          "showarrow": true,
          "x": 0,
          "xref": "x",
          "y": 1,
          "yref": "y"
         },
         {
          "font": {
           "color": "green",
           "size": 14
          },
          "showarrow": false,
          "text": "Y",
          "x": -0.05,
          "xref": "x",
          "y": 1.05,
          "yref": "y"
         },
         {
          "bgcolor": "rgba(255, 255, 255, 0.7)",
          "bordercolor": "blue",
          "borderpad": 3,
          "borderwidth": 1,
          "font": {
           "color": "blue",
           "size": 12
          },
          "showarrow": false,
          "text": "(1, 1)",
          "x": 0.5,
          "y": 0.5
         },
         {
          "font": {
           "color": "blue",
           "size": 12
          },
          "showarrow": false,
          "text": "x=1",
          "x": 0.5,
          "xref": "x",
          "y": -0.07,
          "yref": "y"
         },
         {
          "font": {
           "color": "blue",
           "size": 12
          },
          "showarrow": false,
          "text": "y=1",
          "x": -0.07,
          "xref": "x",
          "y": 0.5,
          "yref": "y"
         }
        ],
        "height": 600,
        "plot_bgcolor": "white",
        "template": {
         "data": {
          "bar": [
           {
            "error_x": {
             "color": "#2a3f5f"
            },
            "error_y": {
             "color": "#2a3f5f"
            },
            "marker": {
             "line": {
              "color": "#E5ECF6",
              "width": 0.5
             },
             "pattern": {
              "fillmode": "overlay",
              "size": 10,
              "solidity": 0.2
             }
            },
            "type": "bar"
           }
          ],
          "barpolar": [
           {
            "marker": {
             "line": {
              "color": "#E5ECF6",
              "width": 0.5
             },
             "pattern": {
              "fillmode": "overlay",
              "size": 10,
              "solidity": 0.2
             }
            },
            "type": "barpolar"
           }
          ],
          "carpet": [
           {
            "aaxis": {
             "endlinecolor": "#2a3f5f",
             "gridcolor": "white",
             "linecolor": "white",
             "minorgridcolor": "white",
             "startlinecolor": "#2a3f5f"
            },
            "baxis": {
             "endlinecolor": "#2a3f5f",
             "gridcolor": "white",
             "linecolor": "white",
             "minorgridcolor": "white",
             "startlinecolor": "#2a3f5f"
            },
            "type": "carpet"
           }
          ],
          "choropleth": [
           {
            "colorbar": {
             "outlinewidth": 0,
             "ticks": ""
            },
            "type": "choropleth"
           }
          ],
          "contour": [
           {
            "colorbar": {
             "outlinewidth": 0,
             "ticks": ""
            },
            "colorscale": [
             [
              0,
              "#0d0887"
             ],
             [
              0.1111111111111111,
              "#46039f"
             ],
             [
              0.2222222222222222,
              "#7201a8"
             ],
             [
              0.3333333333333333,
              "#9c179e"
             ],
             [
              0.4444444444444444,
              "#bd3786"
             ],
             [
              0.5555555555555556,
              "#d8576b"
             ],
             [
              0.6666666666666666,
              "#ed7953"
             ],
             [
              0.7777777777777778,
              "#fb9f3a"
             ],
             [
              0.8888888888888888,
              "#fdca26"
             ],
             [
              1,
              "#f0f921"
             ]
            ],
            "type": "contour"
           }
          ],
          "contourcarpet": [
           {
            "colorbar": {
             "outlinewidth": 0,
             "ticks": ""
            },
            "type": "contourcarpet"
           }
          ],
          "heatmap": [
           {
            "colorbar": {
             "outlinewidth": 0,
             "ticks": ""
            },
            "colorscale": [
             [
              0,
              "#0d0887"
             ],
             [
              0.1111111111111111,
              "#46039f"
             ],
             [
              0.2222222222222222,
              "#7201a8"
             ],
             [
              0.3333333333333333,
              "#9c179e"
             ],
             [
              0.4444444444444444,
              "#bd3786"
             ],
             [
              0.5555555555555556,
              "#d8576b"
             ],
             [
              0.6666666666666666,
              "#ed7953"
             ],
             [
              0.7777777777777778,
              "#fb9f3a"
             ],
             [
              0.8888888888888888,
              "#fdca26"
             ],
             [
              1,
              "#f0f921"
             ]
            ],
            "type": "heatmap"
           }
          ],
          "histogram": [
           {
            "marker": {
             "pattern": {
              "fillmode": "overlay",
              "size": 10,
              "solidity": 0.2
             }
            },
            "type": "histogram"
           }
          ],
          "histogram2d": [
           {
            "colorbar": {
             "outlinewidth": 0,
             "ticks": ""
            },
            "colorscale": [
             [
              0,
              "#0d0887"
             ],
             [
              0.1111111111111111,
              "#46039f"
             ],
             [
              0.2222222222222222,
              "#7201a8"
             ],
             [
              0.3333333333333333,
              "#9c179e"
             ],
             [
              0.4444444444444444,
              "#bd3786"
             ],
             [
              0.5555555555555556,
              "#d8576b"
             ],
             [
              0.6666666666666666,
              "#ed7953"
             ],
             [
              0.7777777777777778,
              "#fb9f3a"
             ],
             [
              0.8888888888888888,
              "#fdca26"
             ],
             [
              1,
              "#f0f921"
             ]
            ],
            "type": "histogram2d"
           }
          ],
          "histogram2dcontour": [
           {
            "colorbar": {
             "outlinewidth": 0,
             "ticks": ""
            },
            "colorscale": [
             [
              0,
              "#0d0887"
             ],
             [
              0.1111111111111111,
              "#46039f"
             ],
             [
              0.2222222222222222,
              "#7201a8"
             ],
             [
              0.3333333333333333,
              "#9c179e"
             ],
             [
              0.4444444444444444,
              "#bd3786"
             ],
             [
              0.5555555555555556,
              "#d8576b"
             ],
             [
              0.6666666666666666,
              "#ed7953"
             ],
             [
              0.7777777777777778,
              "#fb9f3a"
             ],
             [
              0.8888888888888888,
              "#fdca26"
             ],
             [
              1,
              "#f0f921"
             ]
            ],
            "type": "histogram2dcontour"
           }
          ],
          "mesh3d": [
           {
            "colorbar": {
             "outlinewidth": 0,
             "ticks": ""
            },
            "type": "mesh3d"
           }
          ],
          "parcoords": [
           {
            "line": {
             "colorbar": {
              "outlinewidth": 0,
              "ticks": ""
             }
            },
            "type": "parcoords"
           }
          ],
          "pie": [
           {
            "automargin": true,
            "type": "pie"
           }
          ],
          "scatter": [
           {
            "fillpattern": {
             "fillmode": "overlay",
             "size": 10,
             "solidity": 0.2
            },
            "type": "scatter"
           }
          ],
          "scatter3d": [
           {
            "line": {
             "colorbar": {
              "outlinewidth": 0,
              "ticks": ""
             }
            },
            "marker": {
             "colorbar": {
              "outlinewidth": 0,
              "ticks": ""
             }
            },
            "type": "scatter3d"
           }
          ],
          "scattercarpet": [
           {
            "marker": {
             "colorbar": {
              "outlinewidth": 0,
              "ticks": ""
             }
            },
            "type": "scattercarpet"
           }
          ],
          "scattergeo": [
           {
            "marker": {
             "colorbar": {
              "outlinewidth": 0,
              "ticks": ""
             }
            },
            "type": "scattergeo"
           }
          ],
          "scattergl": [
           {
            "marker": {
             "colorbar": {
              "outlinewidth": 0,
              "ticks": ""
             }
            },
            "type": "scattergl"
           }
          ],
          "scattermap": [
           {
            "marker": {
             "colorbar": {
              "outlinewidth": 0,
              "ticks": ""
             }
            },
            "type": "scattermap"
           }
          ],
          "scattermapbox": [
           {
            "marker": {
             "colorbar": {
              "outlinewidth": 0,
              "ticks": ""
             }
            },
            "type": "scattermapbox"
           }
          ],
          "scatterpolar": [
           {
            "marker": {
             "colorbar": {
              "outlinewidth": 0,
              "ticks": ""
             }
            },
            "type": "scatterpolar"
           }
          ],
          "scatterpolargl": [
           {
            "marker": {
             "colorbar": {
              "outlinewidth": 0,
              "ticks": ""
             }
            },
            "type": "scatterpolargl"
           }
          ],
          "scatterternary": [
           {
            "marker": {
             "colorbar": {
              "outlinewidth": 0,
              "ticks": ""
             }
            },
            "type": "scatterternary"
           }
          ],
          "surface": [
           {
            "colorbar": {
             "outlinewidth": 0,
             "ticks": ""
            },
            "colorscale": [
             [
              0,
              "#0d0887"
             ],
             [
              0.1111111111111111,
              "#46039f"
             ],
             [
              0.2222222222222222,
              "#7201a8"
             ],
             [
              0.3333333333333333,
              "#9c179e"
             ],
             [
              0.4444444444444444,
              "#bd3786"
             ],
             [
              0.5555555555555556,
              "#d8576b"
             ],
             [
              0.6666666666666666,
              "#ed7953"
             ],
             [
              0.7777777777777778,
              "#fb9f3a"
             ],
             [
              0.8888888888888888,
              "#fdca26"
             ],
             [
              1,
              "#f0f921"
             ]
            ],
            "type": "surface"
           }
          ],
          "table": [
           {
            "cells": {
             "fill": {
              "color": "#EBF0F8"
             },
             "line": {
              "color": "white"
             }
            },
            "header": {
             "fill": {
              "color": "#C8D4E3"
             },
             "line": {
              "color": "white"
             }
            },
            "type": "table"
           }
          ]
         },
         "layout": {
          "annotationdefaults": {
           "arrowcolor": "#2a3f5f",
           "arrowhead": 0,
           "arrowwidth": 1
          },
          "autotypenumbers": "strict",
          "coloraxis": {
           "colorbar": {
            "outlinewidth": 0,
            "ticks": ""
           }
          },
          "colorscale": {
           "diverging": [
            [
             0,
             "#8e0152"
            ],
            [
             0.1,
             "#c51b7d"
            ],
            [
             0.2,
             "#de77ae"
            ],
            [
             0.3,
             "#f1b6da"
            ],
            [
             0.4,
             "#fde0ef"
            ],
            [
             0.5,
             "#f7f7f7"
            ],
            [
             0.6,
             "#e6f5d0"
            ],
            [
             0.7,
             "#b8e186"
            ],
            [
             0.8,
             "#7fbc41"
            ],
            [
             0.9,
             "#4d9221"
            ],
            [
             1,
             "#276419"
            ]
           ],
           "sequential": [
            [
             0,
             "#0d0887"
            ],
            [
             0.1111111111111111,
             "#46039f"
            ],
            [
             0.2222222222222222,
             "#7201a8"
            ],
            [
             0.3333333333333333,
             "#9c179e"
            ],
            [
             0.4444444444444444,
             "#bd3786"
            ],
            [
             0.5555555555555556,
             "#d8576b"
            ],
            [
             0.6666666666666666,
             "#ed7953"
            ],
            [
             0.7777777777777778,
             "#fb9f3a"
            ],
            [
             0.8888888888888888,
             "#fdca26"
            ],
            [
             1,
             "#f0f921"
            ]
           ],
           "sequentialminus": [
            [
             0,
             "#0d0887"
            ],
            [
             0.1111111111111111,
             "#46039f"
            ],
            [
             0.2222222222222222,
             "#7201a8"
            ],
            [
             0.3333333333333333,
             "#9c179e"
            ],
            [
             0.4444444444444444,
             "#bd3786"
            ],
            [
             0.5555555555555556,
             "#d8576b"
            ],
            [
             0.6666666666666666,
             "#ed7953"
            ],
            [
             0.7777777777777778,
             "#fb9f3a"
            ],
            [
             0.8888888888888888,
             "#fdca26"
            ],
            [
             1,
             "#f0f921"
            ]
           ]
          },
          "colorway": [
           "#636efa",
           "#EF553B",
           "#00cc96",
           "#ab63fa",
           "#FFA15A",
           "#19d3f3",
           "#FF6692",
           "#B6E880",
           "#FF97FF",
           "#FECB52"
          ],
          "font": {
           "color": "#2a3f5f"
          },
          "geo": {
           "bgcolor": "white",
           "lakecolor": "white",
           "landcolor": "#E5ECF6",
           "showlakes": true,
           "showland": true,
           "subunitcolor": "white"
          },
          "hoverlabel": {
           "align": "left"
          },
          "hovermode": "closest",
          "mapbox": {
           "style": "light"
          },
          "paper_bgcolor": "white",
          "plot_bgcolor": "#E5ECF6",
          "polar": {
           "angularaxis": {
            "gridcolor": "white",
            "linecolor": "white",
            "ticks": ""
           },
           "bgcolor": "#E5ECF6",
           "radialaxis": {
            "gridcolor": "white",
            "linecolor": "white",
            "ticks": ""
           }
          },
          "scene": {
           "xaxis": {
            "backgroundcolor": "#E5ECF6",
            "gridcolor": "white",
            "gridwidth": 2,
            "linecolor": "white",
            "showbackground": true,
            "ticks": "",
            "zerolinecolor": "white"
           },
           "yaxis": {
            "backgroundcolor": "#E5ECF6",
            "gridcolor": "white",
            "gridwidth": 2,
            "linecolor": "white",
            "showbackground": true,
            "ticks": "",
            "zerolinecolor": "white"
           },
           "zaxis": {
            "backgroundcolor": "#E5ECF6",
            "gridcolor": "white",
            "gridwidth": 2,
            "linecolor": "white",
            "showbackground": true,
            "ticks": "",
            "zerolinecolor": "white"
           }
          },
          "shapedefaults": {
           "line": {
            "color": "#2a3f5f"
           }
          },
          "ternary": {
           "aaxis": {
            "gridcolor": "white",
            "linecolor": "white",
            "ticks": ""
           },
           "baxis": {
            "gridcolor": "white",
            "linecolor": "white",
            "ticks": ""
           },
           "bgcolor": "#E5ECF6",
           "caxis": {
            "gridcolor": "white",
            "linecolor": "white",
            "ticks": ""
           }
          },
          "title": {
           "x": 0.05
          },
          "xaxis": {
           "automargin": true,
           "gridcolor": "white",
           "linecolor": "white",
           "ticks": "",
           "title": {
            "standoff": 15
           },
           "zerolinecolor": "white",
           "zerolinewidth": 2
          },
          "yaxis": {
           "automargin": true,
           "gridcolor": "white",
           "linecolor": "white",
           "ticks": "",
           "title": {
            "standoff": 15
           },
           "zerolinecolor": "white",
           "zerolinewidth": 2
          }
         }
        },
        "title": {
         "text": "Reference Frame at Origin and Point P"
        },
        "width": 600,
        "xaxis": {
         "gridcolor": "lightgray",
         "gridwidth": 1,
         "range": [
          -0.1,
          1.5
         ],
         "showgrid": true,
         "title": {
          "text": ""
         },
         "zeroline": true,
         "zerolinecolor": "gray",
         "zerolinewidth": 2
        },
        "yaxis": {
         "gridcolor": "lightgray",
         "gridwidth": 1,
         "range": [
          -0.1,
          1.5
         ],
         "scaleanchor": "x",
         "scaleratio": 1,
         "showgrid": true,
         "title": {
          "text": ""
         },
         "zeroline": true,
         "zerolinecolor": "gray",
         "zerolinewidth": 2
        }
       }
      }
     },
     "metadata": {},
     "output_type": "display_data"
    }
   ],
   "source": [
    "import numpy as np\n",
    "import plotly.graph_objects as go\n",
    "\n",
    "# Create a 2D point\n",
    "point = np.array([1, 1])\n",
    "\n",
    "# Create a figure with Plotly\n",
    "fig = go.Figure()\n",
    "\n",
    "# Add the reference frame axes (origin) - with arrows at unit length\n",
    "# X axis with arrow (red) - without text, we'll add it with an annotation\n",
    "fig.add_trace(go.Scatter(\n",
    "    x=[0, 1], y=[0, 0],\n",
    "    mode='lines',  # Removed text from here\n",
    "    line=dict(color='red', width=2),\n",
    "    name='X Axis'\n",
    "))\n",
    "\n",
    "# Add arrow and label X for X axis\n",
    "fig.add_annotation(\n",
    "    x=1, y=0,\n",
    "    ax=0.8, ay=0,\n",
    "    xref=\"x\", yref=\"y\",\n",
    "    axref=\"x\", ayref=\"y\",\n",
    "    showarrow=True,\n",
    "    arrowhead=2,\n",
    "    arrowsize=1.5,\n",
    "    arrowwidth=2,\n",
    "    arrowcolor='red'\n",
    ")\n",
    "\n",
    "# Add X label as separate annotation for better positioning\n",
    "fig.add_annotation(\n",
    "    x=1.05,  # Positioned slightly after the axis end\n",
    "    y=-0.05,  # Slightly below the axis\n",
    "    text=\"X\",\n",
    "    showarrow=False,\n",
    "    font=dict(color='red', size=14),\n",
    "    xref=\"x\", yref=\"y\"\n",
    ")\n",
    "\n",
    "# Y axis with arrow (green) - without text\n",
    "fig.add_trace(go.Scatter(\n",
    "    x=[0, 0], y=[0, 1],\n",
    "    mode='lines',  # Removed text from here\n",
    "    line=dict(color='green', width=2),\n",
    "    name='Y Axis'\n",
    "))\n",
    "\n",
    "# Add arrow for Y axis\n",
    "fig.add_annotation(\n",
    "    x=0, y=1,\n",
    "    ax=0, ay=0.8,\n",
    "    xref=\"x\", yref=\"y\",\n",
    "    axref=\"x\", ayref=\"y\",\n",
    "    showarrow=True,\n",
    "    arrowhead=2,\n",
    "    arrowsize=1.5,\n",
    "    arrowwidth=2,\n",
    "    arrowcolor='green'\n",
    ")\n",
    "\n",
    "# Add Y label as separate annotation for better positioning\n",
    "fig.add_annotation(\n",
    "    x=-0.05,  # Slightly to the left of the axis\n",
    "    y=1.05,   # Positioned slightly above the axis end\n",
    "    text=\"Y\",\n",
    "    showarrow=False,\n",
    "    font=dict(color='green', size=14),\n",
    "    xref=\"x\", yref=\"y\"\n",
    ")\n",
    "\n",
    "# Add the origin\n",
    "fig.add_trace(go.Scatter(\n",
    "    x=[0], y=[0],\n",
    "    mode='markers',\n",
    "    marker=dict(color='black', size=8, symbol='circle'),\n",
    "    name='Origin'\n",
    "))\n",
    "\n",
    "# Add the point\n",
    "fig.add_trace(go.Scatter(\n",
    "    x=[point[0]], y=[point[1]],\n",
    "    mode='markers+text',\n",
    "    marker=dict(color='blue', size=10),\n",
    "    text=['P'],\n",
    "    textposition=\"top center\",\n",
    "    name=f\"Point P ({point[0]}, {point[1]})\"\n",
    "))\n",
    "\n",
    "# Calculate the middle point of the line for exact positioning\n",
    "mid_x = (0 + point[0]) / 2\n",
    "mid_y = (0 + point[1]) / 2\n",
    "\n",
    "# Draw a dashed line from the origin to the point\n",
    "fig.add_trace(go.Scatter(\n",
    "    x=[0, point[0]], y=[0, point[1]],\n",
    "    mode='lines',\n",
    "    line=dict(color='blue', width=1, dash='dash'),\n",
    "    name='Connection to frame'\n",
    "))\n",
    "\n",
    "# Add the coordinates as an annotation directly on the line\n",
    "fig.add_annotation(\n",
    "    x=mid_x,\n",
    "    y=mid_y,\n",
    "    text=f\"({point[0]}, {point[1]})\",\n",
    "    showarrow=False,\n",
    "    font=dict(color='blue', size=12),\n",
    "    bgcolor='rgba(255, 255, 255, 0.7)',  # Semi-transparent white background\n",
    "    bordercolor='blue',\n",
    "    borderwidth=1,\n",
    "    borderpad=3\n",
    ")\n",
    "\n",
    "# Add projections on the axes as dotted lines\n",
    "# Projection on X axis - using annotation instead of text in scatter\n",
    "fig.add_trace(go.Scatter(\n",
    "    x=[0, point[0]], y=[0, 0],\n",
    "    mode='lines',\n",
    "    line=dict(color='blue', width=1, dash='dot'),\n",
    "    name='X Projection'\n",
    "))\n",
    "\n",
    "# Add X projection label as annotation\n",
    "fig.add_annotation(\n",
    "    x=point[0]/2,\n",
    "    y=-0.07,\n",
    "    text=f\"x={point[0]}\",\n",
    "    showarrow=False,\n",
    "    font=dict(color='blue', size=12),\n",
    "    xref=\"x\", yref=\"y\"\n",
    ")\n",
    "\n",
    "# Projection on Y axis - using annotation instead of text in scatter\n",
    "fig.add_trace(go.Scatter(\n",
    "    x=[0, 0], y=[0, point[1]],\n",
    "    mode='lines',\n",
    "    line=dict(color='blue', width=1, dash='dot'),\n",
    "    name='Y Projection'\n",
    "))\n",
    "\n",
    "# Add Y projection label as annotation\n",
    "fig.add_annotation(\n",
    "    x=-0.07,\n",
    "    y=point[1]/2,\n",
    "    text=f\"y={point[1]}\",\n",
    "    showarrow=False,\n",
    "    font=dict(color='blue', size=12),\n",
    "    xref=\"x\", yref=\"y\"\n",
    ")\n",
    "\n",
    "# Perpendicular lines from the point to the axes\n",
    "fig.add_trace(go.Scatter(\n",
    "    x=[point[0], point[0]], y=[0, point[1]],\n",
    "    mode='lines',\n",
    "    line=dict(color='gray', width=1, dash='dot'),\n",
    "    name='Coordinates'\n",
    "))\n",
    "\n",
    "# Configure the figure\n",
    "fig.update_layout(\n",
    "    title=\"Reference Frame at Origin and Point P\",\n",
    "    xaxis=dict(range=[-0.1, 1.5], title=\"\"),  # Adjusted range for better visualization\n",
    "    yaxis=dict(range=[-0.1, 1.5], title=\"\"),\n",
    "    width=600, height=600,\n",
    "    plot_bgcolor='white',\n",
    "    yaxis_scaleanchor=\"x\",  # Ensures that X and Y scales are equal\n",
    "    yaxis_scaleratio=1\n",
    ")\n",
    "\n",
    "# Grid\n",
    "fig.update_xaxes(showgrid=True, gridwidth=1, gridcolor='lightgray', zeroline=True, zerolinewidth=2, zerolinecolor='gray')\n",
    "fig.update_yaxes(showgrid=True, gridwidth=1, gridcolor='lightgray', zeroline=True, zerolinewidth=2, zerolinecolor='gray')\n",
    "\n",
    "fig.show()"
   ]
  },
  {
   "cell_type": "markdown",
   "id": "bbc26b96",
   "metadata": {},
   "source": [
    "## Examples Using the New Functions"
   ]
  },
  {
   "cell_type": "code",
   "execution_count": 5,
   "id": "72bc991b",
   "metadata": {},
   "outputs": [
    {
     "data": {
      "application/vnd.plotly.v1+json": {
       "config": {
        "plotlyServerURL": "https://plot.ly"
       },
       "data": [
        {
         "line": {
          "color": "red",
          "width": 2
         },
         "mode": "lines",
         "name": "X Axis",
         "type": "scatter",
         "x": [
          0,
          1
         ],
         "y": [
          0,
          0
         ]
        },
        {
         "line": {
          "color": "green",
          "width": 2
         },
         "mode": "lines",
         "name": "Y Axis",
         "type": "scatter",
         "x": [
          0,
          0
         ],
         "y": [
          0,
          1
         ]
        },
        {
         "marker": {
          "color": "black",
          "size": 8,
          "symbol": "circle"
         },
         "mode": "markers",
         "name": "Origin",
         "type": "scatter",
         "x": [
          0
         ],
         "y": [
          0
         ]
        },
        {
         "marker": {
          "color": "blue",
          "size": 10
         },
         "mode": "markers+text",
         "name": "Point P (1, 1)",
         "text": [
          "P"
         ],
         "textposition": "top center",
         "type": "scatter",
         "x": [
          1
         ],
         "y": [
          1
         ]
        },
        {
         "line": {
          "color": "blue",
          "dash": "dash",
          "width": 1
         },
         "mode": "lines",
         "name": "Connection to P",
         "type": "scatter",
         "x": [
          0,
          1
         ],
         "y": [
          0,
          1
         ]
        }
       ],
       "layout": {
        "annotations": [
         {
          "arrowcolor": "red",
          "arrowhead": 2,
          "arrowsize": 1.5,
          "arrowwidth": 2,
          "ax": 0.8,
          "axref": "x",
          "ay": 0,
          "ayref": "y",
          "showarrow": true,
          "x": 1,
          "xref": "x",
          "y": 0,
          "yref": "y"
         },
         {
          "arrowcolor": "green",
          "arrowhead": 2,
          "arrowsize": 1.5,
          "arrowwidth": 2,
          "ax": 0,
          "axref": "x",
          "ay": 0.8,
          "ayref": "y",
          "showarrow": true,
          "x": 0,
          "xref": "x",
          "y": 1,
          "yref": "y"
         },
         {
          "font": {
           "color": "red",
           "size": 14
          },
          "showarrow": false,
          "text": "X",
          "x": 1,
          "xref": "x",
          "y": -0.05,
          "yref": "y"
         },
         {
          "font": {
           "color": "green",
           "size": 14
          },
          "showarrow": false,
          "text": "Y",
          "x": 0.05,
          "xref": "x",
          "y": 1,
          "yref": "y"
         },
         {
          "bgcolor": "rgba(255, 255, 255, 0.7)",
          "bordercolor": "blue",
          "borderpad": 3,
          "borderwidth": 1,
          "font": {
           "color": "blue",
           "size": 12
          },
          "showarrow": false,
          "text": "(1.0, 1.0)",
          "x": 0.5,
          "y": 0.5
         }
        ],
        "height": 700,
        "plot_bgcolor": "white",
        "template": {
         "data": {
          "bar": [
           {
            "error_x": {
             "color": "#2a3f5f"
            },
            "error_y": {
             "color": "#2a3f5f"
            },
            "marker": {
             "line": {
              "color": "#E5ECF6",
              "width": 0.5
             },
             "pattern": {
              "fillmode": "overlay",
              "size": 10,
              "solidity": 0.2
             }
            },
            "type": "bar"
           }
          ],
          "barpolar": [
           {
            "marker": {
             "line": {
              "color": "#E5ECF6",
              "width": 0.5
             },
             "pattern": {
              "fillmode": "overlay",
              "size": 10,
              "solidity": 0.2
             }
            },
            "type": "barpolar"
           }
          ],
          "carpet": [
           {
            "aaxis": {
             "endlinecolor": "#2a3f5f",
             "gridcolor": "white",
             "linecolor": "white",
             "minorgridcolor": "white",
             "startlinecolor": "#2a3f5f"
            },
            "baxis": {
             "endlinecolor": "#2a3f5f",
             "gridcolor": "white",
             "linecolor": "white",
             "minorgridcolor": "white",
             "startlinecolor": "#2a3f5f"
            },
            "type": "carpet"
           }
          ],
          "choropleth": [
           {
            "colorbar": {
             "outlinewidth": 0,
             "ticks": ""
            },
            "type": "choropleth"
           }
          ],
          "contour": [
           {
            "colorbar": {
             "outlinewidth": 0,
             "ticks": ""
            },
            "colorscale": [
             [
              0,
              "#0d0887"
             ],
             [
              0.1111111111111111,
              "#46039f"
             ],
             [
              0.2222222222222222,
              "#7201a8"
             ],
             [
              0.3333333333333333,
              "#9c179e"
             ],
             [
              0.4444444444444444,
              "#bd3786"
             ],
             [
              0.5555555555555556,
              "#d8576b"
             ],
             [
              0.6666666666666666,
              "#ed7953"
             ],
             [
              0.7777777777777778,
              "#fb9f3a"
             ],
             [
              0.8888888888888888,
              "#fdca26"
             ],
             [
              1,
              "#f0f921"
             ]
            ],
            "type": "contour"
           }
          ],
          "contourcarpet": [
           {
            "colorbar": {
             "outlinewidth": 0,
             "ticks": ""
            },
            "type": "contourcarpet"
           }
          ],
          "heatmap": [
           {
            "colorbar": {
             "outlinewidth": 0,
             "ticks": ""
            },
            "colorscale": [
             [
              0,
              "#0d0887"
             ],
             [
              0.1111111111111111,
              "#46039f"
             ],
             [
              0.2222222222222222,
              "#7201a8"
             ],
             [
              0.3333333333333333,
              "#9c179e"
             ],
             [
              0.4444444444444444,
              "#bd3786"
             ],
             [
              0.5555555555555556,
              "#d8576b"
             ],
             [
              0.6666666666666666,
              "#ed7953"
             ],
             [
              0.7777777777777778,
              "#fb9f3a"
             ],
             [
              0.8888888888888888,
              "#fdca26"
             ],
             [
              1,
              "#f0f921"
             ]
            ],
            "type": "heatmap"
           }
          ],
          "histogram": [
           {
            "marker": {
             "pattern": {
              "fillmode": "overlay",
              "size": 10,
              "solidity": 0.2
             }
            },
            "type": "histogram"
           }
          ],
          "histogram2d": [
           {
            "colorbar": {
             "outlinewidth": 0,
             "ticks": ""
            },
            "colorscale": [
             [
              0,
              "#0d0887"
             ],
             [
              0.1111111111111111,
              "#46039f"
             ],
             [
              0.2222222222222222,
              "#7201a8"
             ],
             [
              0.3333333333333333,
              "#9c179e"
             ],
             [
              0.4444444444444444,
              "#bd3786"
             ],
             [
              0.5555555555555556,
              "#d8576b"
             ],
             [
              0.6666666666666666,
              "#ed7953"
             ],
             [
              0.7777777777777778,
              "#fb9f3a"
             ],
             [
              0.8888888888888888,
              "#fdca26"
             ],
             [
              1,
              "#f0f921"
             ]
            ],
            "type": "histogram2d"
           }
          ],
          "histogram2dcontour": [
           {
            "colorbar": {
             "outlinewidth": 0,
             "ticks": ""
            },
            "colorscale": [
             [
              0,
              "#0d0887"
             ],
             [
              0.1111111111111111,
              "#46039f"
             ],
             [
              0.2222222222222222,
              "#7201a8"
             ],
             [
              0.3333333333333333,
              "#9c179e"
             ],
             [
              0.4444444444444444,
              "#bd3786"
             ],
             [
              0.5555555555555556,
              "#d8576b"
             ],
             [
              0.6666666666666666,
              "#ed7953"
             ],
             [
              0.7777777777777778,
              "#fb9f3a"
             ],
             [
              0.8888888888888888,
              "#fdca26"
             ],
             [
              1,
              "#f0f921"
             ]
            ],
            "type": "histogram2dcontour"
           }
          ],
          "mesh3d": [
           {
            "colorbar": {
             "outlinewidth": 0,
             "ticks": ""
            },
            "type": "mesh3d"
           }
          ],
          "parcoords": [
           {
            "line": {
             "colorbar": {
              "outlinewidth": 0,
              "ticks": ""
             }
            },
            "type": "parcoords"
           }
          ],
          "pie": [
           {
            "automargin": true,
            "type": "pie"
           }
          ],
          "scatter": [
           {
            "fillpattern": {
             "fillmode": "overlay",
             "size": 10,
             "solidity": 0.2
            },
            "type": "scatter"
           }
          ],
          "scatter3d": [
           {
            "line": {
             "colorbar": {
              "outlinewidth": 0,
              "ticks": ""
             }
            },
            "marker": {
             "colorbar": {
              "outlinewidth": 0,
              "ticks": ""
             }
            },
            "type": "scatter3d"
           }
          ],
          "scattercarpet": [
           {
            "marker": {
             "colorbar": {
              "outlinewidth": 0,
              "ticks": ""
             }
            },
            "type": "scattercarpet"
           }
          ],
          "scattergeo": [
           {
            "marker": {
             "colorbar": {
              "outlinewidth": 0,
              "ticks": ""
             }
            },
            "type": "scattergeo"
           }
          ],
          "scattergl": [
           {
            "marker": {
             "colorbar": {
              "outlinewidth": 0,
              "ticks": ""
             }
            },
            "type": "scattergl"
           }
          ],
          "scattermap": [
           {
            "marker": {
             "colorbar": {
              "outlinewidth": 0,
              "ticks": ""
             }
            },
            "type": "scattermap"
           }
          ],
          "scattermapbox": [
           {
            "marker": {
             "colorbar": {
              "outlinewidth": 0,
              "ticks": ""
             }
            },
            "type": "scattermapbox"
           }
          ],
          "scatterpolar": [
           {
            "marker": {
             "colorbar": {
              "outlinewidth": 0,
              "ticks": ""
             }
            },
            "type": "scatterpolar"
           }
          ],
          "scatterpolargl": [
           {
            "marker": {
             "colorbar": {
              "outlinewidth": 0,
              "ticks": ""
             }
            },
            "type": "scatterpolargl"
           }
          ],
          "scatterternary": [
           {
            "marker": {
             "colorbar": {
              "outlinewidth": 0,
              "ticks": ""
             }
            },
            "type": "scatterternary"
           }
          ],
          "surface": [
           {
            "colorbar": {
             "outlinewidth": 0,
             "ticks": ""
            },
            "colorscale": [
             [
              0,
              "#0d0887"
             ],
             [
              0.1111111111111111,
              "#46039f"
             ],
             [
              0.2222222222222222,
              "#7201a8"
             ],
             [
              0.3333333333333333,
              "#9c179e"
             ],
             [
              0.4444444444444444,
              "#bd3786"
             ],
             [
              0.5555555555555556,
              "#d8576b"
             ],
             [
              0.6666666666666666,
              "#ed7953"
             ],
             [
              0.7777777777777778,
              "#fb9f3a"
             ],
             [
              0.8888888888888888,
              "#fdca26"
             ],
             [
              1,
              "#f0f921"
             ]
            ],
            "type": "surface"
           }
          ],
          "table": [
           {
            "cells": {
             "fill": {
              "color": "#EBF0F8"
             },
             "line": {
              "color": "white"
             }
            },
            "header": {
             "fill": {
              "color": "#C8D4E3"
             },
             "line": {
              "color": "white"
             }
            },
            "type": "table"
           }
          ]
         },
         "layout": {
          "annotationdefaults": {
           "arrowcolor": "#2a3f5f",
           "arrowhead": 0,
           "arrowwidth": 1
          },
          "autotypenumbers": "strict",
          "coloraxis": {
           "colorbar": {
            "outlinewidth": 0,
            "ticks": ""
           }
          },
          "colorscale": {
           "diverging": [
            [
             0,
             "#8e0152"
            ],
            [
             0.1,
             "#c51b7d"
            ],
            [
             0.2,
             "#de77ae"
            ],
            [
             0.3,
             "#f1b6da"
            ],
            [
             0.4,
             "#fde0ef"
            ],
            [
             0.5,
             "#f7f7f7"
            ],
            [
             0.6,
             "#e6f5d0"
            ],
            [
             0.7,
             "#b8e186"
            ],
            [
             0.8,
             "#7fbc41"
            ],
            [
             0.9,
             "#4d9221"
            ],
            [
             1,
             "#276419"
            ]
           ],
           "sequential": [
            [
             0,
             "#0d0887"
            ],
            [
             0.1111111111111111,
             "#46039f"
            ],
            [
             0.2222222222222222,
             "#7201a8"
            ],
            [
             0.3333333333333333,
             "#9c179e"
            ],
            [
             0.4444444444444444,
             "#bd3786"
            ],
            [
             0.5555555555555556,
             "#d8576b"
            ],
            [
             0.6666666666666666,
             "#ed7953"
            ],
            [
             0.7777777777777778,
             "#fb9f3a"
            ],
            [
             0.8888888888888888,
             "#fdca26"
            ],
            [
             1,
             "#f0f921"
            ]
           ],
           "sequentialminus": [
            [
             0,
             "#0d0887"
            ],
            [
             0.1111111111111111,
             "#46039f"
            ],
            [
             0.2222222222222222,
             "#7201a8"
            ],
            [
             0.3333333333333333,
             "#9c179e"
            ],
            [
             0.4444444444444444,
             "#bd3786"
            ],
            [
             0.5555555555555556,
             "#d8576b"
            ],
            [
             0.6666666666666666,
             "#ed7953"
            ],
            [
             0.7777777777777778,
             "#fb9f3a"
            ],
            [
             0.8888888888888888,
             "#fdca26"
            ],
            [
             1,
             "#f0f921"
            ]
           ]
          },
          "colorway": [
           "#636efa",
           "#EF553B",
           "#00cc96",
           "#ab63fa",
           "#FFA15A",
           "#19d3f3",
           "#FF6692",
           "#B6E880",
           "#FF97FF",
           "#FECB52"
          ],
          "font": {
           "color": "#2a3f5f"
          },
          "geo": {
           "bgcolor": "white",
           "lakecolor": "white",
           "landcolor": "#E5ECF6",
           "showlakes": true,
           "showland": true,
           "subunitcolor": "white"
          },
          "hoverlabel": {
           "align": "left"
          },
          "hovermode": "closest",
          "mapbox": {
           "style": "light"
          },
          "paper_bgcolor": "white",
          "plot_bgcolor": "#E5ECF6",
          "polar": {
           "angularaxis": {
            "gridcolor": "white",
            "linecolor": "white",
            "ticks": ""
           },
           "bgcolor": "#E5ECF6",
           "radialaxis": {
            "gridcolor": "white",
            "linecolor": "white",
            "ticks": ""
           }
          },
          "scene": {
           "xaxis": {
            "backgroundcolor": "#E5ECF6",
            "gridcolor": "white",
            "gridwidth": 2,
            "linecolor": "white",
            "showbackground": true,
            "ticks": "",
            "zerolinecolor": "white"
           },
           "yaxis": {
            "backgroundcolor": "#E5ECF6",
            "gridcolor": "white",
            "gridwidth": 2,
            "linecolor": "white",
            "showbackground": true,
            "ticks": "",
            "zerolinecolor": "white"
           },
           "zaxis": {
            "backgroundcolor": "#E5ECF6",
            "gridcolor": "white",
            "gridwidth": 2,
            "linecolor": "white",
            "showbackground": true,
            "ticks": "",
            "zerolinecolor": "white"
           }
          },
          "shapedefaults": {
           "line": {
            "color": "#2a3f5f"
           }
          },
          "ternary": {
           "aaxis": {
            "gridcolor": "white",
            "linecolor": "white",
            "ticks": ""
           },
           "baxis": {
            "gridcolor": "white",
            "linecolor": "white",
            "ticks": ""
           },
           "bgcolor": "#E5ECF6",
           "caxis": {
            "gridcolor": "white",
            "linecolor": "white",
            "ticks": ""
           }
          },
          "title": {
           "x": 0.05
          },
          "xaxis": {
           "automargin": true,
           "gridcolor": "white",
           "linecolor": "white",
           "ticks": "",
           "title": {
            "standoff": 15
           },
           "zerolinecolor": "white",
           "zerolinewidth": 2
          },
          "yaxis": {
           "automargin": true,
           "gridcolor": "white",
           "linecolor": "white",
           "ticks": "",
           "title": {
            "standoff": 15
           },
           "zerolinecolor": "white",
           "zerolinewidth": 2
          }
         }
        },
        "title": {
         "text": "2D Reference Frames and Points"
        },
        "width": 700,
        "xaxis": {
         "gridcolor": "lightgray",
         "gridwidth": 1,
         "range": [
          -2,
          2
         ],
         "showgrid": true,
         "title": {
          "text": ""
         },
         "zeroline": true,
         "zerolinecolor": "gray",
         "zerolinewidth": 2
        },
        "yaxis": {
         "gridcolor": "lightgray",
         "gridwidth": 1,
         "range": [
          -2,
          2
         ],
         "scaleanchor": "x",
         "scaleratio": 1,
         "showgrid": true,
         "title": {
          "text": ""
         },
         "zeroline": true,
         "zerolinecolor": "gray",
         "zerolinewidth": 2
        }
       }
      }
     },
     "metadata": {},
     "output_type": "display_data"
    }
   ],
   "source": [
    "# Example 1: Simple reference frame at origin with a point\n",
    "fig = create_2d_visualization(\n",
    "    points=[[1, 1, \"P\", \"blue\", 0]],  # Point at (1,1) showing coords relative to frame 0\n",
    "    frames=[[0, 0, 0, \"\"]]  # Frame at origin with 0 rotation\n",
    ")\n",
    "\n",
    "fig.show()"
   ]
  },
  {
   "cell_type": "code",
   "execution_count": 6,
   "id": "91c888f6",
   "metadata": {},
   "outputs": [
    {
     "data": {
      "application/vnd.plotly.v1+json": {
       "config": {
        "plotlyServerURL": "https://plot.ly"
       },
       "data": [
        {
         "line": {
          "color": "red",
          "width": 2
         },
         "mode": "lines",
         "name": "X Axis",
         "type": "scatter",
         "x": [
          0,
          1
         ],
         "y": [
          0,
          0
         ]
        },
        {
         "line": {
          "color": "green",
          "width": 2
         },
         "mode": "lines",
         "name": "Y Axis",
         "type": "scatter",
         "x": [
          0,
          0
         ],
         "y": [
          0,
          1
         ]
        },
        {
         "marker": {
          "color": "black",
          "size": 8,
          "symbol": "circle"
         },
         "mode": "markers",
         "name": "Origin",
         "type": "scatter",
         "x": [
          0
         ],
         "y": [
          0
         ]
        },
        {
         "line": {
          "color": "red",
          "width": 2
         },
         "mode": "lines",
         "name": "Rotated X Axis",
         "type": "scatter",
         "x": [
          0.5,
          1.3660254037844388
         ],
         "y": [
          0,
          0.49999999999999994
         ]
        },
        {
         "line": {
          "color": "green",
          "width": 2
         },
         "mode": "lines",
         "name": "Rotated Y Axis",
         "type": "scatter",
         "x": [
          0.5,
          5.551115123125783e-17
         ],
         "y": [
          0,
          0.8660254037844387
         ]
        },
        {
         "marker": {
          "color": "black",
          "size": 8,
          "symbol": "circle"
         },
         "mode": "markers",
         "name": "Rotated Origin",
         "type": "scatter",
         "x": [
          0.5
         ],
         "y": [
          0
         ]
        },
        {
         "marker": {
          "color": "blue",
          "size": 10
         },
         "mode": "markers+text",
         "name": "Point P (1.5, 1)",
         "text": [
          "P"
         ],
         "textposition": "top center",
         "type": "scatter",
         "x": [
          1.5
         ],
         "y": [
          1
         ]
        },
        {
         "line": {
          "color": "blue",
          "dash": "dash",
          "width": 1
         },
         "mode": "lines",
         "name": "Connection to P",
         "type": "scatter",
         "x": [
          0.5,
          1.5
         ],
         "y": [
          0,
          1
         ]
        }
       ],
       "layout": {
        "annotations": [
         {
          "arrowcolor": "red",
          "arrowhead": 2,
          "arrowsize": 1.5,
          "arrowwidth": 2,
          "ax": 0.8,
          "axref": "x",
          "ay": 0,
          "ayref": "y",
          "showarrow": true,
          "x": 1,
          "xref": "x",
          "y": 0,
          "yref": "y"
         },
         {
          "arrowcolor": "green",
          "arrowhead": 2,
          "arrowsize": 1.5,
          "arrowwidth": 2,
          "ax": 0,
          "axref": "x",
          "ay": 0.8,
          "ayref": "y",
          "showarrow": true,
          "x": 0,
          "xref": "x",
          "y": 1,
          "yref": "y"
         },
         {
          "font": {
           "color": "red",
           "size": 14
          },
          "showarrow": false,
          "text": "X",
          "x": 1,
          "xref": "x",
          "y": -0.05,
          "yref": "y"
         },
         {
          "font": {
           "color": "green",
           "size": 14
          },
          "showarrow": false,
          "text": "Y",
          "x": 0.05,
          "xref": "x",
          "y": 1,
          "yref": "y"
         },
         {
          "arrowcolor": "red",
          "arrowhead": 2,
          "arrowsize": 1.5,
          "arrowwidth": 2,
          "ax": 1.1928203230275511,
          "axref": "x",
          "ay": 0.39999999999999997,
          "ayref": "y",
          "showarrow": true,
          "x": 1.3660254037844388,
          "xref": "x",
          "y": 0.49999999999999994,
          "yref": "y"
         },
         {
          "arrowcolor": "green",
          "arrowhead": 2,
          "arrowsize": 1.5,
          "arrowwidth": 2,
          "ax": 0.10000000000000005,
          "axref": "x",
          "ay": 0.6928203230275509,
          "ayref": "y",
          "showarrow": true,
          "x": 5.551115123125783e-17,
          "xref": "x",
          "y": 0.8660254037844387,
          "yref": "y"
         },
         {
          "font": {
           "color": "red",
           "size": 14
          },
          "showarrow": false,
          "text": "X",
          "x": 1.3910254037844387,
          "xref": "x",
          "y": 0.456698729810778,
          "yref": "y"
         },
         {
          "font": {
           "color": "green",
           "size": 14
          },
          "showarrow": false,
          "text": "Y",
          "x": 0.043301270189221995,
          "xref": "x",
          "y": 0.8910254037844387,
          "yref": "y"
         },
         {
          "bgcolor": "rgba(255, 255, 255, 0.7)",
          "bordercolor": "blue",
          "borderpad": 3,
          "borderwidth": 1,
          "font": {
           "color": "blue",
           "size": 12
          },
          "showarrow": false,
          "text": "(1.37, 0.37)",
          "x": 1,
          "y": 0.5
         }
        ],
        "height": 700,
        "plot_bgcolor": "white",
        "template": {
         "data": {
          "bar": [
           {
            "error_x": {
             "color": "#2a3f5f"
            },
            "error_y": {
             "color": "#2a3f5f"
            },
            "marker": {
             "line": {
              "color": "#E5ECF6",
              "width": 0.5
             },
             "pattern": {
              "fillmode": "overlay",
              "size": 10,
              "solidity": 0.2
             }
            },
            "type": "bar"
           }
          ],
          "barpolar": [
           {
            "marker": {
             "line": {
              "color": "#E5ECF6",
              "width": 0.5
             },
             "pattern": {
              "fillmode": "overlay",
              "size": 10,
              "solidity": 0.2
             }
            },
            "type": "barpolar"
           }
          ],
          "carpet": [
           {
            "aaxis": {
             "endlinecolor": "#2a3f5f",
             "gridcolor": "white",
             "linecolor": "white",
             "minorgridcolor": "white",
             "startlinecolor": "#2a3f5f"
            },
            "baxis": {
             "endlinecolor": "#2a3f5f",
             "gridcolor": "white",
             "linecolor": "white",
             "minorgridcolor": "white",
             "startlinecolor": "#2a3f5f"
            },
            "type": "carpet"
           }
          ],
          "choropleth": [
           {
            "colorbar": {
             "outlinewidth": 0,
             "ticks": ""
            },
            "type": "choropleth"
           }
          ],
          "contour": [
           {
            "colorbar": {
             "outlinewidth": 0,
             "ticks": ""
            },
            "colorscale": [
             [
              0,
              "#0d0887"
             ],
             [
              0.1111111111111111,
              "#46039f"
             ],
             [
              0.2222222222222222,
              "#7201a8"
             ],
             [
              0.3333333333333333,
              "#9c179e"
             ],
             [
              0.4444444444444444,
              "#bd3786"
             ],
             [
              0.5555555555555556,
              "#d8576b"
             ],
             [
              0.6666666666666666,
              "#ed7953"
             ],
             [
              0.7777777777777778,
              "#fb9f3a"
             ],
             [
              0.8888888888888888,
              "#fdca26"
             ],
             [
              1,
              "#f0f921"
             ]
            ],
            "type": "contour"
           }
          ],
          "contourcarpet": [
           {
            "colorbar": {
             "outlinewidth": 0,
             "ticks": ""
            },
            "type": "contourcarpet"
           }
          ],
          "heatmap": [
           {
            "colorbar": {
             "outlinewidth": 0,
             "ticks": ""
            },
            "colorscale": [
             [
              0,
              "#0d0887"
             ],
             [
              0.1111111111111111,
              "#46039f"
             ],
             [
              0.2222222222222222,
              "#7201a8"
             ],
             [
              0.3333333333333333,
              "#9c179e"
             ],
             [
              0.4444444444444444,
              "#bd3786"
             ],
             [
              0.5555555555555556,
              "#d8576b"
             ],
             [
              0.6666666666666666,
              "#ed7953"
             ],
             [
              0.7777777777777778,
              "#fb9f3a"
             ],
             [
              0.8888888888888888,
              "#fdca26"
             ],
             [
              1,
              "#f0f921"
             ]
            ],
            "type": "heatmap"
           }
          ],
          "histogram": [
           {
            "marker": {
             "pattern": {
              "fillmode": "overlay",
              "size": 10,
              "solidity": 0.2
             }
            },
            "type": "histogram"
           }
          ],
          "histogram2d": [
           {
            "colorbar": {
             "outlinewidth": 0,
             "ticks": ""
            },
            "colorscale": [
             [
              0,
              "#0d0887"
             ],
             [
              0.1111111111111111,
              "#46039f"
             ],
             [
              0.2222222222222222,
              "#7201a8"
             ],
             [
              0.3333333333333333,
              "#9c179e"
             ],
             [
              0.4444444444444444,
              "#bd3786"
             ],
             [
              0.5555555555555556,
              "#d8576b"
             ],
             [
              0.6666666666666666,
              "#ed7953"
             ],
             [
              0.7777777777777778,
              "#fb9f3a"
             ],
             [
              0.8888888888888888,
              "#fdca26"
             ],
             [
              1,
              "#f0f921"
             ]
            ],
            "type": "histogram2d"
           }
          ],
          "histogram2dcontour": [
           {
            "colorbar": {
             "outlinewidth": 0,
             "ticks": ""
            },
            "colorscale": [
             [
              0,
              "#0d0887"
             ],
             [
              0.1111111111111111,
              "#46039f"
             ],
             [
              0.2222222222222222,
              "#7201a8"
             ],
             [
              0.3333333333333333,
              "#9c179e"
             ],
             [
              0.4444444444444444,
              "#bd3786"
             ],
             [
              0.5555555555555556,
              "#d8576b"
             ],
             [
              0.6666666666666666,
              "#ed7953"
             ],
             [
              0.7777777777777778,
              "#fb9f3a"
             ],
             [
              0.8888888888888888,
              "#fdca26"
             ],
             [
              1,
              "#f0f921"
             ]
            ],
            "type": "histogram2dcontour"
           }
          ],
          "mesh3d": [
           {
            "colorbar": {
             "outlinewidth": 0,
             "ticks": ""
            },
            "type": "mesh3d"
           }
          ],
          "parcoords": [
           {
            "line": {
             "colorbar": {
              "outlinewidth": 0,
              "ticks": ""
             }
            },
            "type": "parcoords"
           }
          ],
          "pie": [
           {
            "automargin": true,
            "type": "pie"
           }
          ],
          "scatter": [
           {
            "fillpattern": {
             "fillmode": "overlay",
             "size": 10,
             "solidity": 0.2
            },
            "type": "scatter"
           }
          ],
          "scatter3d": [
           {
            "line": {
             "colorbar": {
              "outlinewidth": 0,
              "ticks": ""
             }
            },
            "marker": {
             "colorbar": {
              "outlinewidth": 0,
              "ticks": ""
             }
            },
            "type": "scatter3d"
           }
          ],
          "scattercarpet": [
           {
            "marker": {
             "colorbar": {
              "outlinewidth": 0,
              "ticks": ""
             }
            },
            "type": "scattercarpet"
           }
          ],
          "scattergeo": [
           {
            "marker": {
             "colorbar": {
              "outlinewidth": 0,
              "ticks": ""
             }
            },
            "type": "scattergeo"
           }
          ],
          "scattergl": [
           {
            "marker": {
             "colorbar": {
              "outlinewidth": 0,
              "ticks": ""
             }
            },
            "type": "scattergl"
           }
          ],
          "scattermap": [
           {
            "marker": {
             "colorbar": {
              "outlinewidth": 0,
              "ticks": ""
             }
            },
            "type": "scattermap"
           }
          ],
          "scattermapbox": [
           {
            "marker": {
             "colorbar": {
              "outlinewidth": 0,
              "ticks": ""
             }
            },
            "type": "scattermapbox"
           }
          ],
          "scatterpolar": [
           {
            "marker": {
             "colorbar": {
              "outlinewidth": 0,
              "ticks": ""
             }
            },
            "type": "scatterpolar"
           }
          ],
          "scatterpolargl": [
           {
            "marker": {
             "colorbar": {
              "outlinewidth": 0,
              "ticks": ""
             }
            },
            "type": "scatterpolargl"
           }
          ],
          "scatterternary": [
           {
            "marker": {
             "colorbar": {
              "outlinewidth": 0,
              "ticks": ""
             }
            },
            "type": "scatterternary"
           }
          ],
          "surface": [
           {
            "colorbar": {
             "outlinewidth": 0,
             "ticks": ""
            },
            "colorscale": [
             [
              0,
              "#0d0887"
             ],
             [
              0.1111111111111111,
              "#46039f"
             ],
             [
              0.2222222222222222,
              "#7201a8"
             ],
             [
              0.3333333333333333,
              "#9c179e"
             ],
             [
              0.4444444444444444,
              "#bd3786"
             ],
             [
              0.5555555555555556,
              "#d8576b"
             ],
             [
              0.6666666666666666,
              "#ed7953"
             ],
             [
              0.7777777777777778,
              "#fb9f3a"
             ],
             [
              0.8888888888888888,
              "#fdca26"
             ],
             [
              1,
              "#f0f921"
             ]
            ],
            "type": "surface"
           }
          ],
          "table": [
           {
            "cells": {
             "fill": {
              "color": "#EBF0F8"
             },
             "line": {
              "color": "white"
             }
            },
            "header": {
             "fill": {
              "color": "#C8D4E3"
             },
             "line": {
              "color": "white"
             }
            },
            "type": "table"
           }
          ]
         },
         "layout": {
          "annotationdefaults": {
           "arrowcolor": "#2a3f5f",
           "arrowhead": 0,
           "arrowwidth": 1
          },
          "autotypenumbers": "strict",
          "coloraxis": {
           "colorbar": {
            "outlinewidth": 0,
            "ticks": ""
           }
          },
          "colorscale": {
           "diverging": [
            [
             0,
             "#8e0152"
            ],
            [
             0.1,
             "#c51b7d"
            ],
            [
             0.2,
             "#de77ae"
            ],
            [
             0.3,
             "#f1b6da"
            ],
            [
             0.4,
             "#fde0ef"
            ],
            [
             0.5,
             "#f7f7f7"
            ],
            [
             0.6,
             "#e6f5d0"
            ],
            [
             0.7,
             "#b8e186"
            ],
            [
             0.8,
             "#7fbc41"
            ],
            [
             0.9,
             "#4d9221"
            ],
            [
             1,
             "#276419"
            ]
           ],
           "sequential": [
            [
             0,
             "#0d0887"
            ],
            [
             0.1111111111111111,
             "#46039f"
            ],
            [
             0.2222222222222222,
             "#7201a8"
            ],
            [
             0.3333333333333333,
             "#9c179e"
            ],
            [
             0.4444444444444444,
             "#bd3786"
            ],
            [
             0.5555555555555556,
             "#d8576b"
            ],
            [
             0.6666666666666666,
             "#ed7953"
            ],
            [
             0.7777777777777778,
             "#fb9f3a"
            ],
            [
             0.8888888888888888,
             "#fdca26"
            ],
            [
             1,
             "#f0f921"
            ]
           ],
           "sequentialminus": [
            [
             0,
             "#0d0887"
            ],
            [
             0.1111111111111111,
             "#46039f"
            ],
            [
             0.2222222222222222,
             "#7201a8"
            ],
            [
             0.3333333333333333,
             "#9c179e"
            ],
            [
             0.4444444444444444,
             "#bd3786"
            ],
            [
             0.5555555555555556,
             "#d8576b"
            ],
            [
             0.6666666666666666,
             "#ed7953"
            ],
            [
             0.7777777777777778,
             "#fb9f3a"
            ],
            [
             0.8888888888888888,
             "#fdca26"
            ],
            [
             1,
             "#f0f921"
            ]
           ]
          },
          "colorway": [
           "#636efa",
           "#EF553B",
           "#00cc96",
           "#ab63fa",
           "#FFA15A",
           "#19d3f3",
           "#FF6692",
           "#B6E880",
           "#FF97FF",
           "#FECB52"
          ],
          "font": {
           "color": "#2a3f5f"
          },
          "geo": {
           "bgcolor": "white",
           "lakecolor": "white",
           "landcolor": "#E5ECF6",
           "showlakes": true,
           "showland": true,
           "subunitcolor": "white"
          },
          "hoverlabel": {
           "align": "left"
          },
          "hovermode": "closest",
          "mapbox": {
           "style": "light"
          },
          "paper_bgcolor": "white",
          "plot_bgcolor": "#E5ECF6",
          "polar": {
           "angularaxis": {
            "gridcolor": "white",
            "linecolor": "white",
            "ticks": ""
           },
           "bgcolor": "#E5ECF6",
           "radialaxis": {
            "gridcolor": "white",
            "linecolor": "white",
            "ticks": ""
           }
          },
          "scene": {
           "xaxis": {
            "backgroundcolor": "#E5ECF6",
            "gridcolor": "white",
            "gridwidth": 2,
            "linecolor": "white",
            "showbackground": true,
            "ticks": "",
            "zerolinecolor": "white"
           },
           "yaxis": {
            "backgroundcolor": "#E5ECF6",
            "gridcolor": "white",
            "gridwidth": 2,
            "linecolor": "white",
            "showbackground": true,
            "ticks": "",
            "zerolinecolor": "white"
           },
           "zaxis": {
            "backgroundcolor": "#E5ECF6",
            "gridcolor": "white",
            "gridwidth": 2,
            "linecolor": "white",
            "showbackground": true,
            "ticks": "",
            "zerolinecolor": "white"
           }
          },
          "shapedefaults": {
           "line": {
            "color": "#2a3f5f"
           }
          },
          "ternary": {
           "aaxis": {
            "gridcolor": "white",
            "linecolor": "white",
            "ticks": ""
           },
           "baxis": {
            "gridcolor": "white",
            "linecolor": "white",
            "ticks": ""
           },
           "bgcolor": "#E5ECF6",
           "caxis": {
            "gridcolor": "white",
            "linecolor": "white",
            "ticks": ""
           }
          },
          "title": {
           "x": 0.05
          },
          "xaxis": {
           "automargin": true,
           "gridcolor": "white",
           "linecolor": "white",
           "ticks": "",
           "title": {
            "standoff": 15
           },
           "zerolinecolor": "white",
           "zerolinewidth": 2
          },
          "yaxis": {
           "automargin": true,
           "gridcolor": "white",
           "linecolor": "white",
           "ticks": "",
           "title": {
            "standoff": 15
           },
           "zerolinecolor": "white",
           "zerolinewidth": 2
          }
         }
        },
        "title": {
         "text": "2D Reference Frames and Points"
        },
        "width": 700,
        "xaxis": {
         "gridcolor": "lightgray",
         "gridwidth": 1,
         "range": [
          -2,
          2
         ],
         "showgrid": true,
         "title": {
          "text": ""
         },
         "zeroline": true,
         "zerolinecolor": "gray",
         "zerolinewidth": 2
        },
        "yaxis": {
         "gridcolor": "lightgray",
         "gridwidth": 1,
         "range": [
          -2,
          2
         ],
         "scaleanchor": "x",
         "scaleratio": 1,
         "showgrid": true,
         "title": {
          "text": ""
         },
         "zeroline": true,
         "zerolinecolor": "gray",
         "zerolinewidth": 2
        }
       }
      }
     },
     "metadata": {},
     "output_type": "display_data"
    }
   ],
   "source": [
    "# Example 2: Two frames - one at origin, one translated and rotated, with a point\n",
    "fig = create_2d_visualization(\n",
    "    points=[[1.5, 1, \"P\", \"blue\", 1]],  # Point showing coords relative to frame 1\n",
    "    frames=[\n",
    "        [0, 0, 0, \"\"],                # Frame at origin\n",
    "        [0.5, 0, 30, \"Rotated \"]      # Frame at (0.5, 0) rotated 30 degrees\n",
    "    ]\n",
    ")\n",
    "\n",
    "fig.show()"
   ]
  },
  {
   "cell_type": "code",
   "execution_count": 7,
   "id": "bd53d75b",
   "metadata": {},
   "outputs": [
    {
     "data": {
      "application/vnd.jupyter.widget-view+json": {
       "model_id": "f8976baca5a54d7abb39c8564246534e",
       "version_major": 2,
       "version_minor": 0
      },
      "text/plain": [
       "VBox(children=(HBox(children=(FloatText(value=0.5, description='X:', step=0.1), FloatText(value=0.0, descripti…"
      ]
     },
     "metadata": {},
     "output_type": "display_data"
    }
   ],
   "source": [
    "import ipywidgets as widgets\n",
    "from IPython.display import display\n",
    "import plotly.graph_objects as go\n",
    "from IPython.display import clear_output\n",
    "\n",
    "# Create widgets for user input\n",
    "x_input = widgets.FloatText(\n",
    "    value=0.5,\n",
    "    description='X:',\n",
    "    disabled=False,\n",
    "    step=0.1\n",
    ")\n",
    "\n",
    "y_input = widgets.FloatText(\n",
    "    value=0.0,\n",
    "    description='Y:',\n",
    "    disabled=False,\n",
    "    step=0.1\n",
    ")\n",
    "\n",
    "rotation_slider = widgets.IntSlider(\n",
    "    value=30,\n",
    "    min=-180,\n",
    "    max=180,\n",
    "    step=5,\n",
    "    description='Rotation:',\n",
    "    disabled=False,\n",
    "    continuous_update=True,\n",
    "    orientation='horizontal',\n",
    "    readout=True,\n",
    "    readout_format='d'\n",
    ")\n",
    "\n",
    "output_area = widgets.Output()\n",
    "\n",
    "# Create function to update the visualization based on widget values\n",
    "def update_visualization(x, y, rotation):\n",
    "    with output_area:\n",
    "        clear_output(wait=True)\n",
    "        fig = create_2d_visualization(\n",
    "            points=[[1.5, 1, \"P\", \"blue\", 1]],  # Point showing coords relative to frame 1\n",
    "            frames=[\n",
    "                [0, 0, 0, \"\"],                 # Frame at origin\n",
    "                [x, y, rotation, \"Rotated \"]   # Frame with user-defined translation and rotation\n",
    "            ]\n",
    "        )\n",
    "        fig.show()\n",
    "\n",
    "# Function to handle widget changes\n",
    "def on_value_change(change):\n",
    "    update_visualization(x_input.value, y_input.value, rotation_slider.value)\n",
    "\n",
    "# Register callbacks\n",
    "x_input.observe(on_value_change, names='value')\n",
    "y_input.observe(on_value_change, names='value')\n",
    "rotation_slider.observe(on_value_change, names='value')\n",
    "\n",
    "# Create UI layout\n",
    "controls = widgets.HBox([x_input, y_input, rotation_slider])\n",
    "ui = widgets.VBox([controls, output_area])\n",
    "\n",
    "# Display the UI\n",
    "display(ui)\n",
    "\n",
    "# Show initial visualization\n",
    "update_visualization(x_input.value, y_input.value, rotation_slider.value)"
   ]
  }
 ],
 "metadata": {
  "kernelspec": {
   "display_name": "3.10.13",
   "language": "python",
   "name": "python3"
  },
  "language_info": {
   "codemirror_mode": {
    "name": "ipython",
    "version": 3
   },
   "file_extension": ".py",
   "mimetype": "text/x-python",
   "name": "python",
   "nbconvert_exporter": "python",
   "pygments_lexer": "ipython3",
   "version": "3.10.13"
  }
 },
 "nbformat": 4,
 "nbformat_minor": 5
}
